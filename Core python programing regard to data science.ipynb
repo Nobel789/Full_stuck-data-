{
 "cells": [
  {
   "cell_type": "code",
   "execution_count": null,
   "id": "533602a0-9bb2-4827-8950-feb8a15bc14c",
   "metadata": {},
   "outputs": [],
   "source": [
    "#Core programming regards to Data Science"
   ]
  },
  {
   "cell_type": "code",
   "execution_count": 1,
   "id": "dcae642f-37df-44c3-9cdf-ca600403b557",
   "metadata": {},
   "outputs": [
    {
     "data": {
      "text/plain": [
       "8"
      ]
     },
     "execution_count": 1,
     "metadata": {},
     "output_type": "execute_result"
    }
   ],
   "source": [
    "#int\n",
    "x=8\n",
    "x"
   ]
  },
  {
   "cell_type": "code",
   "execution_count": 2,
   "id": "3d40ffc6-0d1e-453f-a3d8-4986da0cf5d0",
   "metadata": {},
   "outputs": [
    {
     "data": {
      "text/plain": [
       "int"
      ]
     },
     "execution_count": 2,
     "metadata": {},
     "output_type": "execute_result"
    }
   ],
   "source": [
    "type(x)"
   ]
  },
  {
   "cell_type": "code",
   "execution_count": 3,
   "id": "4a3e604f-d51d-4ca8-aaf2-1c5b6e6feb58",
   "metadata": {},
   "outputs": [
    {
     "data": {
      "text/plain": [
       "4.5"
      ]
     },
     "execution_count": 3,
     "metadata": {},
     "output_type": "execute_result"
    }
   ],
   "source": [
    "y=4.5\n",
    "y"
   ]
  },
  {
   "cell_type": "code",
   "execution_count": 4,
   "id": "390e7092-d18f-4a1e-9236-18a28b911f47",
   "metadata": {},
   "outputs": [
    {
     "data": {
      "text/plain": [
       "float"
      ]
     },
     "execution_count": 4,
     "metadata": {},
     "output_type": "execute_result"
    }
   ],
   "source": [
    "type(y)"
   ]
  },
  {
   "cell_type": "code",
   "execution_count": 5,
   "id": "27e93460-3517-4d8e-a49d-5c5379c27353",
   "metadata": {},
   "outputs": [
    {
     "data": {
      "text/plain": [
       "(8, 4.5)"
      ]
     },
     "execution_count": 5,
     "metadata": {},
     "output_type": "execute_result"
    }
   ],
   "source": [
    "x,y"
   ]
  },
  {
   "cell_type": "code",
   "execution_count": 6,
   "id": "16b4f06b-34a0-4c78-8106-fed239add364",
   "metadata": {},
   "outputs": [
    {
     "data": {
      "text/plain": [
       "[12, 34, 56, 67]"
      ]
     },
     "execution_count": 6,
     "metadata": {},
     "output_type": "execute_result"
    }
   ],
   "source": [
    "#list\n",
    "x=[12,34,56,67]\n",
    "x"
   ]
  },
  {
   "cell_type": "code",
   "execution_count": 7,
   "id": "d891ef1e-e4c1-464b-b1d7-b382889e6925",
   "metadata": {},
   "outputs": [
    {
     "data": {
      "text/plain": [
       "{6, 7, 8, 9}"
      ]
     },
     "execution_count": 7,
     "metadata": {},
     "output_type": "execute_result"
    }
   ],
   "source": [
    "#set\n",
    "y={9,8,7,6}\n",
    "y"
   ]
  },
  {
   "cell_type": "code",
   "execution_count": 8,
   "id": "56155348-7f99-43ed-83dd-95cc127c933a",
   "metadata": {},
   "outputs": [
    {
     "data": {
      "text/plain": [
       "(5, 6, 7)"
      ]
     },
     "execution_count": 8,
     "metadata": {},
     "output_type": "execute_result"
    }
   ],
   "source": [
    "#tuple\n",
    "z=(5,6,7,)\n",
    "z"
   ]
  },
  {
   "cell_type": "code",
   "execution_count": 9,
   "id": "eabacb73-d0df-42b1-857f-2d6cb70efebc",
   "metadata": {},
   "outputs": [
    {
     "data": {
      "text/plain": [
       "([12, 34, 56, 67], {6, 7, 8, 9}, (5, 6, 7))"
      ]
     },
     "execution_count": 9,
     "metadata": {},
     "output_type": "execute_result"
    }
   ],
   "source": [
    "x,y,z"
   ]
  },
  {
   "cell_type": "code",
   "execution_count": 10,
   "id": "ebad22a0-64e4-4850-a3c1-23346e8cf8ca",
   "metadata": {},
   "outputs": [
    {
     "data": {
      "text/plain": [
       "'0b110010'"
      ]
     },
     "execution_count": 10,
     "metadata": {},
     "output_type": "execute_result"
    }
   ],
   "source": [
    "bin (50)"
   ]
  },
  {
   "cell_type": "code",
   "execution_count": 11,
   "id": "372f0884-d8eb-4b5d-ac27-5a96dcc2eff7",
   "metadata": {},
   "outputs": [
    {
     "data": {
      "text/plain": [
       "'0o114'"
      ]
     },
     "execution_count": 11,
     "metadata": {},
     "output_type": "execute_result"
    }
   ],
   "source": [
    "oct(76)"
   ]
  },
  {
   "cell_type": "code",
   "execution_count": 12,
   "id": "9f656599-7e49-4af5-b4ab-f085130680d6",
   "metadata": {},
   "outputs": [
    {
     "data": {
      "text/plain": [
       "'father'"
      ]
     },
     "execution_count": 12,
     "metadata": {},
     "output_type": "execute_result"
    }
   ],
   "source": [
    "#string\n",
    "A=\"father\"\n",
    "A"
   ]
  },
  {
   "cell_type": "code",
   "execution_count": 13,
   "id": "b55b3f71-32a2-4b39-bd26-fe18f1d0e2fe",
   "metadata": {},
   "outputs": [
    {
     "data": {
      "text/plain": [
       "True"
      ]
     },
     "execution_count": 13,
     "metadata": {},
     "output_type": "execute_result"
    }
   ],
   "source": [
    "#Boolean and typecasting\n",
    "g=True\n",
    "g"
   ]
  },
  {
   "cell_type": "code",
   "execution_count": 14,
   "id": "9bb91bba-4abf-43e3-b557-0a7e49eed3a1",
   "metadata": {},
   "outputs": [
    {
     "data": {
      "text/plain": [
       "1"
      ]
     },
     "execution_count": 14,
     "metadata": {},
     "output_type": "execute_result"
    }
   ],
   "source": [
    "int(g)"
   ]
  },
  {
   "cell_type": "code",
   "execution_count": 15,
   "id": "d552e233-48d5-45d4-ab08-09dbea4fa357",
   "metadata": {},
   "outputs": [
    {
     "data": {
      "text/plain": [
       "False"
      ]
     },
     "execution_count": 15,
     "metadata": {},
     "output_type": "execute_result"
    }
   ],
   "source": [
    "F=False\n",
    "F"
   ]
  },
  {
   "cell_type": "code",
   "execution_count": 16,
   "id": "0a328cfa-1a40-42f8-940f-f43d3f45537d",
   "metadata": {},
   "outputs": [
    {
     "data": {
      "text/plain": [
       "bool"
      ]
     },
     "execution_count": 16,
     "metadata": {},
     "output_type": "execute_result"
    }
   ],
   "source": [
    "type(F)"
   ]
  },
  {
   "cell_type": "code",
   "execution_count": 17,
   "id": "830310a0-67f9-4769-80fa-3c3a960d8a2b",
   "metadata": {},
   "outputs": [
    {
     "data": {
      "text/plain": [
       "0"
      ]
     },
     "execution_count": 17,
     "metadata": {},
     "output_type": "execute_result"
    }
   ],
   "source": [
    "int(F)"
   ]
  },
  {
   "cell_type": "code",
   "execution_count": 18,
   "id": "d641bd83-59f2-4824-befb-676b3b6c6ed4",
   "metadata": {},
   "outputs": [
    {
     "data": {
      "text/plain": [
       "0.0"
      ]
     },
     "execution_count": 18,
     "metadata": {},
     "output_type": "execute_result"
    }
   ],
   "source": [
    "float(F)"
   ]
  },
  {
   "cell_type": "code",
   "execution_count": 20,
   "id": "00f899d5-84d8-4b09-b945-13a99648abf7",
   "metadata": {},
   "outputs": [
    {
     "data": {
      "text/plain": [
       "'False'"
      ]
     },
     "execution_count": 20,
     "metadata": {},
     "output_type": "execute_result"
    }
   ],
   "source": [
    "str(F)"
   ]
  },
  {
   "cell_type": "code",
   "execution_count": 21,
   "id": "11c381cf-ac98-4f88-b7c7-1668b908ab4b",
   "metadata": {},
   "outputs": [
    {
     "data": {
      "text/plain": [
       "154"
      ]
     },
     "execution_count": 21,
     "metadata": {},
     "output_type": "execute_result"
    }
   ],
   "source": [
    "#Arithmatic operation\n",
    "A=56\n",
    "B=98\n",
    "c=A+B\n",
    "c"
   ]
  },
  {
   "cell_type": "code",
   "execution_count": 22,
   "id": "e3e9e69d-841b-495d-b962-f8f20c4cedf7",
   "metadata": {},
   "outputs": [
    {
     "data": {
      "text/plain": [
       "1.75"
      ]
     },
     "execution_count": 22,
     "metadata": {},
     "output_type": "execute_result"
    }
   ],
   "source": [
    "D=B/A\n",
    "D"
   ]
  },
  {
   "cell_type": "code",
   "execution_count": 24,
   "id": "9f18f2ce-34b7-48c7-98e6-b3bbd23bfaf5",
   "metadata": {},
   "outputs": [
    {
     "data": {
      "text/plain": [
       "8624"
      ]
     },
     "execution_count": 24,
     "metadata": {},
     "output_type": "execute_result"
    }
   ],
   "source": [
    "E=A*c\n",
    "E"
   ]
  },
  {
   "cell_type": "code",
   "execution_count": 27,
   "id": "43e5d08c-91fb-448a-9372-f3f4d6aaa631",
   "metadata": {},
   "outputs": [
    {
     "data": {
      "text/plain": [
       "42"
      ]
     },
     "execution_count": 27,
     "metadata": {},
     "output_type": "execute_result"
    }
   ],
   "source": [
    "F=B-A\n",
    "F"
   ]
  },
  {
   "cell_type": "code",
   "execution_count": 30,
   "id": "c2559560-fa13-413e-ad77-d4afcb7c9ef9",
   "metadata": {},
   "outputs": [
    {
     "data": {
      "text/plain": [
       "False"
      ]
     },
     "execution_count": 30,
     "metadata": {},
     "output_type": "execute_result"
    }
   ],
   "source": [
    "a=56\n",
    "b=89\n",
    "a==b"
   ]
  },
  {
   "cell_type": "code",
   "execution_count": 31,
   "id": "27385179-8385-41c7-bb93-76c8a2ee6f80",
   "metadata": {},
   "outputs": [
    {
     "data": {
      "text/plain": [
       "False"
      ]
     },
     "execution_count": 31,
     "metadata": {},
     "output_type": "execute_result"
    }
   ],
   "source": [
    "not a"
   ]
  },
  {
   "cell_type": "code",
   "execution_count": 32,
   "id": "000ee83f-5367-4347-bc47-83fc223058fb",
   "metadata": {},
   "outputs": [],
   "source": [
    "import math"
   ]
  },
  {
   "cell_type": "code",
   "execution_count": 33,
   "id": "f5d65ee3-eff7-4107-9a5a-97887eef742a",
   "metadata": {},
   "outputs": [
    {
     "data": {
      "text/plain": [
       "5.477225575051661"
      ]
     },
     "execution_count": 33,
     "metadata": {},
     "output_type": "execute_result"
    }
   ],
   "source": [
    "math.sqrt(30)"
   ]
  },
  {
   "cell_type": "code",
   "execution_count": 35,
   "id": "3d75c589-0c9a-4393-bf95-5a8d1d1146c2",
   "metadata": {},
   "outputs": [
    {
     "data": {
      "text/plain": [
       "78"
      ]
     },
     "execution_count": 35,
     "metadata": {},
     "output_type": "execute_result"
    }
   ],
   "source": [
    "X=78\n",
    "X\n",
    "\n"
   ]
  },
  {
   "cell_type": "code",
   "execution_count": 36,
   "id": "a100680c-7ad9-4f5b-851e-b733b8105928",
   "metadata": {},
   "outputs": [
    {
     "data": {
      "text/plain": [
       "8.831760866327848"
      ]
     },
     "execution_count": 36,
     "metadata": {},
     "output_type": "execute_result"
    }
   ],
   "source": [
    "math.sqrt(X)"
   ]
  },
  {
   "cell_type": "code",
   "execution_count": 37,
   "id": "0bc14ee8-dbb5-4807-b779-46b52f28dc86",
   "metadata": {},
   "outputs": [
    {
     "data": {
      "text/plain": [
       "'gilais old'"
      ]
     },
     "execution_count": 37,
     "metadata": {},
     "output_type": "execute_result"
    }
   ],
   "source": [
    "#operation in string or catagorical value\n",
    "pi=\"gila\"\n",
    "toi= \"is old\"\n",
    "message=pi+toi\n",
    "message"
   ]
  },
  {
   "cell_type": "code",
   "execution_count": 38,
   "id": "6a42c3d4-7f5a-44c2-b4de-9dc1e3660245",
   "metadata": {},
   "outputs": [
    {
     "data": {
      "text/plain": [
       "True"
      ]
     },
     "execution_count": 38,
     "metadata": {},
     "output_type": "execute_result"
    }
   ],
   "source": [
    "#Boolean result with logiacl or comparison operation \n",
    "4<8"
   ]
  },
  {
   "cell_type": "code",
   "execution_count": 42,
   "id": "957a91c5-8ccb-42c6-a698-2f6f4da77d36",
   "metadata": {},
   "outputs": [
    {
     "data": {
      "text/plain": [
       "False"
      ]
     },
     "execution_count": 42,
     "metadata": {},
     "output_type": "execute_result"
    }
   ],
   "source": [
    "7 >= 200"
   ]
  },
  {
   "cell_type": "code",
   "execution_count": 43,
   "id": "f356b283-2cae-4dbc-ac45-f36e62ed8a3f",
   "metadata": {},
   "outputs": [
    {
     "data": {
      "text/plain": [
       "True"
      ]
     },
     "execution_count": 43,
     "metadata": {},
     "output_type": "execute_result"
    }
   ],
   "source": [
    "7<= 9"
   ]
  },
  {
   "cell_type": "code",
   "execution_count": 44,
   "id": "fc44b186-5ddb-4adc-a15e-c589b19dfd79",
   "metadata": {},
   "outputs": [
    {
     "data": {
      "text/plain": [
       "True"
      ]
     },
     "execution_count": 44,
     "metadata": {},
     "output_type": "execute_result"
    }
   ],
   "source": [
    "5>3"
   ]
  },
  {
   "cell_type": "code",
   "execution_count": 46,
   "id": "a1fbc88c-12fd-4546-9a59-e01b2f6cd904",
   "metadata": {},
   "outputs": [
    {
     "data": {
      "text/plain": [
       "False"
      ]
     },
     "execution_count": 46,
     "metadata": {},
     "output_type": "execute_result"
    }
   ],
   "source": [
    "result= not(5>1)\n",
    "result"
   ]
  },
  {
   "cell_type": "code",
   "execution_count": 47,
   "id": "7a7c7ddd-c04a-421d-a0bd-5671943db750",
   "metadata": {},
   "outputs": [
    {
     "data": {
      "text/plain": [
       "True"
      ]
     },
     "execution_count": 47,
     "metadata": {},
     "output_type": "execute_result"
    }
   ],
   "source": [
    "result1=5>2\n",
    "result1\n"
   ]
  },
  {
   "cell_type": "code",
   "execution_count": 49,
   "id": "46d364af-c85b-4779-b4a7-9494c661c80d",
   "metadata": {},
   "outputs": [
    {
     "data": {
      "text/plain": [
       "True"
      ]
     },
     "execution_count": 49,
     "metadata": {},
     "output_type": "execute_result"
    }
   ],
   "source": [
    "result2=2<5\n",
    "result2"
   ]
  },
  {
   "cell_type": "code",
   "execution_count": 50,
   "id": "ce1a17e2-7c63-4ae1-b2b9-c09e277a52d9",
   "metadata": {},
   "outputs": [
    {
     "data": {
      "text/plain": [
       "(True, True, False)"
      ]
     },
     "execution_count": 50,
     "metadata": {},
     "output_type": "execute_result"
    }
   ],
   "source": [
    "result1,result2,result"
   ]
  },
  {
   "cell_type": "code",
   "execution_count": 51,
   "id": "e5a5ae90-975c-48a6-8c5b-b8e5d2401ccc",
   "metadata": {},
   "outputs": [
    {
     "data": {
      "text/plain": [
       "True"
      ]
     },
     "execution_count": 51,
     "metadata": {},
     "output_type": "execute_result"
    }
   ],
   "source": [
    "result1&result2 or result"
   ]
  },
  {
   "cell_type": "code",
   "execution_count": 52,
   "id": "40d0f23b-0913-48cc-b8b8-7d0ca3c20cd5",
   "metadata": {},
   "outputs": [
    {
     "data": {
      "text/plain": [
       "True"
      ]
     },
     "execution_count": 52,
     "metadata": {},
     "output_type": "execute_result"
    }
   ],
   "source": [
    "result&result2 or result1"
   ]
  },
  {
   "cell_type": "code",
   "execution_count": 53,
   "id": "019aeb3a-6eeb-46c1-b8c3-48d89ca153aa",
   "metadata": {},
   "outputs": [
    {
     "data": {
      "text/plain": [
       "False"
      ]
     },
     "execution_count": 53,
     "metadata": {},
     "output_type": "execute_result"
    }
   ],
   "source": [
    "result1 &result2&result"
   ]
  },
  {
   "cell_type": "code",
   "execution_count": 54,
   "id": "f508d06c-9637-45b9-a56d-e33dd0a73ee8",
   "metadata": {},
   "outputs": [
    {
     "name": "stdout",
     "output_type": "stream",
     "text": [
      "end of program\n"
     ]
    }
   ],
   "source": [
    "##while loop\n",
    "num=15\n",
    "while num <11:\n",
    "    print(num)\n",
    "    num=num+1\n",
    "    \n",
    "print(\"end of program\")\n"
   ]
  },
  {
   "cell_type": "code",
   "execution_count": 55,
   "id": "6b457e31-0023-4e35-8588-51c36e3b648e",
   "metadata": {},
   "outputs": [
    {
     "data": {
      "text/plain": [
       "range(0, 5)"
      ]
     },
     "execution_count": 55,
     "metadata": {},
     "output_type": "execute_result"
    }
   ],
   "source": [
    "#Range function\n",
    "range(5)"
   ]
  },
  {
   "cell_type": "code",
   "execution_count": 56,
   "id": "26fe411e-f912-4fde-b0dc-367b91ed427b",
   "metadata": {},
   "outputs": [
    {
     "data": {
      "text/plain": [
       "range(10, 100, 10)"
      ]
     },
     "execution_count": 56,
     "metadata": {},
     "output_type": "execute_result"
    }
   ],
   "source": [
    "range(10,100,10)"
   ]
  },
  {
   "cell_type": "code",
   "execution_count": 57,
   "id": "d387de80-c477-46d1-a979-5fb0d7a3ae86",
   "metadata": {},
   "outputs": [
    {
     "name": "stdout",
     "output_type": "stream",
     "text": [
      "my name is nobel\n",
      "my name is nobel\n",
      "my name is nobel\n",
      "my name is nobel\n",
      "my name is nobel\n"
     ]
    }
   ],
   "source": [
    "#to write anything several timesuse range func with for loop\n",
    "for i in range(5):\n",
    "    print(\"my name is nobel\")"
   ]
  },
  {
   "cell_type": "code",
   "execution_count": 58,
   "id": "d69eac4b-1130-447a-94f1-7a4a7b6363b1",
   "metadata": {},
   "outputs": [
    {
     "name": "stdout",
     "output_type": "stream",
     "text": [
      "my name is nobel 0\n",
      "I live in tampere\n",
      "my name is nobel 1\n",
      "I live in tampere\n",
      "my name is nobel 2\n",
      "I live in tampere\n",
      "my name is nobel 3\n",
      "I live in tampere\n",
      "my name is nobel 4\n",
      "I live in tampere\n",
      "my name is nobel 5\n",
      "I live in tampere\n",
      "my name is nobel 6\n",
      "I live in tampere\n",
      "my name is nobel 7\n",
      "I live in tampere\n",
      "my name is nobel 8\n",
      "I live in tampere\n",
      "my name is nobel 9\n",
      "I live in tampere\n",
      "my name is nobel 10\n",
      "I live in tampere\n",
      "my name is nobel 11\n",
      "I live in tampere\n",
      "my name is nobel 12\n",
      "I live in tampere\n",
      "my name is nobel 13\n",
      "I live in tampere\n",
      "my name is nobel 14\n",
      "I live in tampere\n"
     ]
    }
   ],
   "source": [
    "for i in range(15):\n",
    "    print(\"my name is nobel\",i)\n",
    "    print(\"I live in tampere\")"
   ]
  },
  {
   "cell_type": "code",
   "execution_count": 59,
   "id": "bd52273d-ed9d-4905-952b-e7a7cbc13ddc",
   "metadata": {},
   "outputs": [
    {
     "name": "stdout",
     "output_type": "stream",
     "text": [
      "my name is nobel\n",
      "my name is nobel\n",
      "my name is nobel\n",
      "my name is nobel\n",
      "my name is nobel\n",
      "my name is nobel\n",
      "my name is nobel\n",
      "my name is nobel\n"
     ]
    }
   ],
   "source": [
    "for abc in range(8):\n",
    "    print(\"my name is nobel\")"
   ]
  },
  {
   "cell_type": "code",
   "execution_count": 60,
   "id": "b33068fc-6b2a-443a-b39a-176ae6a37b09",
   "metadata": {},
   "outputs": [
    {
     "data": {
      "text/plain": [
       "[50, 70, 78, 90, 43]"
      ]
     },
     "execution_count": 60,
     "metadata": {},
     "output_type": "execute_result"
    }
   ],
   "source": [
    "##List  operation\n",
    "L1=[50,70,78,90,43]\n",
    "L1"
   ]
  },
  {
   "cell_type": "code",
   "execution_count": 62,
   "id": "571fc673-c0e5-4ad2-b95b-cc0ba718ce3c",
   "metadata": {},
   "outputs": [
    {
     "data": {
      "text/plain": [
       "[50, 70, 78]"
      ]
     },
     "execution_count": 62,
     "metadata": {},
     "output_type": "execute_result"
    }
   ],
   "source": [
    "L1[:3]"
   ]
  },
  {
   "cell_type": "code",
   "execution_count": 63,
   "id": "e84d082e-2a7a-4f6d-b5d5-ca7a4cec38ff",
   "metadata": {},
   "outputs": [
    {
     "data": {
      "text/plain": [
       "[50, 70, 78, 90]"
      ]
     },
     "execution_count": 63,
     "metadata": {},
     "output_type": "execute_result"
    }
   ],
   "source": [
    "L1[:-1]"
   ]
  },
  {
   "cell_type": "code",
   "execution_count": 64,
   "id": "008ae6cb-94f7-416e-9885-f6c944c01b18",
   "metadata": {},
   "outputs": [
    {
     "data": {
      "text/plain": [
       "[50, 70, 78]"
      ]
     },
     "execution_count": 64,
     "metadata": {},
     "output_type": "execute_result"
    }
   ],
   "source": [
    "L1[:-2]"
   ]
  },
  {
   "cell_type": "code",
   "execution_count": 65,
   "id": "e18ff4c0-39fd-49a5-8b00-71b88c9aca97",
   "metadata": {},
   "outputs": [
    {
     "data": {
      "text/plain": [
       "[50, 70, 78, 90, 43]"
      ]
     },
     "execution_count": 65,
     "metadata": {},
     "output_type": "execute_result"
    }
   ],
   "source": [
    "L1[-6:]"
   ]
  },
  {
   "cell_type": "code",
   "execution_count": 66,
   "id": "215cff97-f76a-4331-9dc7-0fa1dc22e392",
   "metadata": {},
   "outputs": [
    {
     "data": {
      "text/plain": [
       "[43, 90, 78, 70, 50]"
      ]
     },
     "execution_count": 66,
     "metadata": {},
     "output_type": "execute_result"
    }
   ],
   "source": [
    "L1[::-1]"
   ]
  },
  {
   "cell_type": "code",
   "execution_count": 67,
   "id": "f038d623-139d-4191-be64-79e14c7d37c5",
   "metadata": {},
   "outputs": [
    {
     "name": "stdout",
     "output_type": "stream",
     "text": [
      "i is equual to: 50\n",
      "i is equual to: 70\n",
      "i is equual to: 78\n",
      "i is equual to: 90\n",
      "i is equual to: 43\n"
     ]
    }
   ],
   "source": [
    "for i in L1:\n",
    "    print(\"i is equual to:\",i)"
   ]
  },
  {
   "cell_type": "code",
   "execution_count": 68,
   "id": "71e7760a-f245-4bb8-a52d-502f49291ddf",
   "metadata": {},
   "outputs": [],
   "source": [
    "##numpy\n",
    "import numpy as np"
   ]
  },
  {
   "cell_type": "code",
   "execution_count": 69,
   "id": "b19ff2d0-36e4-4154-96f6-621d6eacd2b3",
   "metadata": {},
   "outputs": [
    {
     "data": {
      "text/plain": [
       "'1.23.5'"
      ]
     },
     "execution_count": 69,
     "metadata": {},
     "output_type": "execute_result"
    }
   ],
   "source": [
    "np.__version__"
   ]
  },
  {
   "cell_type": "code",
   "execution_count": 70,
   "id": "86934f37-b593-4a86-bf57-bda1a0bcbd8c",
   "metadata": {},
   "outputs": [],
   "source": [
    "import pandas as pd"
   ]
  },
  {
   "cell_type": "code",
   "execution_count": 71,
   "id": "0b11b6c4-9e2c-401f-b38c-849e15b8d66f",
   "metadata": {},
   "outputs": [
    {
     "data": {
      "text/plain": [
       "'1.5.3'"
      ]
     },
     "execution_count": 71,
     "metadata": {},
     "output_type": "execute_result"
    }
   ],
   "source": [
    "pd.__version__"
   ]
  },
  {
   "cell_type": "code",
   "execution_count": 75,
   "id": "fbaf15b2-e110-433a-80bf-118b77ba47f3",
   "metadata": {},
   "outputs": [],
   "source": [
    "from numpy.random import random"
   ]
  },
  {
   "cell_type": "code",
   "execution_count": 78,
   "id": "eff5dd46-d54b-4449-b68f-45980f519959",
   "metadata": {},
   "outputs": [
    {
     "data": {
      "text/plain": [
       "0.6105389757394935"
      ]
     },
     "execution_count": 78,
     "metadata": {},
     "output_type": "execute_result"
    }
   ],
   "source": [
    "x=random()\n",
    "x"
   ]
  },
  {
   "cell_type": "code",
   "execution_count": 92,
   "id": "14642366-9076-4246-8022-e30d0acf3709",
   "metadata": {},
   "outputs": [
    {
     "name": "stdout",
     "output_type": "stream",
     "text": [
      "your one time password is\n",
      "22121\n"
     ]
    }
   ],
   "source": [
    "#one time password generator with creating user generated func with for loop\n",
    "import random as r\n",
    "#define the function\n",
    "def otpgen():\n",
    "    otp=\"\"\n",
    "    for i in range(5):\n",
    "        otp+=str(r.randint(1,5))\n",
    "    print(\"your one time password is\")\n",
    "    print(otp)\n",
    "otpgen()"
   ]
  },
  {
   "cell_type": "code",
   "execution_count": 86,
   "id": "e9061803-89c0-4476-94a6-ff5c2cebef03",
   "metadata": {},
   "outputs": [
    {
     "name": "stdout",
     "output_type": "stream",
     "text": [
      "Your One Time Password is \n",
      "51\n"
     ]
    }
   ],
   "source": [
    "def otpgen():\n",
    "    otp=\"\"\n",
    "    for i in range(2):\n",
    "        otp+=str(r.randint(1,5))\n",
    "    print (\"Your One Time Password is \")\n",
    "    print (otp)\n",
    "otpgen()"
   ]
  },
  {
   "cell_type": "code",
   "execution_count": 99,
   "id": "d30564c8-1066-442a-8d3e-425fa3025cbb",
   "metadata": {},
   "outputs": [
    {
     "name": "stdout",
     "output_type": "stream",
     "text": [
      "bad\n"
     ]
    }
   ],
   "source": [
    "#if ,else statement\n",
    "x = random()\n",
    "if x > 7:\n",
    "    print(\"He is good\")\n",
    "else:\n",
    "    print(\"bad\")"
   ]
  },
  {
   "cell_type": "code",
   "execution_count": null,
   "id": "a8abec0c-92b6-40e8-bdbd-164aa561c06f",
   "metadata": {},
   "outputs": [],
   "source": [
    "##Advanced slicing"
   ]
  },
  {
   "cell_type": "code",
   "execution_count": 101,
   "id": "5f912a06-15a9-40d0-980c-4739187b1fb0",
   "metadata": {},
   "outputs": [
    {
     "data": {
      "text/plain": [
       "[1, 2, 3, 4, 5, 6, 7, 8, 9]"
      ]
     },
     "execution_count": 101,
     "metadata": {},
     "output_type": "execute_result"
    }
   ],
   "source": [
    "x=[1,2,3,4,5,6,7,8,9]\n",
    "x"
   ]
  },
  {
   "cell_type": "code",
   "execution_count": 102,
   "id": "e68f7dcc-b959-4741-95c3-e0a8d41e26fa",
   "metadata": {},
   "outputs": [
    {
     "data": {
      "text/plain": [
       "[1, 3, 5, 7]"
      ]
     },
     "execution_count": 102,
     "metadata": {},
     "output_type": "execute_result"
    }
   ],
   "source": [
    "x[0:7:2]"
   ]
  },
  {
   "cell_type": "code",
   "execution_count": 105,
   "id": "a4135a20-5f7c-4d77-b0bb-09567a846f84",
   "metadata": {},
   "outputs": [
    {
     "data": {
      "text/plain": [
       "9"
      ]
     },
     "execution_count": 105,
     "metadata": {},
     "output_type": "execute_result"
    }
   ],
   "source": [
    "max(x)"
   ]
  },
  {
   "cell_type": "code",
   "execution_count": 106,
   "id": "a5bfb55b-9e49-4b8c-9c7e-fd4299ec32ea",
   "metadata": {},
   "outputs": [
    {
     "data": {
      "text/plain": [
       "1"
      ]
     },
     "execution_count": 106,
     "metadata": {},
     "output_type": "execute_result"
    }
   ],
   "source": [
    "min(x)"
   ]
  },
  {
   "cell_type": "code",
   "execution_count": 109,
   "id": "c732e6cc-7d32-4a04-8800-fba2e1d599d5",
   "metadata": {},
   "outputs": [
    {
     "data": {
      "text/plain": [
       "45"
      ]
     },
     "execution_count": 109,
     "metadata": {},
     "output_type": "execute_result"
    }
   ],
   "source": [
    "sum(x)"
   ]
  },
  {
   "cell_type": "code",
   "execution_count": 110,
   "id": "ad7d73a1-8aa0-43f2-a23d-dc1f9a15ef5e",
   "metadata": {},
   "outputs": [
    {
     "data": {
      "text/plain": [
       "9"
      ]
     },
     "execution_count": 110,
     "metadata": {},
     "output_type": "execute_result"
    }
   ],
   "source": [
    "len(x)"
   ]
  },
  {
   "cell_type": "code",
   "execution_count": 111,
   "id": "7baaa0f2-1b34-40ec-8098-4189bcbd4762",
   "metadata": {},
   "outputs": [
    {
     "data": {
      "text/plain": [
       "5.0"
      ]
     },
     "execution_count": 111,
     "metadata": {},
     "output_type": "execute_result"
    }
   ],
   "source": [
    "mean=sum(x)/len(x)\n",
    "mean"
   ]
  },
  {
   "cell_type": "code",
   "execution_count": null,
   "id": "89422046-4b4a-449d-b8eb-6fde00067a8d",
   "metadata": {},
   "outputs": [],
   "source": []
  }
 ],
 "metadata": {
  "kernelspec": {
   "display_name": "Python 3 (ipykernel)",
   "language": "python",
   "name": "python3"
  },
  "language_info": {
   "codemirror_mode": {
    "name": "ipython",
    "version": 3
   },
   "file_extension": ".py",
   "mimetype": "text/x-python",
   "name": "python",
   "nbconvert_exporter": "python",
   "pygments_lexer": "ipython3",
   "version": "3.10.9"
  }
 },
 "nbformat": 4,
 "nbformat_minor": 5
}
