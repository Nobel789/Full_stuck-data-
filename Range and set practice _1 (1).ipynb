{
 "cells": [
  {
   "cell_type": "code",
   "execution_count": null,
   "id": "8ae1ba4c-5de0-4076-ae7c-f75e66a4495d",
   "metadata": {},
   "outputs": [],
   "source": [
    "#in python which is the most common data structure - range()\n",
    "range() datatypes represent a sequence of values\n",
    "always immutable\n",
    "Creating a range object: The range() function can be used to create a range object. The general syntax of the function is range(start, stop, step), where start is the starting number (inclusive), stop is the ending number (exclusive), and step is the amount by which the numbers increase from start to stop. If start is not specified, it defaults to 0. If step is not specified, it defaults to 1.\n",
    "\n",
    "Iterating through a range: The range() function can be used in a for loop to iterate through a range of numbers. \n"
   ]
  },
  {
   "cell_type": "code",
   "execution_count": 1,
   "id": "43720bb6-0263-4909-be26-bb3107c77b5b",
   "metadata": {},
   "outputs": [
    {
     "data": {
      "text/plain": [
       "range(0, 5)"
      ]
     },
     "execution_count": 1,
     "metadata": {},
     "output_type": "execute_result"
    }
   ],
   "source": [
    "#define range with range function\n",
    "x=range(5)\n",
    "x"
   ]
  },
  {
   "cell_type": "code",
   "execution_count": 2,
   "id": "fa4d8e59-259c-4a86-967f-6e88191684ae",
   "metadata": {},
   "outputs": [
    {
     "data": {
      "text/plain": [
       "range(0, 100)"
      ]
     },
     "execution_count": 2,
     "metadata": {},
     "output_type": "execute_result"
    }
   ],
   "source": [
    "x1=range(100)\n",
    "x1"
   ]
  },
  {
   "cell_type": "code",
   "execution_count": 3,
   "id": "63e44a77-7408-4a06-9bb7-fe14fe7bbff5",
   "metadata": {},
   "outputs": [
    {
     "data": {
      "text/plain": [
       "range(10, 50)"
      ]
     },
     "execution_count": 3,
     "metadata": {},
     "output_type": "execute_result"
    }
   ],
   "source": [
    "#two parameter\n",
    "x2=range(10,50)\n",
    "x2"
   ]
  },
  {
   "cell_type": "code",
   "execution_count": 7,
   "id": "5f5c118e-77c6-4df9-b9fe-b3482e02f9d7",
   "metadata": {},
   "outputs": [
    {
     "data": {
      "text/plain": [
       "[1,\n",
       " 2,\n",
       " 3,\n",
       " 4,\n",
       " 5,\n",
       " 6,\n",
       " 7,\n",
       " 8,\n",
       " 9,\n",
       " 10,\n",
       " 11,\n",
       " 12,\n",
       " 13,\n",
       " 14,\n",
       " 15,\n",
       " 16,\n",
       " 17,\n",
       " 18,\n",
       " 19,\n",
       " 20,\n",
       " 21,\n",
       " 22,\n",
       " 23,\n",
       " 24,\n",
       " 25,\n",
       " 26,\n",
       " 27,\n",
       " 28,\n",
       " 29,\n",
       " 30,\n",
       " 31,\n",
       " 32,\n",
       " 33,\n",
       " 34,\n",
       " 35,\n",
       " 36,\n",
       " 37,\n",
       " 38,\n",
       " 39,\n",
       " 40,\n",
       " 41,\n",
       " 42,\n",
       " 43,\n",
       " 44,\n",
       " 45,\n",
       " 46,\n",
       " 47,\n",
       " 48,\n",
       " 49,\n",
       " 50,\n",
       " 51,\n",
       " 52,\n",
       " 53,\n",
       " 54,\n",
       " 55,\n",
       " 56,\n",
       " 57,\n",
       " 58,\n",
       " 59,\n",
       " 60,\n",
       " 61,\n",
       " 62,\n",
       " 63,\n",
       " 64,\n",
       " 65,\n",
       " 66,\n",
       " 67,\n",
       " 68,\n",
       " 69,\n",
       " 70,\n",
       " 71,\n",
       " 72,\n",
       " 73,\n",
       " 74,\n",
       " 75,\n",
       " 76,\n",
       " 77,\n",
       " 78,\n",
       " 79,\n",
       " 80,\n",
       " 81,\n",
       " 82,\n",
       " 83,\n",
       " 84,\n",
       " 85,\n",
       " 86,\n",
       " 87,\n",
       " 88,\n",
       " 89,\n",
       " 90,\n",
       " 91,\n",
       " 92,\n",
       " 93,\n",
       " 94,\n",
       " 95,\n",
       " 96,\n",
       " 97,\n",
       " 98,\n",
       " 99]"
      ]
     },
     "execution_count": 7,
     "metadata": {},
     "output_type": "execute_result"
    }
   ],
   "source": [
    "#convert range to list\n",
    "x3=list(range(1,100))\n",
    "x3"
   ]
  },
  {
   "cell_type": "code",
   "execution_count": 10,
   "id": "357e3656-9d72-434a-a0a9-8601183da7f7",
   "metadata": {},
   "outputs": [
    {
     "data": {
      "text/plain": [
       "range(5, 10, 2)"
      ]
     },
     "execution_count": 10,
     "metadata": {},
     "output_type": "execute_result"
    }
   ],
   "source": [
    "#with certain step an 3 parameter\n",
    "x4=range(5,10,2)\n",
    "x4"
   ]
  },
  {
   "cell_type": "code",
   "execution_count": 12,
   "id": "5e99ca82-00fd-4412-86ef-fd37c5289525",
   "metadata": {},
   "outputs": [
    {
     "data": {
      "text/plain": [
       "[5, 7, 9]"
      ]
     },
     "execution_count": 12,
     "metadata": {},
     "output_type": "execute_result"
    }
   ],
   "source": [
    "x4=list(range(5,10,2))\n",
    "x4"
   ]
  },
  {
   "cell_type": "code",
   "execution_count": 13,
   "id": "f7bb38dc-c950-418f-a291-28820d006d13",
   "metadata": {},
   "outputs": [
    {
     "ename": "TypeError",
     "evalue": "range expected at most 3 arguments, got 4",
     "output_type": "error",
     "traceback": [
      "\u001b[0;31m---------------------------------------------------------------------------\u001b[0m",
      "\u001b[0;31mTypeError\u001b[0m                                 Traceback (most recent call last)",
      "Cell \u001b[0;32mIn[13], line 2\u001b[0m\n\u001b[1;32m      1\u001b[0m \u001b[38;5;66;03m#range expected at most 3 arguments\u001b[39;00m\n\u001b[0;32m----> 2\u001b[0m \u001b[38;5;28mlist\u001b[39m(\u001b[38;5;28;43mrange\u001b[39;49m\u001b[43m(\u001b[49m\u001b[38;5;241;43m5\u001b[39;49m\u001b[43m,\u001b[49m\u001b[38;5;241;43m20\u001b[39;49m\u001b[43m,\u001b[49m\u001b[38;5;241;43m3\u001b[39;49m\u001b[43m,\u001b[49m\u001b[38;5;241;43m4\u001b[39;49m\u001b[43m)\u001b[49m)\n",
      "\u001b[0;31mTypeError\u001b[0m: range expected at most 3 arguments, got 4"
     ]
    }
   ],
   "source": [
    "#range expected at most 3 arguments\n",
    "list(range(5,20,3,4))"
   ]
  },
  {
   "cell_type": "code",
   "execution_count": 14,
   "id": "404bcb7c-6b25-4bb9-bd93-37677db2839b",
   "metadata": {},
   "outputs": [
    {
     "data": {
      "text/plain": [
       "range(0, 20)"
      ]
     },
     "execution_count": 14,
     "metadata": {},
     "output_type": "execute_result"
    }
   ],
   "source": [
    "#if we pass one or two argument\n",
    "t=range(20)\n",
    "t"
   ]
  },
  {
   "cell_type": "code",
   "execution_count": 15,
   "id": "2541724c-99f4-43e7-b7b3-0ad0a245696e",
   "metadata": {},
   "outputs": [
    {
     "data": {
      "text/plain": [
       "range(30, 50)"
      ]
     },
     "execution_count": 15,
     "metadata": {},
     "output_type": "execute_result"
    }
   ],
   "source": [
    "d=range(30,50)\n",
    "d"
   ]
  },
  {
   "cell_type": "code",
   "execution_count": 16,
   "id": "47d32bb9-c266-4462-89c5-65eacd9668d2",
   "metadata": {},
   "outputs": [
    {
     "name": "stdout",
     "output_type": "stream",
     "text": [
      "30\n",
      "31\n",
      "32\n",
      "33\n",
      "34\n",
      "35\n",
      "36\n",
      "37\n",
      "38\n",
      "39\n",
      "40\n",
      "41\n",
      "42\n",
      "43\n",
      "44\n",
      "45\n",
      "46\n",
      "47\n",
      "48\n",
      "49\n"
     ]
    }
   ],
   "source": [
    "#we can run for loop to acces the range element \n",
    "for i in d:\n",
    "    print(i)"
   ]
  },
  {
   "cell_type": "code",
   "execution_count": 19,
   "id": "fa2038f2-a3ed-49b2-b273-b4781596cee3",
   "metadata": {},
   "outputs": [
    {
     "name": "stdout",
     "output_type": "stream",
     "text": [
      "30\n",
      "31\n",
      "32\n",
      "33\n",
      "34\n",
      "35\n",
      "36\n",
      "37\n",
      "38\n",
      "39\n",
      "40\n",
      "41\n",
      "42\n",
      "43\n",
      "44\n",
      "45\n",
      "46\n",
      "47\n",
      "48\n",
      "49\n"
     ]
    }
   ],
   "source": [
    "#we can also convert range to list and run for loop\n",
    "e=list(d)\n",
    "for a in e:\n",
    "    print(a)"
   ]
  },
  {
   "cell_type": "code",
   "execution_count": 20,
   "id": "467c1fe2-8fcb-4f4d-bf9e-1b329d100513",
   "metadata": {},
   "outputs": [
    {
     "ename": "TypeError",
     "evalue": "'float' object cannot be interpreted as an integer",
     "output_type": "error",
     "traceback": [
      "\u001b[0;31m---------------------------------------------------------------------------\u001b[0m",
      "\u001b[0;31mTypeError\u001b[0m                                 Traceback (most recent call last)",
      "Cell \u001b[0;32mIn[20], line 2\u001b[0m\n\u001b[1;32m      1\u001b[0m \u001b[38;5;66;03m#float' object cannot be interpreted as an integer in range\u001b[39;00m\n\u001b[0;32m----> 2\u001b[0m u\u001b[38;5;241m=\u001b[39m\u001b[38;5;28;43mrange\u001b[39;49m\u001b[43m(\u001b[49m\u001b[38;5;241;43m10.34\u001b[39;49m\u001b[43m,\u001b[49m\u001b[38;5;241;43m76.7\u001b[39;49m\u001b[43m)\u001b[49m\n\u001b[1;32m      3\u001b[0m u\n",
      "\u001b[0;31mTypeError\u001b[0m: 'float' object cannot be interpreted as an integer"
     ]
    }
   ],
   "source": [
    "#float' object cannot be interpreted as an integer in range\n",
    "u=range(10.34,76.7)\n",
    "u\n"
   ]
  },
  {
   "cell_type": "code",
   "execution_count": 22,
   "id": "23ad681e-0654-452c-877d-6eaf7c3cdcaf",
   "metadata": {},
   "outputs": [
    {
     "name": "stdout",
     "output_type": "stream",
     "text": [
      "5 is in the range\n"
     ]
    }
   ],
   "source": [
    "#Checking if a value is in a range\n",
    "k = range(0, 10)\n",
    "if 5 in k:\n",
    "    print(\"5 is in the range\")"
   ]
  },
  {
   "cell_type": "code",
   "execution_count": 23,
   "id": "aef3429e-4192-4e1b-b09a-34b1a224d99d",
   "metadata": {},
   "outputs": [
    {
     "data": {
      "text/plain": [
       "10"
      ]
     },
     "execution_count": 23,
     "metadata": {},
     "output_type": "execute_result"
    }
   ],
   "source": [
    "# find length of range\n",
    "len(k)"
   ]
  },
  {
   "cell_type": "code",
   "execution_count": 76,
   "id": "2099aaf6-da8d-4023-8f92-0787217d6f0a",
   "metadata": {},
   "outputs": [
    {
     "data": {
      "text/plain": [
       "9"
      ]
     },
     "execution_count": 76,
     "metadata": {},
     "output_type": "execute_result"
    }
   ],
   "source": [
    "#acccesing the elements\n",
    "k[9]\n"
   ]
  },
  {
   "cell_type": "code",
   "execution_count": 77,
   "id": "289ca7c6-26a6-464c-b0be-8cd27fa65d13",
   "metadata": {},
   "outputs": [
    {
     "data": {
      "text/plain": [
       "range(0, 3)"
      ]
     },
     "execution_count": 77,
     "metadata": {},
     "output_type": "execute_result"
    }
   ],
   "source": [
    "#if apply slice in range its give range not all the value\n",
    "k[0:3]"
   ]
  },
  {
   "cell_type": "code",
   "execution_count": null,
   "id": "58239099-89c6-4da9-9ee5-c42630ec8421",
   "metadata": {},
   "outputs": [],
   "source": [
    "#Difference between list and set\n",
    "list allows duplication while set not\n",
    "list mutable while set not\n",
    "list have order rule in set no specific order\n",
    "Lists are often used when the order of elements is important and when duplicate elements are needed, while sets are often used when unique elements are required and the order is not important."
   ]
  },
  {
   "cell_type": "code",
   "execution_count": 36,
   "id": "86856b15-b186-4696-bd80-0258732e52ce",
   "metadata": {},
   "outputs": [],
   "source": [
    "# creating set in two ways, mostly use with second bracket\n",
    "\n",
    "set1 = {1, 2, 3}\n",
    "set2 = set([4, 2, 3])"
   ]
  },
  {
   "cell_type": "code",
   "execution_count": 38,
   "id": "7478c03c-80b3-44a6-9d56-9bc508a80d41",
   "metadata": {},
   "outputs": [
    {
     "data": {
      "text/plain": [
       "{1, 2, 3, 'kamila'}"
      ]
     },
     "execution_count": 38,
     "metadata": {},
     "output_type": "execute_result"
    }
   ],
   "source": [
    "#add & remove method is use for SET but append method is used only for LIST\n",
    "set1.add(\"kamila\")\n",
    "set1"
   ]
  },
  {
   "cell_type": "code",
   "execution_count": 39,
   "id": "7928cef1-6ef0-48c2-bf46-fe8c4eb686b4",
   "metadata": {},
   "outputs": [
    {
     "data": {
      "text/plain": [
       "{1, 2, 3}"
      ]
     },
     "execution_count": 39,
     "metadata": {},
     "output_type": "execute_result"
    }
   ],
   "source": [
    "set1.remove(\"kamila\")\n",
    "set1"
   ]
  },
  {
   "cell_type": "code",
   "execution_count": 51,
   "id": "a4957c7e-2003-4aaa-a2dd-08ae12175a0a",
   "metadata": {},
   "outputs": [
    {
     "data": {
      "text/plain": [
       "{1, 2, 3, 'b', 'c'}"
      ]
     },
     "execution_count": 51,
     "metadata": {},
     "output_type": "execute_result"
    }
   ],
   "source": [
    "#by update function you can add more elements\n",
    "set1.update(\"b\",\"c\")\n",
    "set1\n"
   ]
  },
  {
   "cell_type": "code",
   "execution_count": 45,
   "id": "b4c3f273-e01c-468d-b5e4-1bded6596dce",
   "metadata": {},
   "outputs": [
    {
     "ename": "TypeError",
     "evalue": "set.add() takes exactly one argument (2 given)",
     "output_type": "error",
     "traceback": [
      "\u001b[0;31m---------------------------------------------------------------------------\u001b[0m",
      "\u001b[0;31mTypeError\u001b[0m                                 Traceback (most recent call last)",
      "Cell \u001b[0;32mIn[45], line 1\u001b[0m\n\u001b[0;32m----> 1\u001b[0m \u001b[43mset1\u001b[49m\u001b[38;5;241;43m.\u001b[39;49m\u001b[43madd\u001b[49m\u001b[43m(\u001b[49m\u001b[38;5;241;43m10\u001b[39;49m\u001b[43m,\u001b[49m\u001b[38;5;241;43m12\u001b[39;49m\u001b[43m)\u001b[49m\n\u001b[1;32m      2\u001b[0m set1\n",
      "\u001b[0;31mTypeError\u001b[0m: set.add() takes exactly one argument (2 given)"
     ]
    }
   ],
   "source": [
    "set1.add(10,12)\n",
    "set1"
   ]
  },
  {
   "cell_type": "code",
   "execution_count": 34,
   "id": "f3339ae4-5c82-4251-9609-52321d9555ad",
   "metadata": {},
   "outputs": [
    {
     "data": {
      "text/plain": [
       "{3, 4, 'tara', 'tinku'}"
      ]
     },
     "execution_count": 34,
     "metadata": {},
     "output_type": "execute_result"
    }
   ],
   "source": [
    "#not count duplication, you see 4 is missing \n",
    "set_3={\"tinku\",\"tara\",4, 3,4}\n",
    "set_3"
   ]
  },
  {
   "cell_type": "code",
   "execution_count": 41,
   "id": "0e364938-1c5a-46c7-a91d-b473f247cd61",
   "metadata": {},
   "outputs": [
    {
     "data": {
      "text/plain": [
       "{1, 2, 3, 4}"
      ]
     },
     "execution_count": 41,
     "metadata": {},
     "output_type": "execute_result"
    }
   ],
   "source": [
    "#Union of sets: The union of two sets can be obtained using the | operator or the union() method. \n",
    "se4=set1 |set2\n",
    "se4"
   ]
  },
  {
   "cell_type": "code",
   "execution_count": 42,
   "id": "77cf62b9-ba39-4f38-8e6f-b76ece2f32d4",
   "metadata": {},
   "outputs": [
    {
     "data": {
      "text/plain": [
       "{1, 2, 3, 4}"
      ]
     },
     "execution_count": 42,
     "metadata": {},
     "output_type": "execute_result"
    }
   ],
   "source": [
    "set_5=set1.union(set2)\n",
    "set_5"
   ]
  },
  {
   "cell_type": "code",
   "execution_count": 43,
   "id": "cc0c7eea-70a0-42ca-96c9-32c68958ebcf",
   "metadata": {},
   "outputs": [
    {
     "data": {
      "text/plain": [
       "{2, 3}"
      ]
     },
     "execution_count": 43,
     "metadata": {},
     "output_type": "execute_result"
    }
   ],
   "source": [
    "#intersection of sets: The intersection of two sets can be obtained using the & operator or the intersection() method\n",
    "se7=set1&set2\n",
    "se7"
   ]
  },
  {
   "cell_type": "code",
   "execution_count": 44,
   "id": "3456fe07-24c5-4062-a113-03161cca17d7",
   "metadata": {},
   "outputs": [
    {
     "data": {
      "text/plain": [
       "{2, 3}"
      ]
     },
     "execution_count": 44,
     "metadata": {},
     "output_type": "execute_result"
    }
   ],
   "source": [
    "se8=set1.intersection(set2)\n",
    "se8"
   ]
  },
  {
   "cell_type": "code",
   "execution_count": 46,
   "id": "a1768822-3471-4c00-94aa-1615881ee997",
   "metadata": {},
   "outputs": [
    {
     "ename": "TypeError",
     "evalue": "'set' object is not subscriptable",
     "output_type": "error",
     "traceback": [
      "\u001b[0;31m---------------------------------------------------------------------------\u001b[0m",
      "\u001b[0;31mTypeError\u001b[0m                                 Traceback (most recent call last)",
      "Cell \u001b[0;32mIn[46], line 2\u001b[0m\n\u001b[1;32m      1\u001b[0m \u001b[38;5;66;03m#you can acces element of set by order indeex\u001b[39;00m\n\u001b[0;32m----> 2\u001b[0m \u001b[43mset_5\u001b[49m\u001b[43m[\u001b[49m\u001b[38;5;241;43m2\u001b[39;49m\u001b[43m]\u001b[49m\n",
      "\u001b[0;31mTypeError\u001b[0m: 'set' object is not subscriptable"
     ]
    }
   ],
   "source": [
    "#you can acces element of set by order indeex\n",
    "set_5[2]"
   ]
  },
  {
   "cell_type": "code",
   "execution_count": 47,
   "id": "4fa64ee6-679c-4474-a3a0-d2976ce73def",
   "metadata": {},
   "outputs": [
    {
     "data": {
      "text/plain": [
       "{1, 4}"
      ]
     },
     "execution_count": 47,
     "metadata": {},
     "output_type": "execute_result"
    }
   ],
   "source": [
    "#Difference of sets: The difference of two sets can be obtained using the - operator or the difference() method.\n",
    "set_5.difference(se8)"
   ]
  },
  {
   "cell_type": "code",
   "execution_count": 49,
   "id": "dfbf3d41-01a2-4368-a74a-803c878f5e78",
   "metadata": {},
   "outputs": [
    {
     "data": {
      "text/plain": [
       "{1, 4}"
      ]
     },
     "execution_count": 49,
     "metadata": {},
     "output_type": "execute_result"
    }
   ],
   "source": [
    "#symmetric difference of sets: The symmetric difference of two sets can be obtained using the ^ operator or the symmetric_difference() method\n",
    "set_5.symmetric_difference(se8)"
   ]
  },
  {
   "cell_type": "code",
   "execution_count": 52,
   "id": "1b6258e7-8559-4e6c-9fff-3fc4d8dee260",
   "metadata": {},
   "outputs": [
    {
     "data": {
      "text/plain": [
       "({1, 2, 3, 'b', 'c'}, {2, 3, 4}, {2, 3})"
      ]
     },
     "execution_count": 52,
     "metadata": {},
     "output_type": "execute_result"
    }
   ],
   "source": [
    "set1,set2,se7"
   ]
  },
  {
   "cell_type": "code",
   "execution_count": 53,
   "id": "7a04ba21-33e8-4f2c-8972-b54a0779a23c",
   "metadata": {},
   "outputs": [
    {
     "data": {
      "text/plain": [
       "{2, 3}"
      ]
     },
     "execution_count": 53,
     "metadata": {},
     "output_type": "execute_result"
    }
   ],
   "source": [
    "#find the common element with intersection\n",
    "set1 & set2"
   ]
  },
  {
   "cell_type": "code",
   "execution_count": 54,
   "id": "903551d5-2ca8-4ff4-b3e0-b4a2afd545e6",
   "metadata": {},
   "outputs": [
    {
     "data": {
      "text/plain": [
       "{2, 3}"
      ]
     },
     "execution_count": 54,
     "metadata": {},
     "output_type": "execute_result"
    }
   ],
   "source": [
    "set1 & set2 & se7"
   ]
  },
  {
   "cell_type": "code",
   "execution_count": 55,
   "id": "5fa60044-ef9f-4961-a53b-983c84c9d333",
   "metadata": {},
   "outputs": [
    {
     "data": {
      "text/plain": [
       "{1, 'b', 'c'}"
      ]
     },
     "execution_count": 55,
     "metadata": {},
     "output_type": "execute_result"
    }
   ],
   "source": [
    "#subtraction\n",
    "set1-set2"
   ]
  },
  {
   "cell_type": "code",
   "execution_count": null,
   "id": "5f9dfc32-e982-4606-a89e-29b203d64c9f",
   "metadata": {},
   "outputs": [],
   "source": [
    "#FRozenset, main difference between sets and frozen sets in Python is that sets are mutable, while frozen sets are immutable. "
   ]
  },
  {
   "cell_type": "code",
   "execution_count": 56,
   "id": "48758f10-554b-4848-a103-9dfc53eed569",
   "metadata": {},
   "outputs": [
    {
     "data": {
      "text/plain": [
       "{10, 20, 30, 40, 70}"
      ]
     },
     "execution_count": 56,
     "metadata": {},
     "output_type": "execute_result"
    }
   ],
   "source": [
    "#only able to add one value at atime with add()function\n",
    "s3 = {10,20,30,40} \n",
    "s3.add(70)\n",
    "s3"
   ]
  },
  {
   "cell_type": "code",
   "execution_count": 78,
   "id": "234377a5-709d-459f-8835-46b5517f1769",
   "metadata": {},
   "outputs": [
    {
     "ename": "TypeError",
     "evalue": "set.add() takes exactly one argument (2 given)",
     "output_type": "error",
     "traceback": [
      "\u001b[0;31m---------------------------------------------------------------------------\u001b[0m",
      "\u001b[0;31mTypeError\u001b[0m                                 Traceback (most recent call last)",
      "Cell \u001b[0;32mIn[78], line 2\u001b[0m\n\u001b[1;32m      1\u001b[0m s3 \u001b[38;5;241m=\u001b[39m {\u001b[38;5;241m10\u001b[39m,\u001b[38;5;241m20\u001b[39m,\u001b[38;5;241m30\u001b[39m,\u001b[38;5;241m40\u001b[39m} \n\u001b[0;32m----> 2\u001b[0m \u001b[43ms3\u001b[49m\u001b[38;5;241;43m.\u001b[39;49m\u001b[43madd\u001b[49m\u001b[43m(\u001b[49m\u001b[38;5;241;43m70\u001b[39;49m\u001b[43m,\u001b[49m\u001b[38;5;241;43m80\u001b[39;49m\u001b[43m)\u001b[49m\n\u001b[1;32m      3\u001b[0m s3\n",
      "\u001b[0;31mTypeError\u001b[0m: set.add() takes exactly one argument (2 given)"
     ]
    }
   ],
   "source": [
    "#not more than more value\n",
    "s3 = {10,20,30,40} \n",
    "s3.add(70,80)\n",
    "s3"
   ]
  },
  {
   "cell_type": "code",
   "execution_count": 79,
   "id": "3af0abee-a476-42a3-8db3-4288ef2481cf",
   "metadata": {},
   "outputs": [
    {
     "ename": "AttributeError",
     "evalue": "'set' object has no attribute 'append'",
     "output_type": "error",
     "traceback": [
      "\u001b[0;31m---------------------------------------------------------------------------\u001b[0m",
      "\u001b[0;31mAttributeError\u001b[0m                            Traceback (most recent call last)",
      "Cell \u001b[0;32mIn[79], line 2\u001b[0m\n\u001b[1;32m      1\u001b[0m \u001b[38;5;66;03m#append () not work\u001b[39;00m\n\u001b[0;32m----> 2\u001b[0m \u001b[43ms3\u001b[49m\u001b[38;5;241;43m.\u001b[39;49m\u001b[43mappend\u001b[49m(tinku)\n",
      "\u001b[0;31mAttributeError\u001b[0m: 'set' object has no attribute 'append'"
     ]
    }
   ],
   "source": [
    "#append () not work\n",
    "s3.append(tinku)"
   ]
  },
  {
   "cell_type": "code",
   "execution_count": 81,
   "id": "892b3fe8-2048-4932-99c3-32cf5bdb9cb8",
   "metadata": {},
   "outputs": [
    {
     "ename": "TypeError",
     "evalue": "'set' object is not subscriptable",
     "output_type": "error",
     "traceback": [
      "\u001b[0;31m---------------------------------------------------------------------------\u001b[0m",
      "\u001b[0;31mTypeError\u001b[0m                                 Traceback (most recent call last)",
      "Cell \u001b[0;32mIn[81], line 2\u001b[0m\n\u001b[1;32m      1\u001b[0m \u001b[38;5;66;03m#index is not allowed in set\u001b[39;00m\n\u001b[0;32m----> 2\u001b[0m \u001b[43ms3\u001b[49m\u001b[43m[\u001b[49m\u001b[38;5;241;43m2\u001b[39;49m\u001b[43m]\u001b[49m\n",
      "\u001b[0;31mTypeError\u001b[0m: 'set' object is not subscriptable"
     ]
    }
   ],
   "source": [
    "#index is not allowed in set\n",
    "s3[2]"
   ]
  },
  {
   "cell_type": "code",
   "execution_count": 80,
   "id": "4a74364b-9115-41d9-8a6e-2f09ffbbf872",
   "metadata": {},
   "outputs": [
    {
     "ename": "TypeError",
     "evalue": "'set' object is not subscriptable",
     "output_type": "error",
     "traceback": [
      "\u001b[0;31m---------------------------------------------------------------------------\u001b[0m",
      "\u001b[0;31mTypeError\u001b[0m                                 Traceback (most recent call last)",
      "Cell \u001b[0;32mIn[80], line 1\u001b[0m\n\u001b[0;32m----> 1\u001b[0m \u001b[43ms3\u001b[49m\u001b[43m[\u001b[49m\u001b[38;5;241;43m1\u001b[39;49m\u001b[43m:\u001b[49m\u001b[38;5;241;43m4\u001b[39;49m\u001b[43m]\u001b[49m\n",
      "\u001b[0;31mTypeError\u001b[0m: 'set' object is not subscriptable"
     ]
    }
   ],
   "source": [
    "#slice not allowed in set \n",
    "s3[1:4]"
   ]
  },
  {
   "cell_type": "code",
   "execution_count": 82,
   "id": "e30339f3-65b3-487a-a8ee-cc1f3b3c98a3",
   "metadata": {},
   "outputs": [
    {
     "ename": "SyntaxError",
     "evalue": "cannot assign to function call here. Maybe you meant '==' instead of '='? (835032209.py, line 2)",
     "output_type": "error",
     "traceback": [
      "\u001b[0;36m  Cell \u001b[0;32mIn[82], line 2\u001b[0;36m\u001b[0m\n\u001b[0;31m    s3(3)=90\u001b[0m\n\u001b[0m    ^\u001b[0m\n\u001b[0;31mSyntaxError\u001b[0m\u001b[0;31m:\u001b[0m cannot assign to function call here. Maybe you meant '==' instead of '='?\n"
     ]
    }
   ],
   "source": [
    "#assigning the value with replace not allowed, So noted that if you not indexing you ultimately can not do slicing , assigning.\n",
    "s3(3)=90\n",
    "s3"
   ]
  },
  {
   "cell_type": "code",
   "execution_count": 83,
   "id": "aa95253a-b0cc-4ca6-aa5f-ccda8a33e83b",
   "metadata": {},
   "outputs": [
    {
     "data": {
      "text/plain": [
       "{10, 20, 30, 40}"
      ]
     },
     "execution_count": 83,
     "metadata": {},
     "output_type": "execute_result"
    }
   ],
   "source": [
    "s3"
   ]
  },
  {
   "cell_type": "code",
   "execution_count": 84,
   "id": "adf807ba-1e72-4c8d-bfcb-de0e15b4ff49",
   "metadata": {},
   "outputs": [
    {
     "name": "stdout",
     "output_type": "stream",
     "text": [
      "40\n",
      "10\n",
      "20\n",
      "30\n"
     ]
    }
   ],
   "source": [
    "#accesing the element of set by Fr loop \n",
    "for i in s3:\n",
    "    print(i)\n"
   ]
  },
  {
   "cell_type": "code",
   "execution_count": 86,
   "id": "74b016c2-52a2-4359-8b44-d033e38add85",
   "metadata": {},
   "outputs": [
    {
     "name": "stdout",
     "output_type": "stream",
     "text": [
      "(0, 40)\n",
      "(1, 10)\n",
      "(2, 20)\n",
      "(3, 30)\n"
     ]
    }
   ],
   "source": [
    "#with enamurate you can get of index of elemnts\n",
    "for i in enumerate(s3):\n",
    "    print(i)\n"
   ]
  },
  {
   "cell_type": "code",
   "execution_count": 87,
   "id": "8197f274-e29b-4899-b106-93f9662b6d2b",
   "metadata": {},
   "outputs": [
    {
     "data": {
      "text/plain": [
       "True"
      ]
     },
     "execution_count": 87,
     "metadata": {},
     "output_type": "execute_result"
    }
   ],
   "source": [
    "#membership check by in\n",
    "40 in s3"
   ]
  },
  {
   "cell_type": "code",
   "execution_count": 88,
   "id": "693b186a-2b5c-4f62-9873-864d3af318b7",
   "metadata": {},
   "outputs": [
    {
     "data": {
      "text/plain": [
       "False"
      ]
     },
     "execution_count": 88,
     "metadata": {},
     "output_type": "execute_result"
    }
   ],
   "source": [
    "50 in s3"
   ]
  },
  {
   "cell_type": "code",
   "execution_count": 90,
   "id": "99b6f167-f4d5-44c0-9ad8-f075cd5f1b0d",
   "metadata": {},
   "outputs": [
    {
     "data": {
      "text/plain": [
       "{10, 20, 30, 40}"
      ]
     },
     "execution_count": 90,
     "metadata": {},
     "output_type": "execute_result"
    }
   ],
   "source": [
    "#Discard function give result if either the element present or not present in your set\n",
    "s3.discard(50)\n",
    "s3"
   ]
  },
  {
   "cell_type": "code",
   "execution_count": 91,
   "id": "4746f462-b770-4ca4-8136-4d52d9008594",
   "metadata": {},
   "outputs": [
    {
     "ename": "KeyError",
     "evalue": "50",
     "output_type": "error",
     "traceback": [
      "\u001b[0;31m---------------------------------------------------------------------------\u001b[0m",
      "\u001b[0;31mKeyError\u001b[0m                                  Traceback (most recent call last)",
      "Cell \u001b[0;32mIn[91], line 2\u001b[0m\n\u001b[1;32m      1\u001b[0m \u001b[38;5;66;03m#but remove() give the error if not exist in set\u001b[39;00m\n\u001b[0;32m----> 2\u001b[0m \u001b[43ms3\u001b[49m\u001b[38;5;241;43m.\u001b[39;49m\u001b[43mremove\u001b[49m\u001b[43m(\u001b[49m\u001b[38;5;241;43m50\u001b[39;49m\u001b[43m)\u001b[49m\n\u001b[1;32m      3\u001b[0m s3\n",
      "\u001b[0;31mKeyError\u001b[0m: 50"
     ]
    }
   ],
   "source": [
    "#but remove() give the error if not exist in set\n",
    "s3.remove(50)\n",
    "s3"
   ]
  },
  {
   "cell_type": "code",
   "execution_count": 94,
   "id": "8d24c30d-9ac9-4220-b9ca-61b640020970",
   "metadata": {},
   "outputs": [
    {
     "data": {
      "text/plain": [
       "{10, 20, 30, 40}"
      ]
     },
     "execution_count": 94,
     "metadata": {},
     "output_type": "execute_result"
    }
   ],
   "source": [
    "s3"
   ]
  },
  {
   "cell_type": "code",
   "execution_count": 96,
   "id": "17ff9fff-3829-4db2-85c2-3bc9d2792bad",
   "metadata": {},
   "outputs": [
    {
     "data": {
      "text/plain": [
       "{10, 20, 30, 40}"
      ]
     },
     "execution_count": 96,
     "metadata": {},
     "output_type": "execute_result"
    }
   ],
   "source": [
    "#copy() function\n",
    "s4=s3.copy()\n",
    "s4"
   ]
  },
  {
   "cell_type": "code",
   "execution_count": 97,
   "id": "8c37c7f3-0c6d-47a7-8030-36d903338110",
   "metadata": {},
   "outputs": [
    {
     "data": {
      "text/plain": [
       "set()"
      ]
     },
     "execution_count": 97,
     "metadata": {},
     "output_type": "execute_result"
    }
   ],
   "source": [
    "#with clear function you can delete  all the elements\n",
    "s4.clear()\n",
    "s4"
   ]
  },
  {
   "cell_type": "code",
   "execution_count": 98,
   "id": "7d4177ef-1437-490e-ba33-126ad87d2f77",
   "metadata": {},
   "outputs": [
    {
     "data": {
      "text/plain": [
       "{10, 20, 30, 40}"
      ]
     },
     "execution_count": 98,
     "metadata": {},
     "output_type": "execute_result"
    }
   ],
   "source": [
    "s3"
   ]
  },
  {
   "cell_type": "code",
   "execution_count": 57,
   "id": "e786edca-5001-481d-8900-1ed4e9ccc12a",
   "metadata": {},
   "outputs": [
    {
     "data": {
      "text/plain": [
       "frozenset({10, 20, 30, 40, 70})"
      ]
     },
     "execution_count": 57,
     "metadata": {},
     "output_type": "execute_result"
    }
   ],
   "source": [
    "#convert set to frozenset\n",
    "fs = frozenset(s3)\n",
    "fs"
   ]
  },
  {
   "cell_type": "code",
   "execution_count": 58,
   "id": "1292383f-7976-4485-84e2-591e626083e0",
   "metadata": {},
   "outputs": [
    {
     "ename": "AttributeError",
     "evalue": "'frozenset' object has no attribute 'add'",
     "output_type": "error",
     "traceback": [
      "\u001b[0;31m---------------------------------------------------------------------------\u001b[0m",
      "\u001b[0;31mAttributeError\u001b[0m                            Traceback (most recent call last)",
      "Cell \u001b[0;32mIn[58], line 1\u001b[0m\n\u001b[0;32m----> 1\u001b[0m \u001b[43mfs\u001b[49m\u001b[38;5;241;43m.\u001b[39;49m\u001b[43madd\u001b[49m(\u001b[38;5;241m80\u001b[39m)\n",
      "\u001b[0;31mAttributeError\u001b[0m: 'frozenset' object has no attribute 'add'"
     ]
    }
   ],
   "source": [
    "fs.add(80)"
   ]
  },
  {
   "cell_type": "code",
   "execution_count": 59,
   "id": "f7357aa6-b52a-4cd7-82b6-6b026d3d4973",
   "metadata": {},
   "outputs": [
    {
     "ename": "AttributeError",
     "evalue": "'frozenset' object has no attribute 'remove'",
     "output_type": "error",
     "traceback": [
      "\u001b[0;31m---------------------------------------------------------------------------\u001b[0m",
      "\u001b[0;31mAttributeError\u001b[0m                            Traceback (most recent call last)",
      "Cell \u001b[0;32mIn[59], line 1\u001b[0m\n\u001b[0;32m----> 1\u001b[0m \u001b[43mfs\u001b[49m\u001b[38;5;241;43m.\u001b[39;49m\u001b[43mremove\u001b[49m(\u001b[38;5;241m70\u001b[39m)\n",
      "\u001b[0;31mAttributeError\u001b[0m: 'frozenset' object has no attribute 'remove'"
     ]
    }
   ],
   "source": [
    "fs.remove(70)"
   ]
  },
  {
   "cell_type": "code",
   "execution_count": 60,
   "id": "a3be8516-6f8b-488b-a10d-9bcccf87e475",
   "metadata": {},
   "outputs": [
    {
     "ename": "TypeError",
     "evalue": "'frozenset' object is not subscriptable",
     "output_type": "error",
     "traceback": [
      "\u001b[0;31m---------------------------------------------------------------------------\u001b[0m",
      "\u001b[0;31mTypeError\u001b[0m                                 Traceback (most recent call last)",
      "Cell \u001b[0;32mIn[60], line 1\u001b[0m\n\u001b[0;32m----> 1\u001b[0m \u001b[43mfs\u001b[49m\u001b[43m[\u001b[49m\u001b[38;5;241;43m1\u001b[39;49m\u001b[43m]\u001b[49m\n",
      "\u001b[0;31mTypeError\u001b[0m: 'frozenset' object is not subscriptable"
     ]
    }
   ],
   "source": [
    "fs[1]"
   ]
  },
  {
   "cell_type": "code",
   "execution_count": 61,
   "id": "520c4cf4-af4f-4d19-9c74-0134212345e7",
   "metadata": {},
   "outputs": [
    {
     "data": {
      "text/plain": [
       "frozenset"
      ]
     },
     "execution_count": 61,
     "metadata": {},
     "output_type": "execute_result"
    }
   ],
   "source": [
    "type(fs)"
   ]
  },
  {
   "cell_type": "code",
   "execution_count": 62,
   "id": "cd9edea1-15b3-4a08-934d-bd7e375c9f55",
   "metadata": {},
   "outputs": [
    {
     "name": "stdout",
     "output_type": "stream",
     "text": [
      "two\n",
      "four\n",
      "six\n",
      "five\n",
      "eight\n",
      "one\n",
      "three\n",
      "seven\n"
     ]
    }
   ],
   "source": [
    "ti_7 = {'one', 'two', 'three', 'four', 'five', 'six', 'seven', 'eight'}\n",
    "for a in ti_7:\n",
    "    print(a)"
   ]
  },
  {
   "cell_type": "code",
   "execution_count": 71,
   "id": "5474da4f-95c5-4e49-b10f-f47259e88444",
   "metadata": {},
   "outputs": [
    {
     "name": "stdout",
     "output_type": "stream",
     "text": [
      "(0, 'two')\n",
      "(1, 'four')\n",
      "(2, 'six')\n",
      "(3, 'five')\n",
      "(4, 'eight')\n",
      "(5, 'one')\n",
      "(6, 'three')\n",
      "(7, 'seven')\n"
     ]
    }
   ],
   "source": [
    "#enamurate() function help indexing your elements\n",
    "ti_7 = {'one', 'two', 'three', 'four', 'five', 'six', 'seven', 'eight'}\n",
    "for i in enumerate(ti_7):\n",
    "    print(i)"
   ]
  },
  {
   "cell_type": "code",
   "execution_count": 74,
   "id": "a661680e-e1bd-4b00-9464-bf88a94d9a17",
   "metadata": {},
   "outputs": [
    {
     "name": "stdout",
     "output_type": "stream",
     "text": [
      "Three is present in the set\n"
     ]
    }
   ],
   "source": [
    "#using condition to know or check\n",
    "if 'three' in ti_7: \n",
    "    print('Three is present in the set')\n",
    "else:\n",
    "    print(\"Three is not present in the set\")"
   ]
  },
  {
   "cell_type": "code",
   "execution_count": 102,
   "id": "da7ec156-c0a3-413a-a50b-2b59792dbb49",
   "metadata": {},
   "outputs": [
    {
     "data": {
      "text/plain": [
       "{10, 20, 30, 40}"
      ]
     },
     "execution_count": 102,
     "metadata": {},
     "output_type": "execute_result"
    }
   ],
   "source": [
    "s3"
   ]
  },
  {
   "cell_type": "code",
   "execution_count": 103,
   "id": "5b4133ac-0e5d-4699-b45e-d982d2e832ab",
   "metadata": {},
   "outputs": [
    {
     "data": {
      "text/plain": [
       "140187306392064"
      ]
     },
     "execution_count": 103,
     "metadata": {},
     "output_type": "execute_result"
    }
   ],
   "source": [
    "id(s3)"
   ]
  },
  {
   "cell_type": "code",
   "execution_count": 104,
   "id": "4523bb98-9c36-46b7-952c-aa5fa9f5e3d7",
   "metadata": {},
   "outputs": [
    {
     "data": {
      "text/plain": [
       "({10, 20, 30, 40},\n",
       " set(),\n",
       " {'eight', 'five', 'four', 'one', 'seven', 'six', 'three', 'two'})"
      ]
     },
     "execution_count": 104,
     "metadata": {},
     "output_type": "execute_result"
    }
   ],
   "source": [
    "s3,s4,ti_7"
   ]
  },
  {
   "cell_type": "code",
   "execution_count": 106,
   "id": "713c2948-acf1-4926-9020-0c38d1ba0a30",
   "metadata": {},
   "outputs": [
    {
     "data": {
      "text/plain": [
       "{10,\n",
       " 20,\n",
       " 30,\n",
       " 40,\n",
       " 'eight',\n",
       " 'five',\n",
       " 'four',\n",
       " 'one',\n",
       " 'seven',\n",
       " 'six',\n",
       " 'three',\n",
       " 'two'}"
      ]
     },
     "execution_count": 106,
     "metadata": {},
     "output_type": "execute_result"
    }
   ],
   "source": [
    "s3.union(s4,ti_7)"
   ]
  },
  {
   "cell_type": "code",
   "execution_count": 107,
   "id": "6cab3296-e00d-43a0-9b1d-f8e6c12acb02",
   "metadata": {},
   "outputs": [
    {
     "data": {
      "text/plain": [
       "set()"
      ]
     },
     "execution_count": 107,
     "metadata": {},
     "output_type": "execute_result"
    }
   ],
   "source": [
    "s3.intersection(s4,ti_7)"
   ]
  },
  {
   "cell_type": "code",
   "execution_count": 109,
   "id": "6c47c936-c000-40c4-a11b-1ba17ba518a4",
   "metadata": {},
   "outputs": [
    {
     "data": {
      "text/plain": [
       "{10,\n",
       " 20,\n",
       " 30,\n",
       " 40,\n",
       " 'eight',\n",
       " 'five',\n",
       " 'four',\n",
       " 'one',\n",
       " 'seven',\n",
       " 'six',\n",
       " 'three',\n",
       " 'two'}"
      ]
     },
     "execution_count": 109,
     "metadata": {},
     "output_type": "execute_result"
    }
   ],
   "source": [
    "s3.update(s4,ti_7)\n",
    "s3"
   ]
  },
  {
   "cell_type": "code",
   "execution_count": 113,
   "id": "10101f9f-0c84-43b7-bb62-ed917d429601",
   "metadata": {},
   "outputs": [
    {
     "data": {
      "text/plain": [
       "{10,\n",
       " 20,\n",
       " 30,\n",
       " 40,\n",
       " 'eight',\n",
       " 'five',\n",
       " 'four',\n",
       " 'one',\n",
       " 'seven',\n",
       " 'six',\n",
       " 'three',\n",
       " 'two'}"
      ]
     },
     "execution_count": 113,
     "metadata": {},
     "output_type": "execute_result"
    }
   ],
   "source": [
    "s3 and(s4,ti_7)\n",
    "s3"
   ]
  },
  {
   "cell_type": "code",
   "execution_count": null,
   "id": "d20cd873-b695-4294-87c4-d2b579a411cb",
   "metadata": {},
   "outputs": [],
   "source": []
  }
 ],
 "metadata": {
  "kernelspec": {
   "display_name": "Python 3 (ipykernel)",
   "language": "python",
   "name": "python3"
  },
  "language_info": {
   "codemirror_mode": {
    "name": "ipython",
    "version": 3
   },
   "file_extension": ".py",
   "mimetype": "text/x-python",
   "name": "python",
   "nbconvert_exporter": "python",
   "pygments_lexer": "ipython3",
   "version": "3.10.9"
  }
 },
 "nbformat": 4,
 "nbformat_minor": 5
}
