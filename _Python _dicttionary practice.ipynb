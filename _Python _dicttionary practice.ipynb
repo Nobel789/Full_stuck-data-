{
 "cells": [
  {
   "cell_type": "code",
   "execution_count": null,
   "id": "f5e1ed89-efd3-4f84-aedc-d5b099500dce",
   "metadata": {},
   "outputs": [],
   "source": [
    "#Diictionary data structure\n",
    "Unordered: Dictionaries in Python are unordered, which means that the elements in a dictionary do not have a specific order.\n",
    "\n",
    "Mutable: Dictionaries are mutable, which means that you can modify the values associated with a key.\n",
    "\n",
    "Key-value pairs: Dictionaries store data in the form of key-value pairs. Each key is associated with a value, and the key-value pairs are separated by commas and enclosed in curly braces {}.\n",
    "\n",
    "Keys are unique: In a dictionary, keys are unique. If you try to assign a new value to an existing key, the new value will overwrite the old value.\n",
    "\n",
    "Keys must be immutable:"
   ]
  },
  {
   "cell_type": "code",
   "execution_count": 1,
   "id": "f5987cfb-0bc7-40d8-b80e-87424c4e7ebf",
   "metadata": {},
   "outputs": [
    {
     "name": "stdout",
     "output_type": "stream",
     "text": [
      "{'name': 'John', 'age': 30, 'city': 'New York'}\n"
     ]
    }
   ],
   "source": [
    "#define a dictionary\n",
    "my_dict = {\n",
    "    \"name\": \"John\",\n",
    "    \"age\": 30,\n",
    "    \"city\": \"New York\"}\n",
    "print(my_dict)"
   ]
  },
  {
   "cell_type": "code",
   "execution_count": 3,
   "id": "fd37829c-dd76-4bbb-bc9c-a76ae0fdd243",
   "metadata": {},
   "outputs": [
    {
     "data": {
      "text/plain": [
       "dict_keys(['name', 'age', 'city'])"
      ]
     },
     "execution_count": 3,
     "metadata": {},
     "output_type": "execute_result"
    }
   ],
   "source": [
    "my_dict.keys()"
   ]
  },
  {
   "cell_type": "code",
   "execution_count": 4,
   "id": "7ab17e3b-48f7-4345-9c09-ffc8f3a001c7",
   "metadata": {},
   "outputs": [
    {
     "data": {
      "text/plain": [
       "dict_values(['John', 30, 'New York'])"
      ]
     },
     "execution_count": 4,
     "metadata": {},
     "output_type": "execute_result"
    }
   ],
   "source": [
    "my_dict.values()"
   ]
  },
  {
   "cell_type": "code",
   "execution_count": 20,
   "id": "8f262a4f-f030-4f80-a11a-cec4971abc85",
   "metadata": {},
   "outputs": [
    {
     "data": {
      "text/plain": [
       "dict_items([('name', ('Nobel',)), ('age', 30), ('city', 'Tampere')])"
      ]
     },
     "execution_count": 20,
     "metadata": {},
     "output_type": "execute_result"
    }
   ],
   "source": [
    "my_dict.items()"
   ]
  },
  {
   "cell_type": "code",
   "execution_count": 21,
   "id": "5829063c-406b-4e82-955a-35f0967e5d19",
   "metadata": {},
   "outputs": [
    {
     "data": {
      "text/plain": [
       "3"
      ]
     },
     "execution_count": 21,
     "metadata": {},
     "output_type": "execute_result"
    }
   ],
   "source": [
    "len(my_dict.items())"
   ]
  },
  {
   "cell_type": "code",
   "execution_count": 5,
   "id": "2b211fa9-673c-4742-b78b-4e1f92c74c73",
   "metadata": {},
   "outputs": [
    {
     "name": "stdout",
     "output_type": "stream",
     "text": [
      "John\n",
      "30\n"
     ]
    }
   ],
   "source": [
    "#Accesing the values with keys with third bracket\n",
    "print(my_dict['name'])\n",
    "print(my_dict['age'])"
   ]
  },
  {
   "cell_type": "code",
   "execution_count": 6,
   "id": "6bc5a731-f0f3-4810-bdbb-34b7cbc5dfd1",
   "metadata": {},
   "outputs": [
    {
     "name": "stdout",
     "output_type": "stream",
     "text": [
      "{'name': 'John', 'age': 35, 'city': 'New York'}\n"
     ]
    }
   ],
   "source": [
    "#updating or replacing the values in dictionary \n",
    "my_dict = {'name': 'John', 'age': 30, 'city': 'New York'}\n",
    "my_dict['age'] = 35\n",
    "print(my_dict)"
   ]
  },
  {
   "cell_type": "code",
   "execution_count": 23,
   "id": "08412f9b-1323-4270-965e-f35258e4bac6",
   "metadata": {},
   "outputs": [
    {
     "name": "stdout",
     "output_type": "stream",
     "text": [
      "{'name': ('Nobel',), 'age': 30, 'city': 'Tampere', (10+20j): 'yy'}\n"
     ]
    }
   ],
   "source": [
    "#adding the new elements with key\n",
    "my_dict[10+20j]=\"yy\"\n",
    "print(my_dict)"
   ]
  },
  {
   "cell_type": "code",
   "execution_count": 25,
   "id": "d1eb09ec-5f40-44d5-bb96-4a1d6e2cfd73",
   "metadata": {},
   "outputs": [
    {
     "data": {
      "text/plain": [
       "30"
      ]
     },
     "execution_count": 25,
     "metadata": {},
     "output_type": "execute_result"
    }
   ],
   "source": [
    "#anouther method of accesing the value callled get() metood\n",
    "my_dict.get(\"age\")"
   ]
  },
  {
   "cell_type": "code",
   "execution_count": 10,
   "id": "9e4a1095-acaf-43e7-a67f-7c540f4fa03c",
   "metadata": {},
   "outputs": [
    {
     "name": "stdout",
     "output_type": "stream",
     "text": [
      "{'name': ('Nobel',), 'age': 30, 'city': 'Tampere'}\n"
     ]
    }
   ],
   "source": [
    "my_dict = {'name': 'John', 'age': 30, 'city': 'New York'}\n",
    "my_dict[\"name\"] = \"Nobel\", \n",
    "my_dict[\"city\"] = \"Tampere\"\n",
    "print(my_dict)"
   ]
  },
  {
   "cell_type": "code",
   "execution_count": 12,
   "id": "f0ba0dd4-0877-4b7f-bfec-6b78a15c6a2d",
   "metadata": {},
   "outputs": [
    {
     "name": "stdout",
     "output_type": "stream",
     "text": [
      "{'name': ('Nobel',), 'age': 30, 'city': 'Tampere', 'school_name': 'Disco'}\n"
     ]
    }
   ],
   "source": [
    "#Adding a new key-value pair to a dictionary:\n",
    "#To add a new key-value pair to a dictionary, you can use the square bracket notation [] and assign a new value to a new key\n",
    "my_dict[\"school_name\"]= \"Disco\"\n",
    "print(my_dict)"
   ]
  },
  {
   "cell_type": "code",
   "execution_count": 17,
   "id": "ea69a2e8-da01-49f5-8bcf-3910b1aa5b12",
   "metadata": {},
   "outputs": [
    {
     "name": "stdout",
     "output_type": "stream",
     "text": [
      "{'name': ('Nobel',), 'age': 30, 'city': 'Tampere'}\n"
     ]
    }
   ],
   "source": [
    "#Removing the key value with del function\n",
    "del my_dict[\"school_name\"]\n",
    "print(my_dict)\n",
    "            \n"
   ]
  },
  {
   "cell_type": "code",
   "execution_count": 18,
   "id": "09c2eae7-bbd9-4eb8-9aeb-6468f3c39631",
   "metadata": {},
   "outputs": [
    {
     "data": {
      "text/plain": [
       "dict"
      ]
     },
     "execution_count": 18,
     "metadata": {},
     "output_type": "execute_result"
    }
   ],
   "source": [
    "type(my_dict)"
   ]
  },
  {
   "cell_type": "code",
   "execution_count": 26,
   "id": "95b11630-c45d-40a8-bcfe-9c2c0b2ba644",
   "metadata": {},
   "outputs": [
    {
     "data": {
      "text/plain": [
       "{'name': ('Nobel',), 'age': 30, 'city': 'Tampere', (10+20j): 'yy'}"
      ]
     },
     "execution_count": 26,
     "metadata": {},
     "output_type": "execute_result"
    }
   ],
   "source": [
    "my_dict"
   ]
  },
  {
   "cell_type": "code",
   "execution_count": 27,
   "id": "8be0aee0-6e57-497e-b06e-2227d28b6d25",
   "metadata": {},
   "outputs": [
    {
     "data": {
      "text/plain": [
       "140288136483328"
      ]
     },
     "execution_count": 27,
     "metadata": {},
     "output_type": "execute_result"
    }
   ],
   "source": [
    "id(my_dict)"
   ]
  },
  {
   "cell_type": "code",
   "execution_count": 28,
   "id": "586b3a1e-7f39-44fa-a907-cbe314e0156a",
   "metadata": {},
   "outputs": [
    {
     "data": {
      "text/plain": [
       "dict"
      ]
     },
     "execution_count": 28,
     "metadata": {},
     "output_type": "execute_result"
    }
   ],
   "source": [
    "type(my_dict)"
   ]
  },
  {
   "cell_type": "code",
   "execution_count": 33,
   "id": "e8efa24c-f5d9-42aa-922a-09ab8d9df0d8",
   "metadata": {},
   "outputs": [
    {
     "data": {
      "text/plain": [
       "{'name': ('Nobel',), 'age': 30, 'city': 'Tampere', (10+20j): 'yy'}"
      ]
     },
     "execution_count": 33,
     "metadata": {},
     "output_type": "execute_result"
    }
   ],
   "source": [
    "dc3= my_dict.copy()\n",
    "dc3\n"
   ]
  },
  {
   "cell_type": "code",
   "execution_count": 34,
   "id": "ab7a75c3-71bd-4b5d-b259-e0773f8e6ef4",
   "metadata": {},
   "outputs": [
    {
     "data": {
      "text/plain": [
       "140288123417408"
      ]
     },
     "execution_count": 34,
     "metadata": {},
     "output_type": "execute_result"
    }
   ],
   "source": [
    "id(dc3)"
   ]
  },
  {
   "cell_type": "code",
   "execution_count": 36,
   "id": "536e6e17-0f78-4aad-b1c4-34de5bf19967",
   "metadata": {},
   "outputs": [],
   "source": [
    "a = b = c = 30"
   ]
  },
  {
   "cell_type": "code",
   "execution_count": 37,
   "id": "ba767e80-eef5-40af-9a82-bc28a9f2f859",
   "metadata": {},
   "outputs": [
    {
     "data": {
      "text/plain": [
       "False"
      ]
     },
     "execution_count": 37,
     "metadata": {},
     "output_type": "execute_result"
    }
   ],
   "source": [
    "id(a) is id(b)"
   ]
  },
  {
   "cell_type": "code",
   "execution_count": 38,
   "id": "1f326f83-9662-4581-a7ee-ed8a45b7265a",
   "metadata": {},
   "outputs": [
    {
     "data": {
      "text/plain": [
       "True"
      ]
     },
     "execution_count": 38,
     "metadata": {},
     "output_type": "execute_result"
    }
   ],
   "source": [
    " a is b"
   ]
  },
  {
   "cell_type": "code",
   "execution_count": 40,
   "id": "d62b9b3c-f9b7-4ff9-89a4-65fbc3716386",
   "metadata": {},
   "outputs": [
    {
     "data": {
      "text/plain": [
       "dict"
      ]
     },
     "execution_count": 40,
     "metadata": {},
     "output_type": "execute_result"
    }
   ],
   "source": [
    "#anouther way to define and check dicttionary\n",
    "d_=dict()\n",
    "type(d_)"
   ]
  },
  {
   "cell_type": "code",
   "execution_count": 41,
   "id": "da0f48c5-6de7-4774-b90c-e98a8e865670",
   "metadata": {},
   "outputs": [
    {
     "data": {
      "text/plain": [
       "{}"
      ]
     },
     "execution_count": 41,
     "metadata": {},
     "output_type": "execute_result"
    }
   ],
   "source": [
    "d_"
   ]
  },
  {
   "cell_type": "code",
   "execution_count": 42,
   "id": "0434cfa3-8c9c-4114-a2cd-1ccefa0ad0c3",
   "metadata": {},
   "outputs": [
    {
     "data": {
      "text/plain": [
       "{'name': ('Nobel',), 'age': 30, 'city': 'Tampere', (10+20j): 'yy'}"
      ]
     },
     "execution_count": 42,
     "metadata": {},
     "output_type": "execute_result"
    }
   ],
   "source": [
    "dc3"
   ]
  },
  {
   "cell_type": "code",
   "execution_count": 44,
   "id": "a288f10c-2ec1-45fd-9aea-17b514ab7bb9",
   "metadata": {},
   "outputs": [
    {
     "data": {
      "text/plain": [
       "{'name': ('Nobel',), 'age': 35, 'city': 'Tampere', (10+20j): 'yy'}"
      ]
     },
     "execution_count": 44,
     "metadata": {},
     "output_type": "execute_result"
    }
   ],
   "source": [
    "#replace the value\n",
    "dc3[\"age\"]=35\n",
    "dc3"
   ]
  },
  {
   "cell_type": "code",
   "execution_count": 46,
   "id": "b0adebc2-0a77-432c-9d19-fef16242dbd4",
   "metadata": {},
   "outputs": [
    {
     "data": {
      "text/plain": [
       "{'name': ('Nobel',),\n",
       " 'age': 35,\n",
       " 'city': 'Tampere',\n",
       " (10+20j): 'yy',\n",
       " 'mango': ('tree', 10)}"
      ]
     },
     "execution_count": 46,
     "metadata": {},
     "output_type": "execute_result"
    }
   ],
   "source": [
    "#passing two values in dictionary\n",
    "dc3[\"mango\"]= \"tree\",10\n",
    "dc3"
   ]
  },
  {
   "cell_type": "code",
   "execution_count": 47,
   "id": "e5b0437e-e645-414f-b601-cd6ae23d1592",
   "metadata": {},
   "outputs": [
    {
     "data": {
      "text/plain": [
       "{'name': ('Nobel',),\n",
       " 'age': 35,\n",
       " 'city': 'Tampere',\n",
       " (10+20j): 'yy',\n",
       " 'mango': ('tree', 10),\n",
       " ('mango', 'banana'): ('tree', 10)}"
      ]
     },
     "execution_count": 47,
     "metadata": {},
     "output_type": "execute_result"
    }
   ],
   "source": [
    "#passing two key is not allow\n",
    "dc3[\"mango\", \"banana\"]= \"tree\",10\n",
    "dc3"
   ]
  },
  {
   "cell_type": "code",
   "execution_count": 50,
   "id": "54ce2375-0511-4ee4-a701-d9850e833c4f",
   "metadata": {},
   "outputs": [
    {
     "data": {
      "text/plain": [
       "{'name': ('Nobel',),\n",
       " 'age': 35,\n",
       " 'city': 'Tampere',\n",
       " (10+20j): 'yy',\n",
       " 'mango': ('tree', 10),\n",
       " ('mango', 'banana'): ('tree', 10),\n",
       " 'mala': [7, 5, 7]}"
      ]
     },
     "execution_count": 50,
     "metadata": {},
     "output_type": "execute_result"
    }
   ],
   "source": [
    "#passing list and tuples as values\n",
    "dc3[\"mala\"]=[7,5,7]\n",
    "dc3"
   ]
  },
  {
   "cell_type": "code",
   "execution_count": 51,
   "id": "15b1f92f-891d-4d74-aeab-94a6079bd3d8",
   "metadata": {},
   "outputs": [
    {
     "data": {
      "text/plain": [
       "{'name': ('Nobel',),\n",
       " 'age': 35,\n",
       " 'city': 'Tampere',\n",
       " (10+20j): 'yy',\n",
       " 'mango': ('tree', 10),\n",
       " ('mango', 'banana'): ('tree', 10),\n",
       " 'mala': [7, 5, 7],\n",
       " 'tika': (7, 5, 7)}"
      ]
     },
     "execution_count": 51,
     "metadata": {},
     "output_type": "execute_result"
    }
   ],
   "source": [
    "#tuple\n",
    "dc3[\"tika\"]=(7,5,7)\n",
    "dc3"
   ]
  },
  {
   "cell_type": "code",
   "execution_count": 52,
   "id": "4d53109e-21af-4e22-92cd-810d712eb135",
   "metadata": {},
   "outputs": [
    {
     "data": {
      "text/plain": [
       "{'name': ('Nobel',),\n",
       " 'age': 35,\n",
       " 'city': 'Tampere',\n",
       " (10+20j): 'yy',\n",
       " 'mango': ('tree', 10),\n",
       " ('mango', 'banana'): ('tree', 10),\n",
       " 'mala': [7, 5, 7],\n",
       " 'tika': (7, 5, 7),\n",
       " 'pesha': ([7, 5, 7], 78)}"
      ]
     },
     "execution_count": 52,
     "metadata": {},
     "output_type": "execute_result"
    }
   ],
   "source": [
    "#we can also pass extra with list\n",
    "dc3[\"pesha\"]=[7,5,7],78\n",
    "dc3"
   ]
  },
  {
   "cell_type": "code",
   "execution_count": 53,
   "id": "d3c1d191-e88c-4993-957c-57a553ea1628",
   "metadata": {},
   "outputs": [
    {
     "data": {
      "text/plain": [
       "{'name': ('Nobel',),\n",
       " 'age': 35,\n",
       " 'city': 'Tampere',\n",
       " (10+20j): 'yy',\n",
       " 'mango': ('tree', 10),\n",
       " ('mango', 'banana'): ('tree', 10),\n",
       " 'mala': [7, 5, 7],\n",
       " 'tika': (7, 5, 7),\n",
       " 'pesha': ([7, 5, 7], 78),\n",
       " 'True': 5}"
      ]
     },
     "execution_count": 53,
     "metadata": {},
     "output_type": "execute_result"
    }
   ],
   "source": [
    "#passing boolean or float as key\n",
    "dc3[\"True\"]=5\n",
    "dc3"
   ]
  },
  {
   "cell_type": "code",
   "execution_count": 54,
   "id": "8db7877d-b917-466a-a548-82bc34ff54b3",
   "metadata": {},
   "outputs": [
    {
     "data": {
      "text/plain": [
       "{'name': ('Nobel',),\n",
       " 'age': 35,\n",
       " 'city': 'Tampere',\n",
       " (10+20j): 'yy',\n",
       " 'mango': ('tree', 10),\n",
       " ('mango', 'banana'): ('tree', 10),\n",
       " 'mala': [7, 5, 7],\n",
       " 'tika': (7, 5, 7),\n",
       " 'pesha': ([7, 5, 7], 78),\n",
       " 'True': 5,\n",
       " 1.5: 5}"
      ]
     },
     "execution_count": 54,
     "metadata": {},
     "output_type": "execute_result"
    }
   ],
   "source": [
    "dc3[1.5]=5\n",
    "dc3"
   ]
  },
  {
   "cell_type": "code",
   "execution_count": 58,
   "id": "0f3ada2c-9a3b-4949-8576-360dacedc27b",
   "metadata": {},
   "outputs": [
    {
     "data": {
      "text/plain": [
       "{'name': ('Nobel',),\n",
       " 'age': 35,\n",
       " 'city': 'Tampere',\n",
       " (10+20j): 'yy',\n",
       " 'mango': ('tree', 10),\n",
       " ('mango', 'banana'): ('tree', 10),\n",
       " 'mala': [7, 5, 7],\n",
       " 'tika': (7, 5, 7),\n",
       " 'pesha': ([7, 5, 7], 78),\n",
       " 'True': 5}"
      ]
     },
     "execution_count": 58,
     "metadata": {},
     "output_type": "execute_result"
    }
   ],
   "source": [
    "#deleting the value by specifiying keys with del () function\n",
    "del dc3[1.5]\n",
    "dc3\n"
   ]
  },
  {
   "cell_type": "code",
   "execution_count": 60,
   "id": "571d9d40-2b04-438d-bab6-38cc94b58610",
   "metadata": {},
   "outputs": [
    {
     "data": {
      "text/plain": [
       "{'name': ('Nobel',),\n",
       " 'age': 35,\n",
       " 'city': 'Tampere',\n",
       " (10+20j): 'yy',\n",
       " 'mango': ('tree', 10),\n",
       " ('mango', 'banana'): ('tree', 10),\n",
       " 'mala': [7, 5, 7],\n",
       " 'tika': (7, 5, 7),\n",
       " 'True': 5}"
      ]
     },
     "execution_count": 60,
     "metadata": {},
     "output_type": "execute_result"
    }
   ],
   "source": [
    "del dc3[\"pesha\"]\n",
    "dc3"
   ]
  },
  {
   "cell_type": "code",
   "execution_count": 61,
   "id": "b9b20e64-d8b2-4e2c-ba15-c008ad039feb",
   "metadata": {},
   "outputs": [
    {
     "data": {
      "text/plain": [
       "{'name': ('Nobel',),\n",
       " 'age': 35,\n",
       " 'city': 'Tampere',\n",
       " (10+20j): 'yy',\n",
       " 'mango': ('tree', 10),\n",
       " ('mango', 'banana'): ('tree', 10),\n",
       " 'mala': [7, 5, 7],\n",
       " 'tika': (7, 5, 7)}"
      ]
     },
     "execution_count": 61,
     "metadata": {},
     "output_type": "execute_result"
    }
   ],
   "source": [
    "#pop method wih specifying key\n",
    "dc3.pop(\"True\")\n",
    "dc3\n"
   ]
  },
  {
   "cell_type": "code",
   "execution_count": 65,
   "id": "d3811a4b-7d91-4cf2-bfdc-f71953bdbcca",
   "metadata": {},
   "outputs": [
    {
     "name": "stdout",
     "output_type": "stream",
     "text": [
      "<built-in method copy of dict object at 0x7f975fc33340>\n"
     ]
    }
   ],
   "source": [
    "d7=dc3.copy\n",
    "print(d7)"
   ]
  },
  {
   "cell_type": "code",
   "execution_count": 64,
   "id": "e5c1992e-abcd-4415-a18c-62e77d7fe3b5",
   "metadata": {},
   "outputs": [
    {
     "data": {
      "text/plain": [
       "<function dict.copy>"
      ]
     },
     "execution_count": 64,
     "metadata": {},
     "output_type": "execute_result"
    }
   ],
   "source": [
    "d7"
   ]
  },
  {
   "cell_type": "code",
   "execution_count": 66,
   "id": "e01c0d21-c5a3-488b-96b5-27f7751fae34",
   "metadata": {},
   "outputs": [
    {
     "data": {
      "text/plain": [
       "{'name': ('Nobel',),\n",
       " 'age': 35,\n",
       " 'city': 'Tampere',\n",
       " (10+20j): 'yy',\n",
       " 'mango': ('tree', 10),\n",
       " ('mango', 'banana'): ('tree', 10),\n",
       " 'mala': [7, 5, 7],\n",
       " 'tika': (7, 5, 7)}"
      ]
     },
     "execution_count": 66,
     "metadata": {},
     "output_type": "execute_result"
    }
   ],
   "source": [
    "dc3"
   ]
  },
  {
   "cell_type": "code",
   "execution_count": null,
   "id": "ea25a376-096b-4c84-a6a4-01781f4bb0a1",
   "metadata": {},
   "outputs": [],
   "source": []
  }
 ],
 "metadata": {
  "kernelspec": {
   "display_name": "Python 3 (ipykernel)",
   "language": "python",
   "name": "python3"
  },
  "language_info": {
   "codemirror_mode": {
    "name": "ipython",
    "version": 3
   },
   "file_extension": ".py",
   "mimetype": "text/x-python",
   "name": "python",
   "nbconvert_exporter": "python",
   "pygments_lexer": "ipython3",
   "version": "3.10.9"
  }
 },
 "nbformat": 4,
 "nbformat_minor": 5
}
