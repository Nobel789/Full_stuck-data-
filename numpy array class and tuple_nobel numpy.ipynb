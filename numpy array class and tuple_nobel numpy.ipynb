{
 "cells": [
  {
   "cell_type": "code",
   "execution_count": 1,
   "id": "6d500305-98a3-40ee-a53f-95da8c35fba0",
   "metadata": {},
   "outputs": [
    {
     "name": "stdout",
     "output_type": "stream",
     "text": [
      "Requirement already satisfied: numpy in ./opt/anaconda3/lib/python3.9/site-packages (1.20.3)\n",
      "Note: you may need to restart the kernel to use updated packages.\n"
     ]
    }
   ],
   "source": [
    "pip install numpy"
   ]
  },
  {
   "cell_type": "code",
   "execution_count": 1,
   "id": "5326e2bc-37e9-4be8-a50e-4332ebb4c82a",
   "metadata": {},
   "outputs": [
    {
     "ename": "SyntaxError",
     "evalue": "invalid syntax (3671925889.py, line 1)",
     "output_type": "error",
     "traceback": [
      "\u001b[0;36m  File \u001b[0;32m\"/var/folders/nn/vcmtyf8n1pl_gm88tw6nx6hw0000gn/T/ipykernel_88335/3671925889.py\"\u001b[0;36m, line \u001b[0;32m1\u001b[0m\n\u001b[0;31m    Importing library\u001b[0m\n\u001b[0m              ^\u001b[0m\n\u001b[0;31mSyntaxError\u001b[0m\u001b[0;31m:\u001b[0m invalid syntax\n"
     ]
    }
   ],
   "source": [
    "Importing library\n"
   ]
  },
  {
   "cell_type": "code",
   "execution_count": 2,
   "id": "c8de0926-51b0-4dd3-9ebc-676c6d94ee5f",
   "metadata": {},
   "outputs": [],
   "source": [
    "import numpy as np # 1d array/vector"
   ]
  },
  {
   "cell_type": "code",
   "execution_count": 3,
   "id": "9efc4e5e-000b-45a3-9f42-251b8948c1d3",
   "metadata": {},
   "outputs": [],
   "source": [
    "a = np.array([1,2,3])"
   ]
  },
  {
   "cell_type": "code",
   "execution_count": 4,
   "id": "a7265a15-d281-46c5-9551-be1f204144b6",
   "metadata": {},
   "outputs": [
    {
     "data": {
      "text/plain": [
       "array([1, 2, 3])"
      ]
     },
     "execution_count": 4,
     "metadata": {},
     "output_type": "execute_result"
    }
   ],
   "source": [
    "a"
   ]
  },
  {
   "cell_type": "code",
   "execution_count": 6,
   "id": "eb063dcd-6ba9-4dcb-a34b-9f2d7978ca8e",
   "metadata": {},
   "outputs": [
    {
     "data": {
      "text/plain": [
       "numpy.ndarray"
      ]
     },
     "execution_count": 6,
     "metadata": {},
     "output_type": "execute_result"
    }
   ],
   "source": [
    "type(a)"
   ]
  },
  {
   "cell_type": "code",
   "execution_count": 7,
   "id": "8bf39212-7450-4644-9b98-07c623182f68",
   "metadata": {},
   "outputs": [
    {
     "data": {
      "text/plain": [
       "(3,)"
      ]
     },
     "execution_count": 7,
     "metadata": {},
     "output_type": "execute_result"
    }
   ],
   "source": [
    "a.shape"
   ]
  },
  {
   "cell_type": "code",
   "execution_count": 8,
   "id": "1104e54c-6faf-44a6-98d5-efe0e1ed871c",
   "metadata": {},
   "outputs": [
    {
     "data": {
      "text/plain": [
       "1"
      ]
     },
     "execution_count": 8,
     "metadata": {},
     "output_type": "execute_result"
    }
   ],
   "source": [
    "a.ndim"
   ]
  },
  {
   "cell_type": "code",
   "execution_count": 9,
   "id": "286fc44b-d24f-486f-a0c5-05718fb408b0",
   "metadata": {},
   "outputs": [],
   "source": [
    "b = np.array([[1,2,3],[4,5,6]])"
   ]
  },
  {
   "cell_type": "code",
   "execution_count": 10,
   "id": "83b2925e-cc21-4ce7-bedb-5788b5c5d282",
   "metadata": {},
   "outputs": [
    {
     "data": {
      "text/plain": [
       "array([[1, 2, 3],\n",
       "       [4, 5, 6]])"
      ]
     },
     "execution_count": 10,
     "metadata": {},
     "output_type": "execute_result"
    }
   ],
   "source": [
    "b"
   ]
  },
  {
   "cell_type": "code",
   "execution_count": 11,
   "id": "933bd465-0f17-4cbe-ad32-fd5acc0e1695",
   "metadata": {},
   "outputs": [
    {
     "data": {
      "text/plain": [
       "numpy.ndarray"
      ]
     },
     "execution_count": 11,
     "metadata": {},
     "output_type": "execute_result"
    }
   ],
   "source": [
    "type(b)"
   ]
  },
  {
   "cell_type": "code",
   "execution_count": 12,
   "id": "d9c70c50-d17f-4ff9-a8a0-e68833027720",
   "metadata": {},
   "outputs": [
    {
     "data": {
      "text/plain": [
       "(2, 3)"
      ]
     },
     "execution_count": 12,
     "metadata": {},
     "output_type": "execute_result"
    }
   ],
   "source": [
    "b.shape"
   ]
  },
  {
   "cell_type": "code",
   "execution_count": 13,
   "id": "89752670-d86f-450d-841a-6e72176fdee3",
   "metadata": {},
   "outputs": [
    {
     "data": {
      "text/plain": [
       "2"
      ]
     },
     "execution_count": 13,
     "metadata": {},
     "output_type": "execute_result"
    }
   ],
   "source": [
    "b.ndim"
   ]
  },
  {
   "cell_type": "code",
   "execution_count": 20,
   "id": "c02553f6-2c7f-4243-9c42-1df6a12274da",
   "metadata": {},
   "outputs": [],
   "source": [
    "c = np.array([[[1.2,2,3],\n",
    "                [4,5,6],\n",
    "                [7,8,9]]])\n",
    "\n",
    "\n",
    "d = np.array ([[[1,2,3]\n",
    "                ,[4,5,6],\n",
    "                [7,8,9]],\n",
    "               \n",
    "               [[10,11,12],\n",
    "                [13,14,15],\n",
    "                [16,17,18]]])"
   ]
  },
  {
   "cell_type": "code",
   "execution_count": 29,
   "id": "89657664-0673-4a9c-9c6b-d575ebc7ae5d",
   "metadata": {},
   "outputs": [
    {
     "data": {
      "text/plain": [
       "array([[[1, 2, 3],\n",
       "        [4, 5, 6],\n",
       "        [7, 8, 9]]])"
      ]
     },
     "execution_count": 29,
     "metadata": {},
     "output_type": "execute_result"
    }
   ],
   "source": [
    "c"
   ]
  },
  {
   "cell_type": "code",
   "execution_count": 30,
   "id": "23cab0ce-7fda-496c-a534-6bfca3302b74",
   "metadata": {},
   "outputs": [
    {
     "data": {
      "text/plain": [
       "array([[[ 1,  2,  3],\n",
       "        [ 4,  5,  6],\n",
       "        [ 7,  8,  9]],\n",
       "\n",
       "       [[10, 11, 12],\n",
       "        [13, 14, 15],\n",
       "        [16, 17, 18]]])"
      ]
     },
     "execution_count": 30,
     "metadata": {},
     "output_type": "execute_result"
    }
   ],
   "source": [
    "d"
   ]
  },
  {
   "cell_type": "code",
   "execution_count": 23,
   "id": "1a22c745-80d9-48eb-bf5f-678c061e2bc8",
   "metadata": {},
   "outputs": [
    {
     "data": {
      "text/plain": [
       "((1, 3, 3), (2, 3, 3))"
      ]
     },
     "execution_count": 23,
     "metadata": {},
     "output_type": "execute_result"
    }
   ],
   "source": [
    "c.shape, d.shape"
   ]
  },
  {
   "cell_type": "code",
   "execution_count": 28,
   "id": "ecfc317c-e436-4c67-baab-73cfa6823fbc",
   "metadata": {},
   "outputs": [
    {
     "data": {
      "text/plain": [
       "(dtype('int64'), dtype('int64'), dtype('int64'), dtype('int64'))"
      ]
     },
     "execution_count": 28,
     "metadata": {},
     "output_type": "execute_result"
    }
   ],
   "source": [
    "a.dtype, b.dtype, c.dtype, d.dtype"
   ]
  },
  {
   "cell_type": "code",
   "execution_count": 31,
   "id": "5b7564cd-d408-4022-9382-cba85f066a1b",
   "metadata": {},
   "outputs": [
    {
     "data": {
      "text/plain": [
       "(3, 6, 9, 18)"
      ]
     },
     "execution_count": 31,
     "metadata": {},
     "output_type": "execute_result"
    }
   ],
   "source": [
    "a.size,b.size,c.size,d.size # size means how manyelements in array"
   ]
  },
  {
   "cell_type": "code",
   "execution_count": 32,
   "id": "1aa12e09-5275-49fe-b103-c316e0fd8ddc",
   "metadata": {},
   "outputs": [
    {
     "data": {
      "text/plain": [
       "(24, 48, 72, 144)"
      ]
     },
     "execution_count": 32,
     "metadata": {},
     "output_type": "execute_result"
    }
   ],
   "source": [
    "a.nbytes,b.nbytes,c.nbytes,d.nbytes"
   ]
  },
  {
   "cell_type": "markdown",
   "id": "d4ea48c6-dbf7-454e-ae0b-33ecab3ce629",
   "metadata": {},
   "source": [
    "Array creation"
   ]
  },
  {
   "cell_type": "code",
   "execution_count": 40,
   "id": "513a2fe1-78dc-40ac-9341-b75add0e8426",
   "metadata": {},
   "outputs": [],
   "source": [
    "array1 = np.array([1,2,3], dtype = \"int\")"
   ]
  },
  {
   "cell_type": "code",
   "execution_count": 41,
   "id": "29c536ff-27da-4681-b97c-007cdbb88bc4",
   "metadata": {},
   "outputs": [
    {
     "data": {
      "text/plain": [
       "array([1, 2, 3])"
      ]
     },
     "execution_count": 41,
     "metadata": {},
     "output_type": "execute_result"
    }
   ],
   "source": [
    "array1"
   ]
  },
  {
   "cell_type": "code",
   "execution_count": 43,
   "id": "b5825d80-b7a8-4e2a-a77d-d6fb4c9dd49d",
   "metadata": {},
   "outputs": [],
   "source": [
    " zeros = np.zeros((2,2), dtype = float)\n",
    "    "
   ]
  },
  {
   "cell_type": "code",
   "execution_count": 44,
   "id": "46a986d2-5731-4235-99d9-06a16e993fe4",
   "metadata": {},
   "outputs": [
    {
     "data": {
      "text/plain": [
       "array([[0., 0.],\n",
       "       [0., 0.]])"
      ]
     },
     "execution_count": 44,
     "metadata": {},
     "output_type": "execute_result"
    }
   ],
   "source": [
    "zeros"
   ]
  },
  {
   "cell_type": "code",
   "execution_count": 47,
   "id": "b7066948-7b78-4c3a-a8d7-6b905aec5d19",
   "metadata": {},
   "outputs": [],
   "source": [
    "ones = np.ones((3,3), dtype = \"int\")"
   ]
  },
  {
   "cell_type": "code",
   "execution_count": 48,
   "id": "a73c2fcb-8dc5-4f79-8542-d982cb8d1fdc",
   "metadata": {},
   "outputs": [
    {
     "data": {
      "text/plain": [
       "array([[1, 1, 1],\n",
       "       [1, 1, 1],\n",
       "       [1, 1, 1]])"
      ]
     },
     "execution_count": 48,
     "metadata": {},
     "output_type": "execute_result"
    }
   ],
   "source": [
    "ones"
   ]
  },
  {
   "cell_type": "code",
   "execution_count": 49,
   "id": "be048a96-ab05-423b-ad8d-867fe0f241d2",
   "metadata": {},
   "outputs": [],
   "source": [
    "full = np.full((2,3), 5)"
   ]
  },
  {
   "cell_type": "code",
   "execution_count": 50,
   "id": "92a29df6-2487-430d-baa0-c54f0c43c77f",
   "metadata": {},
   "outputs": [
    {
     "data": {
      "text/plain": [
       "array([[5, 5, 5],\n",
       "       [5, 5, 5]])"
      ]
     },
     "execution_count": 50,
     "metadata": {},
     "output_type": "execute_result"
    }
   ],
   "source": [
    "full"
   ]
  },
  {
   "cell_type": "code",
   "execution_count": 51,
   "id": "a8cfb98f-cae4-4ba8-b722-02211fa71b1b",
   "metadata": {},
   "outputs": [],
   "source": [
    "identity = np.identity((3), dtype = \"int\")"
   ]
  },
  {
   "cell_type": "code",
   "execution_count": 52,
   "id": "428f7377-6ed4-4369-a468-a8ab40581460",
   "metadata": {},
   "outputs": [
    {
     "data": {
      "text/plain": [
       "array([[1, 0, 0],\n",
       "       [0, 1, 0],\n",
       "       [0, 0, 1]])"
      ]
     },
     "execution_count": 52,
     "metadata": {},
     "output_type": "execute_result"
    }
   ],
   "source": [
    "identity"
   ]
  },
  {
   "cell_type": "code",
   "execution_count": 57,
   "id": "9420df86-b406-4f3b-80a5-eaf3c9de0d4f",
   "metadata": {},
   "outputs": [],
   "source": [
    "eye = np.eye(3,3, 2)"
   ]
  },
  {
   "cell_type": "code",
   "execution_count": 58,
   "id": "b47ae32a-f846-4807-bfb2-62c740d0e183",
   "metadata": {},
   "outputs": [
    {
     "data": {
      "text/plain": [
       "array([[0., 0., 1.],\n",
       "       [0., 0., 0.],\n",
       "       [0., 0., 0.]])"
      ]
     },
     "execution_count": 58,
     "metadata": {},
     "output_type": "execute_result"
    }
   ],
   "source": [
    "eye"
   ]
  },
  {
   "cell_type": "code",
   "execution_count": 60,
   "id": "9b81b797-de8a-4ef9-a518-dcf0c37b95bc",
   "metadata": {},
   "outputs": [],
   "source": [
    "arange = np.arange(1,10,2)"
   ]
  },
  {
   "cell_type": "code",
   "execution_count": 61,
   "id": "57f3c841-3a50-4ef0-bfaa-b619d3da9fcf",
   "metadata": {},
   "outputs": [
    {
     "data": {
      "text/plain": [
       "array([1, 3, 5, 7, 9])"
      ]
     },
     "execution_count": 61,
     "metadata": {},
     "output_type": "execute_result"
    }
   ],
   "source": [
    "arange"
   ]
  },
  {
   "cell_type": "code",
   "execution_count": 73,
   "id": "e8656a7b-1e0d-4112-85fc-4c45d684a3d2",
   "metadata": {},
   "outputs": [],
   "source": [
    "linspace = np.linspace (1,10,14, dtype = \"int\")"
   ]
  },
  {
   "cell_type": "code",
   "execution_count": 74,
   "id": "e009e82b-c440-4d02-982b-58edda5ffffc",
   "metadata": {},
   "outputs": [
    {
     "data": {
      "text/plain": [
       "array([ 1,  1,  2,  3,  3,  4,  5,  5,  6,  7,  7,  8,  9, 10])"
      ]
     },
     "execution_count": 74,
     "metadata": {},
     "output_type": "execute_result"
    }
   ],
   "source": [
    "linspace"
   ]
  },
  {
   "cell_type": "code",
   "execution_count": 75,
   "id": "39b6e04a-b5f4-4dcf-990e-b8558dd0650e",
   "metadata": {},
   "outputs": [
    {
     "data": {
      "text/plain": [
       "14"
      ]
     },
     "execution_count": 75,
     "metadata": {},
     "output_type": "execute_result"
    }
   ],
   "source": [
    "linspace.size"
   ]
  },
  {
   "cell_type": "code",
   "execution_count": 77,
   "id": "b663751a-6806-48e9-9c11-5d6d2b5f31df",
   "metadata": {},
   "outputs": [],
   "source": [
    "empty = np.empty((1,5))"
   ]
  },
  {
   "cell_type": "code",
   "execution_count": 78,
   "id": "9519e7e6-4a05-4836-acd4-ddfffeb9c4cc",
   "metadata": {},
   "outputs": [
    {
     "data": {
      "text/plain": [
       "array([[0. , 0.5, 1. , 1.5, 2. ]])"
      ]
     },
     "execution_count": 78,
     "metadata": {},
     "output_type": "execute_result"
    }
   ],
   "source": [
    "empty"
   ]
  },
  {
   "cell_type": "code",
   "execution_count": 84,
   "id": "146ed98b-2461-495f-a23d-7ae85acc454d",
   "metadata": {},
   "outputs": [],
   "source": [
    "for i in range(5):\n",
    "    empty[:,i]=i\n",
    "    empty\n",
    " \n"
   ]
  },
  {
   "cell_type": "code",
   "execution_count": 85,
   "id": "3b9871a0-1c66-42de-8890-a461df2ddd08",
   "metadata": {},
   "outputs": [
    {
     "data": {
      "text/plain": [
       "array([[0., 1., 2., 3., 4.]])"
      ]
     },
     "execution_count": 85,
     "metadata": {},
     "output_type": "execute_result"
    }
   ],
   "source": [
    "empty"
   ]
  },
  {
   "cell_type": "markdown",
   "id": "965e5c9d-bb54-4edc-9a38-39dc93eadfe5",
   "metadata": {},
   "source": [
    "# array indexing and slicing"
   ]
  },
  {
   "cell_type": "markdown",
   "id": "e80d835b-66d7-4a32-a7bd-121fdd28bbc4",
   "metadata": {},
   "source": [
    "#indexing"
   ]
  },
  {
   "cell_type": "code",
   "execution_count": 92,
   "id": "b783d621-31c4-46ad-993f-7bab41876d21",
   "metadata": {},
   "outputs": [],
   "source": [
    "arr1 = np.array([1,2,3,4,5])\n",
    "                \n",
    "                 "
   ]
  },
  {
   "cell_type": "code",
   "execution_count": 93,
   "id": "e3b15ad9-094d-4eb6-99fe-118fc9cd0ae8",
   "metadata": {},
   "outputs": [
    {
     "name": "stdout",
     "output_type": "stream",
     "text": [
      "[1 2 3 4 5]\n"
     ]
    }
   ],
   "source": [
    "print(arr1)"
   ]
  },
  {
   "cell_type": "code",
   "execution_count": 98,
   "id": "940b71ea-a0e6-47af-8b85-41c4ad2b9f42",
   "metadata": {},
   "outputs": [
    {
     "data": {
      "text/plain": [
       "1"
      ]
     },
     "execution_count": 98,
     "metadata": {},
     "output_type": "execute_result"
    }
   ],
   "source": [
    "arr1[0]"
   ]
  },
  {
   "cell_type": "code",
   "execution_count": 99,
   "id": "d699d622-db03-45c7-8163-da5f5c53be24",
   "metadata": {},
   "outputs": [
    {
     "data": {
      "text/plain": [
       "4"
      ]
     },
     "execution_count": 99,
     "metadata": {},
     "output_type": "execute_result"
    }
   ],
   "source": [
    "arr1[3]"
   ]
  },
  {
   "cell_type": "code",
   "execution_count": 100,
   "id": "3fa0c2ad-ef17-4b7e-b3d9-804f3b819107",
   "metadata": {},
   "outputs": [
    {
     "data": {
      "text/plain": [
       "5"
      ]
     },
     "execution_count": 100,
     "metadata": {},
     "output_type": "execute_result"
    }
   ],
   "source": [
    "arr1[-1]"
   ]
  },
  {
   "cell_type": "code",
   "execution_count": 101,
   "id": "4bd804ef-9615-444f-a3b7-5395e848d8f3",
   "metadata": {},
   "outputs": [],
   "source": [
    "arr2 = np.random.randint(1,10, size =(3,3))"
   ]
  },
  {
   "cell_type": "code",
   "execution_count": 102,
   "id": "9a04a8bc-861f-4b3a-acfc-c1dfe6289bab",
   "metadata": {},
   "outputs": [
    {
     "data": {
      "text/plain": [
       "array([[5, 1, 1],\n",
       "       [4, 1, 5],\n",
       "       [8, 7, 4]])"
      ]
     },
     "execution_count": 102,
     "metadata": {},
     "output_type": "execute_result"
    }
   ],
   "source": [
    "arr2"
   ]
  },
  {
   "cell_type": "code",
   "execution_count": 103,
   "id": "b5ebf446-ecc8-4be3-9e19-3f5f2ffa4f5d",
   "metadata": {},
   "outputs": [
    {
     "data": {
      "text/plain": [
       "5"
      ]
     },
     "execution_count": 103,
     "metadata": {},
     "output_type": "execute_result"
    }
   ],
   "source": [
    "arr2[0][0]"
   ]
  },
  {
   "cell_type": "code",
   "execution_count": 104,
   "id": "0bbfc3a5-3836-43b2-8b40-38a36d2d48fc",
   "metadata": {},
   "outputs": [
    {
     "data": {
      "text/plain": [
       "1"
      ]
     },
     "execution_count": 104,
     "metadata": {},
     "output_type": "execute_result"
    }
   ],
   "source": [
    "arr2[0][1]"
   ]
  },
  {
   "cell_type": "code",
   "execution_count": 105,
   "id": "aab9fdc4-0710-4428-903a-98103b4ee817",
   "metadata": {},
   "outputs": [
    {
     "data": {
      "text/plain": [
       "4"
      ]
     },
     "execution_count": 105,
     "metadata": {},
     "output_type": "execute_result"
    }
   ],
   "source": [
    "arr2[2,2]"
   ]
  },
  {
   "cell_type": "code",
   "execution_count": 108,
   "id": "1e34300e-aac5-4b1d-a351-935bdf6f2abf",
   "metadata": {},
   "outputs": [],
   "source": [
    "arr3= np.random.randint(1,10,size = (2,3,3))"
   ]
  },
  {
   "cell_type": "code",
   "execution_count": 109,
   "id": "ae38d7c7-097e-4aaa-b279-ba1d6040ec33",
   "metadata": {},
   "outputs": [
    {
     "data": {
      "text/plain": [
       "array([[[2, 3, 4],\n",
       "        [3, 1, 3],\n",
       "        [3, 4, 8]],\n",
       "\n",
       "       [[1, 5, 1],\n",
       "        [5, 1, 9],\n",
       "        [5, 9, 5]]])"
      ]
     },
     "execution_count": 109,
     "metadata": {},
     "output_type": "execute_result"
    }
   ],
   "source": [
    "arr3"
   ]
  },
  {
   "cell_type": "code",
   "execution_count": 110,
   "id": "429849e3-afb7-4c4d-ade5-e16908c2caaf",
   "metadata": {},
   "outputs": [
    {
     "data": {
      "text/plain": [
       "1"
      ]
     },
     "execution_count": 110,
     "metadata": {},
     "output_type": "execute_result"
    }
   ],
   "source": [
    "arr3[0][1][1]"
   ]
  },
  {
   "cell_type": "code",
   "execution_count": 111,
   "id": "67aef8a8-1ac9-4688-802d-e5bc693245a6",
   "metadata": {},
   "outputs": [
    {
     "data": {
      "text/plain": [
       "5"
      ]
     },
     "execution_count": 111,
     "metadata": {},
     "output_type": "execute_result"
    }
   ],
   "source": [
    "arr3[1][2][2]"
   ]
  },
  {
   "cell_type": "code",
   "execution_count": 112,
   "id": "e3479b83-8e00-4256-8c00-43c78de6dc66",
   "metadata": {},
   "outputs": [
    {
     "data": {
      "text/plain": [
       "1"
      ]
     },
     "execution_count": 112,
     "metadata": {},
     "output_type": "execute_result"
    }
   ],
   "source": [
    "arr3[1,1,1]"
   ]
  },
  {
   "cell_type": "markdown",
   "id": "a39e936c-208a-4d0e-8f89-dac472dcd0e3",
   "metadata": {},
   "source": [
    "#slicing"
   ]
  },
  {
   "cell_type": "code",
   "execution_count": 113,
   "id": "aa081442-507d-4b9e-b509-5cee20524a5d",
   "metadata": {},
   "outputs": [
    {
     "name": "stdout",
     "output_type": "stream",
     "text": [
      "[1 2 3 4 5]\n"
     ]
    }
   ],
   "source": [
    "print(arr1)"
   ]
  },
  {
   "cell_type": "code",
   "execution_count": 115,
   "id": "9b7eb33a-0933-492e-8ed7-6f3aae36a455",
   "metadata": {},
   "outputs": [
    {
     "data": {
      "text/plain": [
       "array([1, 2, 3])"
      ]
     },
     "execution_count": 115,
     "metadata": {},
     "output_type": "execute_result"
    }
   ],
   "source": [
    "arr1[0:3]"
   ]
  },
  {
   "cell_type": "code",
   "execution_count": 117,
   "id": "4ee6a819-8a51-4c43-b23d-60822707db1b",
   "metadata": {},
   "outputs": [
    {
     "name": "stdout",
     "output_type": "stream",
     "text": [
      "[3 4 5]\n"
     ]
    }
   ],
   "source": [
    "print(arr1[2:])"
   ]
  },
  {
   "cell_type": "code",
   "execution_count": 118,
   "id": "f37bbc50-f41e-4a26-ba67-b50e94fcba8f",
   "metadata": {},
   "outputs": [
    {
     "data": {
      "text/plain": [
       "array([[5, 1, 1],\n",
       "       [4, 1, 5],\n",
       "       [8, 7, 4]])"
      ]
     },
     "execution_count": 118,
     "metadata": {},
     "output_type": "execute_result"
    }
   ],
   "source": [
    "arr2"
   ]
  },
  {
   "cell_type": "code",
   "execution_count": 119,
   "id": "9ddcade1-b628-4ae2-8a98-c7f74cb27064",
   "metadata": {},
   "outputs": [
    {
     "data": {
      "text/plain": [
       "array([[5, 1],\n",
       "       [4, 1]])"
      ]
     },
     "execution_count": 119,
     "metadata": {},
     "output_type": "execute_result"
    }
   ],
   "source": [
    "arr2[0:2,0:2]"
   ]
  },
  {
   "cell_type": "markdown",
   "id": "6ae7dda3-e632-48a4-a146-3e2787cee863",
   "metadata": {},
   "source": [
    "# manipulating array shape\n",
    "1. Reshape\n",
    "2.Resize\n",
    "3.Plattern\n",
    "4.Revel\n",
    "5.Defining array shape"
   ]
  },
  {
   "cell_type": "markdown",
   "id": "17b5c947-bbd8-46c9-924d-1a030c80a71f",
   "metadata": {},
   "source": [
    "### Reshape"
   ]
  },
  {
   "cell_type": "code",
   "execution_count": 121,
   "id": "8b329d09-5ae8-4fee-a801-a72a3a18df05",
   "metadata": {},
   "outputs": [],
   "source": [
    "\n",
    "a = np.array([[1,2,3,],\n",
    "              [3,4,5]])"
   ]
  },
  {
   "cell_type": "code",
   "execution_count": 122,
   "id": "19b6fb70-c98c-4e66-b2cc-14549be7f395",
   "metadata": {},
   "outputs": [
    {
     "data": {
      "text/plain": [
       "array([[1, 2, 3],\n",
       "       [3, 4, 5]])"
      ]
     },
     "execution_count": 122,
     "metadata": {},
     "output_type": "execute_result"
    }
   ],
   "source": [
    "a"
   ]
  },
  {
   "cell_type": "code",
   "execution_count": 123,
   "id": "1b8fa432-a25a-4aa8-8701-4bc945590c94",
   "metadata": {},
   "outputs": [
    {
     "data": {
      "text/plain": [
       "(2, 3)"
      ]
     },
     "execution_count": 123,
     "metadata": {},
     "output_type": "execute_result"
    }
   ],
   "source": [
    "a.shape"
   ]
  },
  {
   "cell_type": "code",
   "execution_count": 127,
   "id": "3dccb642-91fa-4e61-bc74-c814802f643e",
   "metadata": {},
   "outputs": [],
   "source": [
    "a_reshaped = np.reshape(a,(3,2))"
   ]
  },
  {
   "cell_type": "code",
   "execution_count": 128,
   "id": "2257cd8c-c066-4042-a1e3-ee1820e9af54",
   "metadata": {},
   "outputs": [
    {
     "data": {
      "text/plain": [
       "array([[1, 2],\n",
       "       [3, 3],\n",
       "       [4, 5]])"
      ]
     },
     "execution_count": 128,
     "metadata": {},
     "output_type": "execute_result"
    }
   ],
   "source": [
    "a_reshaped"
   ]
  },
  {
   "cell_type": "code",
   "execution_count": 129,
   "id": "ba11a859-4d7c-4543-9c00-a2abb73f1a5e",
   "metadata": {},
   "outputs": [
    {
     "data": {
      "text/plain": [
       "6"
      ]
     },
     "execution_count": 129,
     "metadata": {},
     "output_type": "execute_result"
    }
   ],
   "source": [
    "a_reshaped.size"
   ]
  },
  {
   "cell_type": "code",
   "execution_count": 130,
   "id": "77f7d465-c014-4e49-bcc1-c89095f4b2cb",
   "metadata": {},
   "outputs": [
    {
     "data": {
      "text/plain": [
       "(3, 2)"
      ]
     },
     "execution_count": 130,
     "metadata": {},
     "output_type": "execute_result"
    }
   ],
   "source": [
    "a_reshaped.shape"
   ]
  },
  {
   "cell_type": "code",
   "execution_count": 135,
   "id": "9dde02eb-3785-48b4-978d-a88b7961ff3d",
   "metadata": {},
   "outputs": [
    {
     "ename": "ValueError",
     "evalue": "cannot reshape array of size 6 into shape (3,3)",
     "output_type": "error",
     "traceback": [
      "\u001b[0;31m---------------------------------------------------------------------------\u001b[0m",
      "\u001b[0;31mValueError\u001b[0m                                Traceback (most recent call last)",
      "\u001b[0;32m/var/folders/nn/vcmtyf8n1pl_gm88tw6nx6hw0000gn/T/ipykernel_88335/2097789541.py\u001b[0m in \u001b[0;36m<module>\u001b[0;34m\u001b[0m\n\u001b[0;32m----> 1\u001b[0;31m \u001b[0ma_reshaped2\u001b[0m \u001b[0;34m=\u001b[0m \u001b[0mnp\u001b[0m\u001b[0;34m.\u001b[0m\u001b[0mreshape\u001b[0m\u001b[0;34m(\u001b[0m\u001b[0ma\u001b[0m\u001b[0;34m,\u001b[0m\u001b[0;34m(\u001b[0m\u001b[0;36m3\u001b[0m\u001b[0;34m,\u001b[0m \u001b[0;36m3\u001b[0m\u001b[0;34m)\u001b[0m\u001b[0;34m)\u001b[0m\u001b[0;34m\u001b[0m\u001b[0;34m\u001b[0m\u001b[0m\n\u001b[0m",
      "\u001b[0;32m<__array_function__ internals>\u001b[0m in \u001b[0;36mreshape\u001b[0;34m(*args, **kwargs)\u001b[0m\n",
      "\u001b[0;32m~/opt/anaconda3/lib/python3.9/site-packages/numpy/core/fromnumeric.py\u001b[0m in \u001b[0;36mreshape\u001b[0;34m(a, newshape, order)\u001b[0m\n\u001b[1;32m    297\u001b[0m            [5, 6]])\n\u001b[1;32m    298\u001b[0m     \"\"\"\n\u001b[0;32m--> 299\u001b[0;31m     \u001b[0;32mreturn\u001b[0m \u001b[0m_wrapfunc\u001b[0m\u001b[0;34m(\u001b[0m\u001b[0ma\u001b[0m\u001b[0;34m,\u001b[0m \u001b[0;34m'reshape'\u001b[0m\u001b[0;34m,\u001b[0m \u001b[0mnewshape\u001b[0m\u001b[0;34m,\u001b[0m \u001b[0morder\u001b[0m\u001b[0;34m=\u001b[0m\u001b[0morder\u001b[0m\u001b[0;34m)\u001b[0m\u001b[0;34m\u001b[0m\u001b[0;34m\u001b[0m\u001b[0m\n\u001b[0m\u001b[1;32m    300\u001b[0m \u001b[0;34m\u001b[0m\u001b[0m\n\u001b[1;32m    301\u001b[0m \u001b[0;34m\u001b[0m\u001b[0m\n",
      "\u001b[0;32m~/opt/anaconda3/lib/python3.9/site-packages/numpy/core/fromnumeric.py\u001b[0m in \u001b[0;36m_wrapfunc\u001b[0;34m(obj, method, *args, **kwds)\u001b[0m\n\u001b[1;32m     56\u001b[0m \u001b[0;34m\u001b[0m\u001b[0m\n\u001b[1;32m     57\u001b[0m     \u001b[0;32mtry\u001b[0m\u001b[0;34m:\u001b[0m\u001b[0;34m\u001b[0m\u001b[0;34m\u001b[0m\u001b[0m\n\u001b[0;32m---> 58\u001b[0;31m         \u001b[0;32mreturn\u001b[0m \u001b[0mbound\u001b[0m\u001b[0;34m(\u001b[0m\u001b[0;34m*\u001b[0m\u001b[0margs\u001b[0m\u001b[0;34m,\u001b[0m \u001b[0;34m**\u001b[0m\u001b[0mkwds\u001b[0m\u001b[0;34m)\u001b[0m\u001b[0;34m\u001b[0m\u001b[0;34m\u001b[0m\u001b[0m\n\u001b[0m\u001b[1;32m     59\u001b[0m     \u001b[0;32mexcept\u001b[0m \u001b[0mTypeError\u001b[0m\u001b[0;34m:\u001b[0m\u001b[0;34m\u001b[0m\u001b[0;34m\u001b[0m\u001b[0m\n\u001b[1;32m     60\u001b[0m         \u001b[0;31m# A TypeError occurs if the object does have such a method in its\u001b[0m\u001b[0;34m\u001b[0m\u001b[0;34m\u001b[0m\u001b[0m\n",
      "\u001b[0;31mValueError\u001b[0m: cannot reshape array of size 6 into shape (3,3)"
     ]
    }
   ],
   "source": [
    "a_reshaped2 = np.reshape(a,(3, 3))"
   ]
  },
  {
   "cell_type": "markdown",
   "id": "139875bf-01fe-47e6-963b-e9c868bbb9bd",
   "metadata": {},
   "source": [
    "#### Resize"
   ]
  },
  {
   "cell_type": "code",
   "execution_count": 136,
   "id": "9c01f3e0-df24-4e7a-971b-0f795b58b581",
   "metadata": {},
   "outputs": [
    {
     "data": {
      "text/plain": [
       "array([[1, 2, 3],\n",
       "       [3, 4, 5]])"
      ]
     },
     "execution_count": 136,
     "metadata": {},
     "output_type": "execute_result"
    }
   ],
   "source": [
    "a"
   ]
  },
  {
   "cell_type": "code",
   "execution_count": 137,
   "id": "c36ed460-9483-42e0-b15c-00dcb7d497c7",
   "metadata": {},
   "outputs": [],
   "source": [
    "a_resized = np.resize(a,(3,3))"
   ]
  },
  {
   "cell_type": "code",
   "execution_count": 138,
   "id": "16b9f8e4-40ae-4728-9cbd-eb14b9854441",
   "metadata": {},
   "outputs": [
    {
     "data": {
      "text/plain": [
       "array([[1, 2, 3],\n",
       "       [3, 4, 5],\n",
       "       [1, 2, 3]])"
      ]
     },
     "execution_count": 138,
     "metadata": {},
     "output_type": "execute_result"
    }
   ],
   "source": [
    "a_resized"
   ]
  },
  {
   "cell_type": "markdown",
   "id": "f2a6eb66-1705-4a88-b67f-a147de4f3eb3",
   "metadata": {},
   "source": [
    "### Ravel"
   ]
  },
  {
   "cell_type": "code",
   "execution_count": 154,
   "id": "ff7c2e58-8bf0-4237-873b-ae34754fb835",
   "metadata": {},
   "outputs": [],
   "source": [
    "a = np.random.randint(1,10,(2,3))"
   ]
  },
  {
   "cell_type": "code",
   "execution_count": 155,
   "id": "21f0f9b4-31ff-4f28-aac3-27a0ddbe626e",
   "metadata": {},
   "outputs": [
    {
     "data": {
      "text/plain": [
       "array([[6, 5, 7],\n",
       "       [7, 7, 1]])"
      ]
     },
     "execution_count": 155,
     "metadata": {},
     "output_type": "execute_result"
    }
   ],
   "source": [
    "a"
   ]
  },
  {
   "cell_type": "code",
   "execution_count": 156,
   "id": "8aa92bd7-8188-4cf1-a19b-df4d53b6df4a",
   "metadata": {},
   "outputs": [],
   "source": [
    "a_raveled = np.ravel(a)"
   ]
  },
  {
   "cell_type": "code",
   "execution_count": 157,
   "id": "2a61740a-b49d-4244-b1d6-8e703202d14c",
   "metadata": {},
   "outputs": [
    {
     "data": {
      "text/plain": [
       "array([6, 5, 7, 7, 7, 1])"
      ]
     },
     "execution_count": 157,
     "metadata": {},
     "output_type": "execute_result"
    }
   ],
   "source": [
    "a_raveled"
   ]
  },
  {
   "cell_type": "code",
   "execution_count": 166,
   "id": "2f2f7f7d-15d1-4d28-9671-4ffb3aec3640",
   "metadata": {},
   "outputs": [],
   "source": [
    "a_raveled[0] = 0"
   ]
  },
  {
   "cell_type": "code",
   "execution_count": 167,
   "id": "df6a40a5-4812-488e-8d4e-11fe6c34751d",
   "metadata": {},
   "outputs": [
    {
     "data": {
      "text/plain": [
       "array([0, 5, 7, 7, 7, 1])"
      ]
     },
     "execution_count": 167,
     "metadata": {},
     "output_type": "execute_result"
    }
   ],
   "source": [
    "a_raveled"
   ]
  },
  {
   "cell_type": "code",
   "execution_count": 168,
   "id": "0dc50f9e-d024-4e10-85dd-731e55d39051",
   "metadata": {},
   "outputs": [
    {
     "data": {
      "text/plain": [
       "array([[0, 5, 7],\n",
       "       [7, 7, 1]])"
      ]
     },
     "execution_count": 168,
     "metadata": {},
     "output_type": "execute_result"
    }
   ],
   "source": [
    "a"
   ]
  },
  {
   "cell_type": "code",
   "execution_count": 169,
   "id": "de295fd7-051a-4b8c-9db7-b435f2915db7",
   "metadata": {},
   "outputs": [
    {
     "data": {
      "text/plain": [
       "(6,)"
      ]
     },
     "execution_count": 169,
     "metadata": {},
     "output_type": "execute_result"
    }
   ],
   "source": [
    "a_raveled.shape"
   ]
  },
  {
   "cell_type": "markdown",
   "id": "e57be8a8-0124-438b-bc9e-d3f5731427bd",
   "metadata": {},
   "source": [
    "##### Flaten"
   ]
  },
  {
   "cell_type": "code",
   "execution_count": 170,
   "id": "ece548fe-0daf-4a27-9d0c-ee5affb8122e",
   "metadata": {},
   "outputs": [
    {
     "data": {
      "text/plain": [
       "array([[0, 5, 7],\n",
       "       [7, 7, 1]])"
      ]
     },
     "execution_count": 170,
     "metadata": {},
     "output_type": "execute_result"
    }
   ],
   "source": [
    "a"
   ]
  },
  {
   "cell_type": "code",
   "execution_count": 172,
   "id": "4aed63bf-cb5d-4447-b70e-26ea9002e00c",
   "metadata": {},
   "outputs": [],
   "source": [
    "a_flattened = a.flatten()# return a copy of the orginal array even u change in element\n"
   ]
  },
  {
   "cell_type": "code",
   "execution_count": 173,
   "id": "9438594c-59be-42f4-951d-364994d02f3f",
   "metadata": {},
   "outputs": [
    {
     "data": {
      "text/plain": [
       "array([0, 5, 7, 7, 7, 1])"
      ]
     },
     "execution_count": 173,
     "metadata": {},
     "output_type": "execute_result"
    }
   ],
   "source": [
    "a_flattened"
   ]
  },
  {
   "cell_type": "code",
   "execution_count": 174,
   "id": "1a97c140-573c-499d-8687-4cb04808dd2c",
   "metadata": {},
   "outputs": [],
   "source": [
    "a_flattened[0] = 100"
   ]
  },
  {
   "cell_type": "code",
   "execution_count": 175,
   "id": "b1dc34a5-6fd0-4bd8-a516-03b02e771ea6",
   "metadata": {},
   "outputs": [
    {
     "data": {
      "text/plain": [
       "array([100,   5,   7,   7,   7,   1])"
      ]
     },
     "execution_count": 175,
     "metadata": {},
     "output_type": "execute_result"
    }
   ],
   "source": [
    "a_flattened"
   ]
  },
  {
   "cell_type": "code",
   "execution_count": 176,
   "id": "b4bca56f-5586-4c4a-b0d0-e9243373c6a9",
   "metadata": {},
   "outputs": [
    {
     "data": {
      "text/plain": [
       "array([[0, 5, 7],\n",
       "       [7, 7, 1]])"
      ]
     },
     "execution_count": 176,
     "metadata": {},
     "output_type": "execute_result"
    }
   ],
   "source": [
    "a"
   ]
  },
  {
   "cell_type": "markdown",
   "id": "95473551-74ab-42e5-b604-f712bd7a5047",
   "metadata": {},
   "source": [
    "### defining array shape"
   ]
  },
  {
   "cell_type": "code",
   "execution_count": 177,
   "id": "eb45e3b8-7d25-402d-b7b0-6f5c17e033b7",
   "metadata": {},
   "outputs": [
    {
     "data": {
      "text/plain": [
       "array([[0, 5, 7],\n",
       "       [7, 7, 1]])"
      ]
     },
     "execution_count": 177,
     "metadata": {},
     "output_type": "execute_result"
    }
   ],
   "source": [
    "a"
   ]
  },
  {
   "cell_type": "code",
   "execution_count": 178,
   "id": "65ced74f-d3aa-4894-ac03-397649c664e2",
   "metadata": {},
   "outputs": [],
   "source": [
    "a.shape = (3,2)"
   ]
  },
  {
   "cell_type": "code",
   "execution_count": 179,
   "id": "8f516bea-6d87-41af-990f-5b9cd7f1e736",
   "metadata": {},
   "outputs": [
    {
     "data": {
      "text/plain": [
       "array([[0, 5],\n",
       "       [7, 7],\n",
       "       [7, 1]])"
      ]
     },
     "execution_count": 179,
     "metadata": {},
     "output_type": "execute_result"
    }
   ],
   "source": [
    "a"
   ]
  },
  {
   "cell_type": "code",
   "execution_count": 181,
   "id": "41fd1245-517d-48bc-96d4-a9f7bafb5cf8",
   "metadata": {},
   "outputs": [],
   "source": [
    "a = np.arange(1,10).reshape(3,3)"
   ]
  },
  {
   "cell_type": "code",
   "execution_count": 182,
   "id": "ddce8852-3587-4f45-8cdf-d95d1eaafcee",
   "metadata": {},
   "outputs": [
    {
     "data": {
      "text/plain": [
       "array([[1, 2, 3],\n",
       "       [4, 5, 6],\n",
       "       [7, 8, 9]])"
      ]
     },
     "execution_count": 182,
     "metadata": {},
     "output_type": "execute_result"
    }
   ],
   "source": [
    "a"
   ]
  },
  {
   "cell_type": "code",
   "execution_count": 185,
   "id": "5ac7ab3f-0a7f-42e8-9464-141d32f66016",
   "metadata": {},
   "outputs": [],
   "source": [
    "b = 2*a"
   ]
  },
  {
   "cell_type": "code",
   "execution_count": 186,
   "id": "07954bb5-756c-42ab-b1f3-cd9ef323d1d2",
   "metadata": {},
   "outputs": [
    {
     "data": {
      "text/plain": [
       "array([[ 2,  4,  6],\n",
       "       [ 8, 10, 12],\n",
       "       [14, 16, 18]])"
      ]
     },
     "execution_count": 186,
     "metadata": {},
     "output_type": "execute_result"
    }
   ],
   "source": [
    "b"
   ]
  },
  {
   "cell_type": "code",
   "execution_count": 189,
   "id": "1bdec3bb-f2a8-4f68-9bd5-288aa43e5143",
   "metadata": {},
   "outputs": [
    {
     "data": {
      "text/plain": [
       "array([[ 1,  2,  3,  2,  4,  6],\n",
       "       [ 4,  5,  6,  8, 10, 12],\n",
       "       [ 7,  8,  9, 14, 16, 18]])"
      ]
     },
     "execution_count": 189,
     "metadata": {},
     "output_type": "execute_result"
    }
   ],
   "source": [
    "np.hstack((a, b))"
   ]
  },
  {
   "cell_type": "markdown",
   "id": "49981f3a-866c-4ba6-8499-fa26e99b5677",
   "metadata": {},
   "source": [
    "### verticle"
   ]
  },
  {
   "cell_type": "code",
   "execution_count": 193,
   "id": "8c3edd16-cbb8-4b33-8c99-10ece03433e3",
   "metadata": {},
   "outputs": [
    {
     "data": {
      "text/plain": [
       "array([[ 1,  2,  3],\n",
       "       [ 4,  5,  6],\n",
       "       [ 7,  8,  9],\n",
       "       [ 2,  4,  6],\n",
       "       [ 8, 10, 12],\n",
       "       [14, 16, 18]])"
      ]
     },
     "execution_count": 193,
     "metadata": {},
     "output_type": "execute_result"
    }
   ],
   "source": [
    "np.vstack((a, b))"
   ]
  },
  {
   "cell_type": "code",
   "execution_count": 194,
   "id": "04c8ccbb-80db-4b01-aee3-7426a016ea8e",
   "metadata": {},
   "outputs": [
    {
     "data": {
      "text/plain": [
       "array([[ 1,  2,  3],\n",
       "       [ 4,  5,  6],\n",
       "       [ 7,  8,  9],\n",
       "       [ 2,  4,  6],\n",
       "       [ 8, 10, 12],\n",
       "       [14, 16, 18]])"
      ]
     },
     "execution_count": 194,
     "metadata": {},
     "output_type": "execute_result"
    }
   ],
   "source": [
    "np.row_stack((a,b))"
   ]
  },
  {
   "cell_type": "code",
   "execution_count": 200,
   "id": "76df39f6-b101-40f7-9dce-792ec7437b2d",
   "metadata": {},
   "outputs": [],
   "source": [
    "x = np.linspace(0, 2, 10)"
   ]
  },
  {
   "cell_type": "code",
   "execution_count": 201,
   "id": "1f4664f1-ca8e-4ca9-ab36-e9a0d768e886",
   "metadata": {},
   "outputs": [
    {
     "data": {
      "text/plain": [
       "array([0.        , 0.22222222, 0.44444444, 0.66666667, 0.88888889,\n",
       "       1.11111111, 1.33333333, 1.55555556, 1.77777778, 2.        ])"
      ]
     },
     "execution_count": 201,
     "metadata": {},
     "output_type": "execute_result"
    }
   ],
   "source": [
    "x"
   ]
  },
  {
   "cell_type": "code",
   "execution_count": 204,
   "id": "0c0fdad3-4a43-45a6-aa7d-85e39b9041c4",
   "metadata": {},
   "outputs": [],
   "source": [
    "x = np.linspace(1, 2*np.pi,num = 100)"
   ]
  },
  {
   "cell_type": "code",
   "execution_count": 205,
   "id": "99d724ac-213b-4d41-b919-4b28e5eb0aa7",
   "metadata": {},
   "outputs": [
    {
     "data": {
      "text/plain": [
       "array([1.        , 1.05336551, 1.10673102, 1.16009652, 1.21346203,\n",
       "       1.26682754, 1.32019305, 1.37355856, 1.42692407, 1.48028957,\n",
       "       1.53365508, 1.58702059, 1.6403861 , 1.69375161, 1.74711711,\n",
       "       1.80048262, 1.85384813, 1.90721364, 1.96057915, 2.01394465,\n",
       "       2.06731016, 2.12067567, 2.17404118, 2.22740669, 2.2807722 ,\n",
       "       2.3341377 , 2.38750321, 2.44086872, 2.49423423, 2.54759974,\n",
       "       2.60096524, 2.65433075, 2.70769626, 2.76106177, 2.81442728,\n",
       "       2.86779279, 2.92115829, 2.9745238 , 3.02788931, 3.08125482,\n",
       "       3.13462033, 3.18798583, 3.24135134, 3.29471685, 3.34808236,\n",
       "       3.40144787, 3.45481338, 3.50817888, 3.56154439, 3.6149099 ,\n",
       "       3.66827541, 3.72164092, 3.77500642, 3.82837193, 3.88173744,\n",
       "       3.93510295, 3.98846846, 4.04183396, 4.09519947, 4.14856498,\n",
       "       4.20193049, 4.255296  , 4.30866151, 4.36202701, 4.41539252,\n",
       "       4.46875803, 4.52212354, 4.57548905, 4.62885455, 4.68222006,\n",
       "       4.73558557, 4.78895108, 4.84231659, 4.8956821 , 4.9490476 ,\n",
       "       5.00241311, 5.05577862, 5.10914413, 5.16250964, 5.21587514,\n",
       "       5.26924065, 5.32260616, 5.37597167, 5.42933718, 5.48270268,\n",
       "       5.53606819, 5.5894337 , 5.64279921, 5.69616472, 5.74953023,\n",
       "       5.80289573, 5.85626124, 5.90962675, 5.96299226, 6.01635777,\n",
       "       6.06972327, 6.12308878, 6.17645429, 6.2298198 , 6.28318531])"
      ]
     },
     "execution_count": 205,
     "metadata": {},
     "output_type": "execute_result"
    }
   ],
   "source": [
    "x"
   ]
  },
  {
   "cell_type": "code",
   "execution_count": 1,
   "id": "142d33b7-3837-49ae-9781-71d8c849d765",
   "metadata": {},
   "outputs": [
    {
     "name": "stdout",
     "output_type": "stream",
     "text": [
      "Requirement already satisfied: numpy in ./anaconda3/lib/python3.10/site-packages (1.23.5)\n"
     ]
    }
   ],
   "source": [
    "!pip install numpy"
   ]
  },
  {
   "cell_type": "code",
   "execution_count": 2,
   "id": "4f9bfe4d-24f4-4398-b106-d2c75ef0aa4a",
   "metadata": {},
   "outputs": [],
   "source": [
    "import numpy as np"
   ]
  },
  {
   "cell_type": "code",
   "execution_count": 3,
   "id": "dc298699-4bd7-4ddc-8f60-e135df7b7b91",
   "metadata": {},
   "outputs": [
    {
     "name": "stdout",
     "output_type": "stream",
     "text": [
      "[1, 2, 'tri', 6, 6.7]\n"
     ]
    }
   ],
   "source": [
    "l=[1,2,\"tri\",6,6.7]\n",
    "print(l)"
   ]
  },
  {
   "cell_type": "code",
   "execution_count": 7,
   "id": "f4b5dc2a-a930-4b37-ae8c-2f996801c4ca",
   "metadata": {},
   "outputs": [
    {
     "name": "stdout",
     "output_type": "stream",
     "text": [
      "['1' '2' 'tri' '6' '6.7']\n"
     ]
    }
   ],
   "source": [
    " arr=np.array(l)\n",
    " print(arr)"
   ]
  },
  {
   "cell_type": "code",
   "execution_count": 8,
   "id": "13de0943-a8fa-4385-82e3-6df7465a1850",
   "metadata": {},
   "outputs": [
    {
     "data": {
      "text/plain": [
       "numpy.ndarray"
      ]
     },
     "execution_count": 8,
     "metadata": {},
     "output_type": "execute_result"
    }
   ],
   "source": [
    "type(arr)"
   ]
  },
  {
   "cell_type": "code",
   "execution_count": 11,
   "id": "70609baf-c8d7-48c6-9651-9c7de0a90fb6",
   "metadata": {},
   "outputs": [
    {
     "data": {
      "text/plain": [
       "array([0, 1, 2, 3, 4, 5, 6, 7, 8, 9])"
      ]
     },
     "execution_count": 11,
     "metadata": {},
     "output_type": "execute_result"
    }
   ],
   "source": [
    "np.arange(10)"
   ]
  },
  {
   "cell_type": "code",
   "execution_count": 13,
   "id": "79829726-9947-4404-8013-f6b8eb87c432",
   "metadata": {},
   "outputs": [
    {
     "data": {
      "text/plain": [
       "array([0, 1, 2, 3, 4, 5, 6, 7])"
      ]
     },
     "execution_count": 13,
     "metadata": {},
     "output_type": "execute_result"
    }
   ],
   "source": [
    "np.arange(8)"
   ]
  },
  {
   "cell_type": "code",
   "execution_count": 14,
   "id": "c5185645-f8d0-4f13-8607-3dfd30ea161c",
   "metadata": {},
   "outputs": [
    {
     "data": {
      "text/plain": [
       "array([10, 11, 12, 13, 14, 15, 16, 17, 18, 19, 20, 21, 22, 23, 24, 25, 26,\n",
       "       27, 28, 29])"
      ]
     },
     "execution_count": 14,
     "metadata": {},
     "output_type": "execute_result"
    }
   ],
   "source": [
    "np.arange(10,30)"
   ]
  },
  {
   "cell_type": "code",
   "execution_count": 15,
   "id": "0a0decf6-91fc-443f-9d74-d2b383dd5d23",
   "metadata": {},
   "outputs": [
    {
     "data": {
      "text/plain": [
       "array([-10,  -9,  -8,  -7,  -6,  -5,  -4,  -3,  -2,  -1,   0,   1,   2,\n",
       "         3,   4,   5,   6,   7,   8,   9,  10,  11,  12,  13,  14,  15,\n",
       "        16,  17,  18,  19])"
      ]
     },
     "execution_count": 15,
     "metadata": {},
     "output_type": "execute_result"
    }
   ],
   "source": [
    "np.arange(-10,20)"
   ]
  },
  {
   "cell_type": "code",
   "execution_count": 16,
   "id": "e8b175ef-4374-4653-bb70-9419ff34be06",
   "metadata": {},
   "outputs": [
    {
     "data": {
      "text/plain": [
       "array([], dtype=int64)"
      ]
     },
     "execution_count": 16,
     "metadata": {},
     "output_type": "execute_result"
    }
   ],
   "source": [
    "np.arange(10,10)"
   ]
  },
  {
   "cell_type": "code",
   "execution_count": 18,
   "id": "05f7a641-c34c-4929-8f3d-8007eee90c2e",
   "metadata": {},
   "outputs": [
    {
     "data": {
      "text/plain": [
       "array([], dtype=int64)"
      ]
     },
     "execution_count": 18,
     "metadata": {},
     "output_type": "execute_result"
    }
   ],
   "source": [
    "np.arange(20,10)"
   ]
  },
  {
   "cell_type": "code",
   "execution_count": 19,
   "id": "5fe99be3-f093-4fad-85ff-832bdd84ef16",
   "metadata": {},
   "outputs": [
    {
     "data": {
      "text/plain": [
       "array([10, 12, 14, 16, 18])"
      ]
     },
     "execution_count": 19,
     "metadata": {},
     "output_type": "execute_result"
    }
   ],
   "source": [
    "# 10- starting from 30- end point 5 - step count\n",
    "np.arange(10,20,2)"
   ]
  },
  {
   "cell_type": "code",
   "execution_count": 20,
   "id": "ab1d7848-411c-40ce-98ca-ee9bbfd4c2a5",
   "metadata": {},
   "outputs": [
    {
     "data": {
      "text/plain": [
       "array([ 3,  6,  9, 12, 15, 18])"
      ]
     },
     "execution_count": 20,
     "metadata": {},
     "output_type": "execute_result"
    }
   ],
   "source": [
    "np.arange(3,19,3)"
   ]
  },
  {
   "cell_type": "code",
   "execution_count": 21,
   "id": "8173509f-e9e0-45f0-8e0f-b51089c100a8",
   "metadata": {},
   "outputs": [
    {
     "data": {
      "text/plain": [
       "array([ 3,  9, 15])"
      ]
     },
     "execution_count": 21,
     "metadata": {},
     "output_type": "execute_result"
    }
   ],
   "source": [
    "np.arange(3,19,6)"
   ]
  },
  {
   "cell_type": "code",
   "execution_count": 23,
   "id": "61daf360-6908-40af-9360-995b2c7b90b6",
   "metadata": {},
   "outputs": [
    {
     "data": {
      "text/plain": [
       "array([[0., 0., 0., 0., 0., 0.],\n",
       "       [0., 0., 0., 0., 0., 0.],\n",
       "       [0., 0., 0., 0., 0., 0.],\n",
       "       [0., 0., 0., 0., 0., 0.],\n",
       "       [0., 0., 0., 0., 0., 0.]])"
      ]
     },
     "execution_count": 23,
     "metadata": {},
     "output_type": "execute_result"
    }
   ],
   "source": [
    "# zeros function wit row and column specifiy\n",
    "np.zeros((5,6))"
   ]
  },
  {
   "cell_type": "code",
   "execution_count": 24,
   "id": "42e4db47-85c4-40d1-b9f4-382d98365fd6",
   "metadata": {},
   "outputs": [
    {
     "data": {
      "text/plain": [
       "array([[0., 0., 0., 0., 0., 0., 0., 0.],\n",
       "       [0., 0., 0., 0., 0., 0., 0., 0.],\n",
       "       [0., 0., 0., 0., 0., 0., 0., 0.],\n",
       "       [0., 0., 0., 0., 0., 0., 0., 0.],\n",
       "       [0., 0., 0., 0., 0., 0., 0., 0.],\n",
       "       [0., 0., 0., 0., 0., 0., 0., 0.]])"
      ]
     },
     "execution_count": 24,
     "metadata": {},
     "output_type": "execute_result"
    }
   ],
   "source": [
    "np.zeros((6,8))"
   ]
  },
  {
   "cell_type": "code",
   "execution_count": 25,
   "id": "33fce219-6c21-4fc2-a7d2-0b33bc09b93f",
   "metadata": {},
   "outputs": [
    {
     "data": {
      "text/plain": [
       "array([[1., 1., 1., 1., 1., 1.],\n",
       "       [1., 1., 1., 1., 1., 1.],\n",
       "       [1., 1., 1., 1., 1., 1.],\n",
       "       [1., 1., 1., 1., 1., 1.],\n",
       "       [1., 1., 1., 1., 1., 1.]])"
      ]
     },
     "execution_count": 25,
     "metadata": {},
     "output_type": "execute_result"
    }
   ],
   "source": [
    "# ones function wit row and column specifiy\n",
    "np.ones((5,6))"
   ]
  },
  {
   "cell_type": "code",
   "execution_count": 27,
   "id": "2fa543c2-c88e-4191-bce3-1acbfbac3a5b",
   "metadata": {},
   "outputs": [
    {
     "data": {
      "text/plain": [
       "array([[1., 1., 1., 1., 1., 1., 1., 1., 1.],\n",
       "       [1., 1., 1., 1., 1., 1., 1., 1., 1.],\n",
       "       [1., 1., 1., 1., 1., 1., 1., 1., 1.]])"
      ]
     },
     "execution_count": 27,
     "metadata": {},
     "output_type": "execute_result"
    }
   ],
   "source": [
    "np.ones((3,9))"
   ]
  },
  {
   "cell_type": "code",
   "execution_count": 28,
   "id": "fbde81b3-0e85-4782-8176-bd3662bf5ffa",
   "metadata": {},
   "outputs": [
    {
     "ename": "AttributeError",
     "evalue": "module 'numpy' has no attribute 'Twos'",
     "output_type": "error",
     "traceback": [
      "\u001b[0;31m---------------------------------------------------------------------------\u001b[0m",
      "\u001b[0;31mAttributeError\u001b[0m                            Traceback (most recent call last)",
      "Cell \u001b[0;32mIn[28], line 2\u001b[0m\n\u001b[1;32m      1\u001b[0m \u001b[38;5;66;03m#wrong with tws or threes functon\u001b[39;00m\n\u001b[0;32m----> 2\u001b[0m \u001b[43mnp\u001b[49m\u001b[38;5;241;43m.\u001b[39;49m\u001b[43mTwos\u001b[49m((\u001b[38;5;241m6\u001b[39m,\u001b[38;5;241m6\u001b[39m))\n",
      "File \u001b[0;32m~/anaconda3/lib/python3.10/site-packages/numpy/__init__.py:311\u001b[0m, in \u001b[0;36m__getattr__\u001b[0;34m(attr)\u001b[0m\n\u001b[1;32m    308\u001b[0m     \u001b[38;5;28;01mfrom\u001b[39;00m \u001b[38;5;21;01m.\u001b[39;00m\u001b[38;5;21;01mtesting\u001b[39;00m \u001b[38;5;28;01mimport\u001b[39;00m Tester\n\u001b[1;32m    309\u001b[0m     \u001b[38;5;28;01mreturn\u001b[39;00m Tester\n\u001b[0;32m--> 311\u001b[0m \u001b[38;5;28;01mraise\u001b[39;00m \u001b[38;5;167;01mAttributeError\u001b[39;00m(\u001b[38;5;124m\"\u001b[39m\u001b[38;5;124mmodule \u001b[39m\u001b[38;5;132;01m{!r}\u001b[39;00m\u001b[38;5;124m has no attribute \u001b[39m\u001b[38;5;124m\"\u001b[39m\n\u001b[1;32m    312\u001b[0m                      \u001b[38;5;124m\"\u001b[39m\u001b[38;5;132;01m{!r}\u001b[39;00m\u001b[38;5;124m\"\u001b[39m\u001b[38;5;241m.\u001b[39mformat(\u001b[38;5;18m__name__\u001b[39m, attr))\n",
      "\u001b[0;31mAttributeError\u001b[0m: module 'numpy' has no attribute 'Twos'"
     ]
    }
   ],
   "source": [
    "#wrong with tws or threes functon\n",
    "np.Twos((6,6))"
   ]
  },
  {
   "cell_type": "code",
   "execution_count": 30,
   "id": "7d528db8-544d-48b8-a1eb-3b2c6c3be4af",
   "metadata": {},
   "outputs": [
    {
     "data": {
      "text/plain": [
       "array([0, 1, 2, 3, 4, 5, 6, 7, 8])"
      ]
     },
     "execution_count": 30,
     "metadata": {},
     "output_type": "execute_result"
    }
   ],
   "source": [
    "#without np also possible to operate\n",
    "from numpy import*\n",
    "arange(9)\n"
   ]
  },
  {
   "cell_type": "code",
   "execution_count": 31,
   "id": "b325c25d-0605-4568-9476-a5aded5a04cf",
   "metadata": {},
   "outputs": [
    {
     "data": {
      "text/plain": [
       "array([ 0,  1,  2,  3,  4,  5,  6,  7,  8,  9, 10, 11, 12, 13, 14, 15, 16,\n",
       "       17, 18, 19, 20, 21, 22, 23, 24, 25, 26, 27, 28, 29, 30, 31, 32, 33,\n",
       "       34, 35, 36, 37, 38, 39, 40, 41, 42, 43, 44, 45, 46, 47, 48, 49, 50,\n",
       "       51, 52, 53, 54, 55, 56, 57, 58, 59, 60, 61, 62, 63, 64, 65, 66, 67,\n",
       "       68, 69, 70, 71, 72, 73, 74, 75, 76, 77, 78, 79, 80, 81, 82, 83, 84,\n",
       "       85, 86, 87, 88, 89, 90, 91, 92, 93, 94, 95, 96, 97, 98, 99])"
      ]
     },
     "execution_count": 31,
     "metadata": {},
     "output_type": "execute_result"
    }
   ],
   "source": [
    "#without np also possible to operate\n",
    "from numpy import*\n",
    "arange(100)\n"
   ]
  },
  {
   "cell_type": "code",
   "execution_count": 37,
   "id": "c5f1372a-44f7-4c1c-abf9-49ee86b678dd",
   "metadata": {},
   "outputs": [
    {
     "data": {
      "text/plain": [
       "array([0., 0., 0., 0.])"
      ]
     },
     "execution_count": 37,
     "metadata": {},
     "output_type": "execute_result"
    }
   ],
   "source": [
    "from numpy import*\n",
    "zeros(4)"
   ]
  },
  {
   "cell_type": "code",
   "execution_count": 40,
   "id": "96dd8c1f-87b7-4fc8-a9ab-44baf667091d",
   "metadata": {},
   "outputs": [
    {
     "data": {
      "text/plain": [
       "24"
      ]
     },
     "execution_count": 40,
     "metadata": {},
     "output_type": "execute_result"
    }
   ],
   "source": [
    "#randint function\n",
    "np.random.randint(10,30)"
   ]
  },
  {
   "cell_type": "code",
   "execution_count": 41,
   "id": "5d41c226-5ef1-4695-b9c0-148f0ec65940",
   "metadata": {},
   "outputs": [
    {
     "data": {
      "text/plain": [
       "array([22, 22, 12, 13, 22, 18, 25, 10])"
      ]
     },
     "execution_count": 41,
     "metadata": {},
     "output_type": "execute_result"
    }
   ],
   "source": [
    "#randint function\n",
    "np.random.randint(10,30,8)"
   ]
  },
  {
   "cell_type": "code",
   "execution_count": 42,
   "id": "b88b5411-2d5f-4b6e-ace0-692a1efface9",
   "metadata": {},
   "outputs": [
    {
     "data": {
      "text/plain": [
       "0"
      ]
     },
     "execution_count": 42,
     "metadata": {},
     "output_type": "execute_result"
    }
   ],
   "source": [
    "np.random.randint(1) "
   ]
  },
  {
   "cell_type": "code",
   "execution_count": 43,
   "id": "ccf66d7f-5c98-46f2-909b-da4bcff9c646",
   "metadata": {},
   "outputs": [
    {
     "data": {
      "text/plain": [
       "array([[253,  33, 185, 242,  18],\n",
       "       [ 24,  61, 260, 237, 225],\n",
       "       [ 70, 248, 194,  82, 210],\n",
       "       [259, 187,  76, 207, 212],\n",
       "       [123,  42,  48, 151, 253]])"
      ]
     },
     "execution_count": 43,
     "metadata": {},
     "output_type": "execute_result"
    }
   ],
   "source": [
    "#generate the elements 10 to 70 with 5*5 matrix\n",
    "np.random.randint(10,270,(5,5)) "
   ]
  },
  {
   "cell_type": "code",
   "execution_count": 46,
   "id": "afaa0608-8337-4ef8-a9be-2a818ee4839b",
   "metadata": {},
   "outputs": [
    {
     "data": {
      "text/plain": [
       "array([[181, 170,  77, 124, 192, 134, 143, 151, 137],\n",
       "       [141,  88, 127,  79, 100, 125, 159,  91, 140],\n",
       "       [140, 111, 116, 175,  98, 177, 100, 167, 154],\n",
       "       [185, 108,  82, 165,  75, 178, 140,  57, 109],\n",
       "       [170,  69,  77, 163, 175, 127,  72, 157, 182],\n",
       "       [148, 197, 124,  73, 111, 172,  85, 140, 139],\n",
       "       [182,  73, 161, 101, 102,  94,  75, 123,  55],\n",
       "       [ 52,  56, 181, 185, 162,  86, 115, 169,  88]])"
      ]
     },
     "execution_count": 46,
     "metadata": {},
     "output_type": "execute_result"
    }
   ],
   "source": [
    "np.random.randint(50,200,(8,9))"
   ]
  },
  {
   "cell_type": "code",
   "execution_count": 73,
   "id": "b0873069-dbbe-4580-ad9b-c71134709e03",
   "metadata": {},
   "outputs": [
    {
     "data": {
      "text/plain": [
       "array([18, 16, 19, 15, 13, 17])"
      ]
     },
     "execution_count": 73,
     "metadata": {},
     "output_type": "execute_result"
    }
   ],
   "source": [
    "#arithmatic function\n",
    "a = np.random.randint(10,20,6)\n",
    "a"
   ]
  },
  {
   "cell_type": "code",
   "execution_count": 76,
   "id": "799575a7-ce7e-45e7-9512-23b66cf60317",
   "metadata": {},
   "outputs": [],
   "source": [
    "arr=a"
   ]
  },
  {
   "cell_type": "code",
   "execution_count": 77,
   "id": "1687f0ec-35cd-4320-9608-178e734cc623",
   "metadata": {},
   "outputs": [
    {
     "data": {
      "text/plain": [
       "13"
      ]
     },
     "execution_count": 77,
     "metadata": {},
     "output_type": "execute_result"
    }
   ],
   "source": [
    "arr.min()"
   ]
  },
  {
   "cell_type": "code",
   "execution_count": 78,
   "id": "e4f5ece2-682c-41e0-bed3-d3b343fff457",
   "metadata": {},
   "outputs": [
    {
     "data": {
      "text/plain": [
       "19"
      ]
     },
     "execution_count": 78,
     "metadata": {},
     "output_type": "execute_result"
    }
   ],
   "source": [
    "arr.max()"
   ]
  },
  {
   "cell_type": "code",
   "execution_count": 79,
   "id": "b0222e67-e146-4d21-b752-262483bd7cc4",
   "metadata": {},
   "outputs": [
    {
     "data": {
      "text/plain": [
       "16.333333333333332"
      ]
     },
     "execution_count": 79,
     "metadata": {},
     "output_type": "execute_result"
    }
   ],
   "source": [
    "arr.mean()"
   ]
  },
  {
   "cell_type": "code",
   "execution_count": 80,
   "id": "030a81e2-b84f-4d5d-b51b-bb2638b7161d",
   "metadata": {},
   "outputs": [
    {
     "ename": "AttributeError",
     "evalue": "'numpy.ndarray' object has no attribute 'median'",
     "output_type": "error",
     "traceback": [
      "\u001b[0;31m---------------------------------------------------------------------------\u001b[0m",
      "\u001b[0;31mAttributeError\u001b[0m                            Traceback (most recent call last)",
      "Cell \u001b[0;32mIn[80], line 1\u001b[0m\n\u001b[0;32m----> 1\u001b[0m \u001b[43marr\u001b[49m\u001b[38;5;241;43m.\u001b[39;49m\u001b[43mmedian\u001b[49m()\n",
      "\u001b[0;31mAttributeError\u001b[0m: 'numpy.ndarray' object has no attribute 'median'"
     ]
    }
   ],
   "source": [
    "arr.median()"
   ]
  },
  {
   "cell_type": "code",
   "execution_count": 56,
   "id": "6e772825-d147-49fb-8aeb-85710df95d45",
   "metadata": {},
   "outputs": [
    {
     "ename": "AttributeError",
     "evalue": "'numpy.ndarray' object has no attribute 'median'",
     "output_type": "error",
     "traceback": [
      "\u001b[0;31m---------------------------------------------------------------------------\u001b[0m",
      "\u001b[0;31mAttributeError\u001b[0m                            Traceback (most recent call last)",
      "Cell \u001b[0;32mIn[56], line 2\u001b[0m\n\u001b[1;32m      1\u001b[0m a\u001b[38;5;241m=\u001b[39m arr\n\u001b[0;32m----> 2\u001b[0m \u001b[43ma\u001b[49m\u001b[38;5;241;43m.\u001b[39;49m\u001b[43mmedian\u001b[49m\n",
      "\u001b[0;31mAttributeError\u001b[0m: 'numpy.ndarray' object has no attribute 'median'"
     ]
    }
   ],
   "source": [
    "a= arr\n",
    "a.median\n"
   ]
  },
  {
   "cell_type": "code",
   "execution_count": 81,
   "id": "eda09bf7-8991-46ca-9ccc-79217ea6b941",
   "metadata": {},
   "outputs": [
    {
     "data": {
      "text/plain": [
       "3.0"
      ]
     },
     "execution_count": 81,
     "metadata": {},
     "output_type": "execute_result"
    }
   ],
   "source": [
    "# but you can find median this way\n",
    "from numpy import *\n",
    "a = array([1,2,3,4,9])\n",
    "median(a)"
   ]
  },
  {
   "cell_type": "code",
   "execution_count": 82,
   "id": "97bbdc8e-f5b5-4c44-bffd-ec3a05ddb0c4",
   "metadata": {},
   "outputs": [
    {
     "data": {
      "text/plain": [
       "array([18, 16, 19, 15, 13, 17])"
      ]
     },
     "execution_count": 82,
     "metadata": {},
     "output_type": "execute_result"
    }
   ],
   "source": [
    "arr"
   ]
  },
  {
   "cell_type": "code",
   "execution_count": 83,
   "id": "301b7ebc-87d8-41d8-a491-b0eb8ca80702",
   "metadata": {},
   "outputs": [
    {
     "data": {
      "text/plain": [
       "array([[18, 16, 19],\n",
       "       [15, 13, 17]])"
      ]
     },
     "execution_count": 83,
     "metadata": {},
     "output_type": "execute_result"
    }
   ],
   "source": [
    "arr.reshape(2,3)"
   ]
  },
  {
   "cell_type": "code",
   "execution_count": 84,
   "id": "eea94e9f-2469-480f-a58c-aaf1e8b1847f",
   "metadata": {},
   "outputs": [
    {
     "data": {
      "text/plain": [
       "array([[18, 16],\n",
       "       [19, 15],\n",
       "       [13, 17]])"
      ]
     },
     "execution_count": 84,
     "metadata": {},
     "output_type": "execute_result"
    }
   ],
   "source": [
    "arr.reshape(3,2)"
   ]
  },
  {
   "cell_type": "code",
   "execution_count": 85,
   "id": "947073fb-c6f2-483d-a3c1-91c730785720",
   "metadata": {},
   "outputs": [
    {
     "data": {
      "text/plain": [
       "array([[18, 16, 19, 15, 13, 17]])"
      ]
     },
     "execution_count": 85,
     "metadata": {},
     "output_type": "execute_result"
    }
   ],
   "source": [
    "arr.reshape(1,6)"
   ]
  },
  {
   "cell_type": "code",
   "execution_count": 86,
   "id": "01f1a391-6107-477c-83f4-4b3dffbf598c",
   "metadata": {},
   "outputs": [
    {
     "data": {
      "text/plain": [
       "array([[18],\n",
       "       [16],\n",
       "       [19],\n",
       "       [15],\n",
       "       [13],\n",
       "       [17]])"
      ]
     },
     "execution_count": 86,
     "metadata": {},
     "output_type": "execute_result"
    }
   ],
   "source": [
    "arr.reshape(6,1)"
   ]
  },
  {
   "cell_type": "code",
   "execution_count": 87,
   "id": "5ee7b900-5b45-438b-b83b-e1f3a52e4bbf",
   "metadata": {},
   "outputs": [
    {
     "ename": "TypeError",
     "evalue": "'tuple' object is not callable",
     "output_type": "error",
     "traceback": [
      "\u001b[0;31m---------------------------------------------------------------------------\u001b[0m",
      "\u001b[0;31mTypeError\u001b[0m                                 Traceback (most recent call last)",
      "Cell \u001b[0;32mIn[87], line 2\u001b[0m\n\u001b[1;32m      1\u001b[0m \u001b[38;5;66;03m# but not possible without the total size 6\u001b[39;00m\n\u001b[0;32m----> 2\u001b[0m \u001b[43marr\u001b[49m\u001b[38;5;241;43m.\u001b[39;49m\u001b[43mshape\u001b[49m\u001b[43m(\u001b[49m\u001b[38;5;241;43m1\u001b[39;49m\u001b[43m,\u001b[49m\u001b[38;5;241;43m4\u001b[39;49m\u001b[43m)\u001b[49m\n",
      "\u001b[0;31mTypeError\u001b[0m: 'tuple' object is not callable"
     ]
    }
   ],
   "source": [
    "# but not possible without the total size 6\n",
    "arr.shape(1,4)"
   ]
  },
  {
   "cell_type": "code",
   "execution_count": 109,
   "id": "5709e85c-8d89-44fd-ba75-1e3c563604fd",
   "metadata": {},
   "outputs": [
    {
     "data": {
      "text/plain": [
       "array([[ 0,  1,  2,  3,  4],\n",
       "       [ 5,  6,  7,  8,  9],\n",
       "       [10, 11, 12, 13, 14],\n",
       "       [15, 16, 17, 18, 19],\n",
       "       [20, 21, 22, 23, 24],\n",
       "       [25, 26, 27, 28, 29],\n",
       "       [30, 31, 32, 33, 34],\n",
       "       [35, 36, 37, 38, 39],\n",
       "       [40, 41, 42, 43, 44],\n",
       "       [45, 46, 47, 48, 49]])"
      ]
     },
     "execution_count": 109,
     "metadata": {},
     "output_type": "execute_result"
    }
   ],
   "source": [
    "#indexing\n",
    "met = np.arange(0,50).reshape(10,5)\n",
    "met"
   ]
  },
  {
   "cell_type": "code",
   "execution_count": 94,
   "id": "36a621c4-56aa-4a25-89a8-58b4dede502c",
   "metadata": {},
   "outputs": [
    {
     "data": {
      "text/plain": [
       "array([[ 0,  1,  2,  3,  4,  5,  6,  7,  8,  9],\n",
       "       [10, 11, 12, 13, 14, 15, 16, 17, 18, 19],\n",
       "       [20, 21, 22, 23, 24, 25, 26, 27, 28, 29],\n",
       "       [30, 31, 32, 33, 34, 35, 36, 37, 38, 39],\n",
       "       [40, 41, 42, 43, 44, 45, 46, 47, 48, 49]])"
      ]
     },
     "execution_count": 94,
     "metadata": {},
     "output_type": "execute_result"
    }
   ],
   "source": [
    "met.reshape(5,10)"
   ]
  },
  {
   "cell_type": "code",
   "execution_count": 97,
   "id": "728f87e4-51b8-46a8-87b9-b27704ae8557",
   "metadata": {},
   "outputs": [
    {
     "data": {
      "text/plain": [
       "array([[ 0,  1,  2,  3,  4],\n",
       "       [ 5,  6,  7,  8,  9],\n",
       "       [10, 11, 12, 13, 14],\n",
       "       [15, 16, 17, 18, 19],\n",
       "       [20, 21, 22, 23, 24],\n",
       "       [25, 26, 27, 28, 29],\n",
       "       [30, 31, 32, 33, 34],\n",
       "       [35, 36, 37, 38, 39],\n",
       "       [40, 41, 42, 43, 44],\n",
       "       [45, 46, 47, 48, 49]])"
      ]
     },
     "execution_count": 97,
     "metadata": {},
     "output_type": "execute_result"
    }
   ],
   "source": [
    "#slicing\n",
    "met[:]"
   ]
  },
  {
   "cell_type": "code",
   "execution_count": 103,
   "id": "3bb03ea4-46c4-4081-afc3-92f2218d21a8",
   "metadata": {},
   "outputs": [
    {
     "ename": "NameError",
     "evalue": "name 'col' is not defined",
     "output_type": "error",
     "traceback": [
      "\u001b[0;31m---------------------------------------------------------------------------\u001b[0m",
      "\u001b[0;31mNameError\u001b[0m                                 Traceback (most recent call last)",
      "Cell \u001b[0;32mIn[103], line 2\u001b[0m\n\u001b[1;32m      1\u001b[0m \u001b[38;5;66;03m#deletes row \u001b[39;00m\n\u001b[0;32m----> 2\u001b[0m met[:,\u001b[43mcol\u001b[49m]\n",
      "\u001b[0;31mNameError\u001b[0m: name 'col' is not defined"
     ]
    }
   ],
   "source": [
    "#deletes row \n",
    "met[:,col] "
   ]
  },
  {
   "cell_type": "code",
   "execution_count": 104,
   "id": "6c1e33c5-3188-4ede-893a-456e8c9676ee",
   "metadata": {},
   "outputs": [
    {
     "ename": "NameError",
     "evalue": "name 'row' is not defined",
     "output_type": "error",
     "traceback": [
      "\u001b[0;31m---------------------------------------------------------------------------\u001b[0m",
      "\u001b[0;31mNameError\u001b[0m                                 Traceback (most recent call last)",
      "Cell \u001b[0;32mIn[104], line 1\u001b[0m\n\u001b[0;32m----> 1\u001b[0m met[\u001b[43mrow\u001b[49m,:]\n",
      "\u001b[0;31mNameError\u001b[0m: name 'row' is not defined"
     ]
    }
   ],
   "source": [
    "met[row,:]"
   ]
  },
  {
   "cell_type": "code",
   "execution_count": 105,
   "id": "5c0b853b-00f7-489e-9f89-48ff89d886db",
   "metadata": {},
   "outputs": [
    {
     "name": "stdout",
     "output_type": "stream",
     "text": [
      "[[ 0  2  3  4]\n",
      " [ 5  7  8  9]\n",
      " [10 12 13 14]\n",
      " [15 17 18 19]\n",
      " [20 22 23 24]\n",
      " [25 27 28 29]\n",
      " [30 32 33 34]\n",
      " [35 37 38 39]\n",
      " [40 42 43 44]\n",
      " [45 47 48 49]]\n"
     ]
    }
   ],
   "source": [
    "col = 1\n",
    "\n",
    "# delete the column using the delete() function\n",
    "met = np.delete(met, col, axis=1)\n",
    "\n",
    "# print the updated array\n",
    "print(met)"
   ]
  },
  {
   "cell_type": "code",
   "execution_count": 106,
   "id": "f5c2e63c-8845-43fa-a910-429c92d063d9",
   "metadata": {},
   "outputs": [
    {
     "name": "stdout",
     "output_type": "stream",
     "text": [
      "[[ 0  2  3  4]\n",
      " [ 5  7  8  9]\n",
      " [10 12 13 14]\n",
      " [20 22 23 24]\n",
      " [25 27 28 29]\n",
      " [30 32 33 34]\n",
      " [35 37 38 39]\n",
      " [40 42 43 44]\n",
      " [45 47 48 49]]\n"
     ]
    }
   ],
   "source": [
    "row = 3\n",
    "# delete the column using the delete() function\n",
    "met = np.delete(met, row, axis=0)\n",
    "\n",
    "# print the updated array\n",
    "print(met)"
   ]
  },
  {
   "cell_type": "code",
   "execution_count": 144,
   "id": "1ea6125d-acad-4b67-8ad3-d56cc6035425",
   "metadata": {},
   "outputs": [
    {
     "data": {
      "text/plain": [
       "array([ 1,  6, 11, 16, 21, 26, 31, 36, 41, 46])"
      ]
     },
     "execution_count": 144,
     "metadata": {},
     "output_type": "execute_result"
    }
   ],
   "source": [
    "#want to find the column which i defined\n",
    "met[:,col]"
   ]
  },
  {
   "cell_type": "code",
   "execution_count": 145,
   "id": "3d8cffb6-50a6-47fe-8068-fa61c636251d",
   "metadata": {},
   "outputs": [
    {
     "data": {
      "text/plain": [
       "array([15, 16, 17, 18, 19])"
      ]
     },
     "execution_count": 145,
     "metadata": {},
     "output_type": "execute_result"
    }
   ],
   "source": [
    "#want to find the row which i defined\n",
    "met[row,:]"
   ]
  },
  {
   "cell_type": "code",
   "execution_count": 107,
   "id": "47cf8dfb-8f41-4054-b58c-7dcfd8b322b0",
   "metadata": {},
   "outputs": [
    {
     "data": {
      "text/plain": [
       "array([[ 7,  8],\n",
       "       [12, 13],\n",
       "       [22, 23]])"
      ]
     },
     "execution_count": 107,
     "metadata": {},
     "output_type": "execute_result"
    }
   ],
   "source": [
    "met[1:4,1:3,] "
   ]
  },
  {
   "cell_type": "code",
   "execution_count": 146,
   "id": "d5c9bde9-221d-4128-ab64-28648878ed57",
   "metadata": {},
   "outputs": [
    {
     "data": {
      "text/plain": [
       "array([[45, 46, 47, 48, 49],\n",
       "       [40, 41, 42, 43, 44],\n",
       "       [35, 36, 37, 38, 39],\n",
       "       [30, 31, 32, 33, 34],\n",
       "       [25, 26, 27, 28, 29],\n",
       "       [20, 21, 22, 23, 24],\n",
       "       [15, 16, 17, 18, 19],\n",
       "       [10, 11, 12, 13, 14],\n",
       "       [ 5,  6,  7,  8,  9],\n",
       "       [ 0,  1,  2,  3,  4]])"
      ]
     },
     "execution_count": 146,
     "metadata": {},
     "output_type": "execute_result"
    }
   ],
   "source": [
    "#Reversing\n",
    "met[::-1]"
   ]
  },
  {
   "cell_type": "code",
   "execution_count": 147,
   "id": "748f4799-fba5-4dd4-8aeb-90446f396cc2",
   "metadata": {},
   "outputs": [
    {
     "data": {
      "text/plain": [
       "array([[12]])"
      ]
     },
     "execution_count": 147,
     "metadata": {},
     "output_type": "execute_result"
    }
   ],
   "source": [
    "met[2:3,2:3]"
   ]
  },
  {
   "cell_type": "code",
   "execution_count": 110,
   "id": "90f8555d-8f15-4204-b8a0-acfc366c551e",
   "metadata": {},
   "outputs": [
    {
     "data": {
      "text/plain": [
       "array([[ 0,  1,  2,  3,  4],\n",
       "       [ 5,  6,  7,  8,  9],\n",
       "       [10, 11, 12, 13, 14],\n",
       "       [15, 16, 17, 18, 19],\n",
       "       [20, 21, 22, 23, 24],\n",
       "       [25, 26, 27, 28, 29],\n",
       "       [30, 31, 32, 33, 34],\n",
       "       [35, 36, 37, 38, 39],\n",
       "       [40, 41, 42, 43, 44],\n",
       "       [45, 46, 47, 48, 49]])"
      ]
     },
     "execution_count": 110,
     "metadata": {},
     "output_type": "execute_result"
    }
   ],
   "source": [
    "#Masking or Filtering\n",
    "met"
   ]
  },
  {
   "cell_type": "code",
   "execution_count": 111,
   "id": "9ae47284-0672-45d5-a0cd-d24419228396",
   "metadata": {},
   "outputs": [
    {
     "data": {
      "text/plain": [
       "array([[False, False, False, False, False],\n",
       "       [False, False, False, False, False],\n",
       "       [False, False, False, False, False],\n",
       "       [False, False, False, False, False],\n",
       "       [False, False, False, False, False],\n",
       "       [False, False, False, False, False],\n",
       "       [False,  True,  True,  True,  True],\n",
       "       [ True,  True,  True,  True,  True],\n",
       "       [ True,  True,  True,  True,  True],\n",
       "       [ True,  True,  True,  True,  True]])"
      ]
     },
     "execution_count": 111,
     "metadata": {},
     "output_type": "execute_result"
    }
   ],
   "source": [
    "met>30"
   ]
  },
  {
   "cell_type": "code",
   "execution_count": 112,
   "id": "078b5e22-bf22-45fb-86a3-1e247d2a4e15",
   "metadata": {},
   "outputs": [
    {
     "data": {
      "text/plain": [
       "array([[ True,  True,  True,  True,  True],\n",
       "       [ True,  True,  True,  True,  True],\n",
       "       [ True,  True,  True,  True,  True],\n",
       "       [ True,  True,  True,  True,  True],\n",
       "       [ True,  True,  True,  True,  True],\n",
       "       [False, False, False, False, False],\n",
       "       [False, False, False, False, False],\n",
       "       [False, False, False, False, False],\n",
       "       [False, False, False, False, False],\n",
       "       [False, False, False, False, False]])"
      ]
     },
     "execution_count": 112,
     "metadata": {},
     "output_type": "execute_result"
    }
   ],
   "source": [
    "met<25"
   ]
  },
  {
   "cell_type": "code",
   "execution_count": 115,
   "id": "9e482d10-eec9-4639-997e-e48d80ff0034",
   "metadata": {},
   "outputs": [
    {
     "data": {
      "text/plain": [
       "array([36, 37, 38, 39, 40, 41, 42, 43, 44, 45, 46, 47, 48, 49])"
      ]
     },
     "execution_count": 115,
     "metadata": {},
     "output_type": "execute_result"
    }
   ],
   "source": [
    "a=met[met>35]\n",
    "a"
   ]
  },
  {
   "cell_type": "code",
   "execution_count": 116,
   "id": "5d68924d-7f53-4769-a5ab-a0643b262fe0",
   "metadata": {},
   "outputs": [
    {
     "data": {
      "text/plain": [
       "array([ 0,  1,  2,  3,  4,  5,  6,  7,  8,  9, 10, 11, 12, 13, 14, 15, 16,\n",
       "       17, 18, 19, 20, 21, 22, 23, 24])"
      ]
     },
     "execution_count": 116,
     "metadata": {},
     "output_type": "execute_result"
    }
   ],
   "source": [
    "a=met[met<25]\n",
    "a"
   ]
  },
  {
   "cell_type": "code",
   "execution_count": null,
   "id": "7e171994-4d88-401f-8e7b-fe23830ceb7e",
   "metadata": {},
   "outputs": [],
   "source": []
  },
  {
   "cell_type": "code",
   "execution_count": 117,
   "id": "98e1138b-20a4-4526-be4f-49cc5729e68a",
   "metadata": {},
   "outputs": [
    {
     "name": "stdout",
     "output_type": "stream",
     "text": [
      "(1, 2, 3, 5, 6)\n"
     ]
    }
   ],
   "source": [
    "#tuple explöring\n",
    "# Creating a tuple with 3 elements\n",
    "tuple1 = (1, 2, 3,5,6)\n",
    "print(tuple1)\n"
   ]
  },
  {
   "cell_type": "code",
   "execution_count": 120,
   "id": "dc7a5a23-2f51-4835-a3f8-6485d9ef6a1b",
   "metadata": {},
   "outputs": [
    {
     "name": "stdout",
     "output_type": "stream",
     "text": [
      "3\n",
      "5\n"
     ]
    }
   ],
   "source": [
    "print(tuple1[2])\n",
    "print(tuple1[3])\n"
   ]
  },
  {
   "cell_type": "code",
   "execution_count": 122,
   "id": "57e743c5-785a-4a72-b1b3-f6470dcdbe85",
   "metadata": {},
   "outputs": [
    {
     "name": "stdout",
     "output_type": "stream",
     "text": [
      "(1, 2, 3, 5, 6, 5, 7, 7.9)\n"
     ]
    }
   ],
   "source": [
    "#Concatenating two tuples:\n",
    "tuple2 = (5,7,7.9)\n",
    "tuple_com= tuple1 + tuple2\n",
    "print(tuple_com)"
   ]
  },
  {
   "cell_type": "code",
   "execution_count": 123,
   "id": "68b3e43b-c02e-42e0-b929-cccab5fe561b",
   "metadata": {},
   "outputs": [
    {
     "data": {
      "text/plain": [
       "(2, 3, 5, 6)"
      ]
     },
     "execution_count": 123,
     "metadata": {},
     "output_type": "execute_result"
    }
   ],
   "source": [
    "\n",
    "#slicing allow\n",
    "tuple_com[1:5]"
   ]
  },
  {
   "cell_type": "code",
   "execution_count": 126,
   "id": "fe653545-d0d9-4018-980e-5ba3dcf3cdd0",
   "metadata": {},
   "outputs": [
    {
     "name": "stdout",
     "output_type": "stream",
     "text": [
      "(5, 5, 8, 6, 9)\n"
     ]
    }
   ],
   "source": [
    "# converting list to tuple\n",
    "list1= [5,5,8,6,9]\n",
    "tuple_3 = tuple(list1)\n",
    "print(tuple_3)\n",
    "\n"
   ]
  },
  {
   "cell_type": "code",
   "execution_count": 127,
   "id": "db8a8b9e-acc3-43fa-b870-5fdfb6f11c9c",
   "metadata": {},
   "outputs": [
    {
     "name": "stdout",
     "output_type": "stream",
     "text": [
      "5\n",
      "5\n",
      "8\n"
     ]
    }
   ],
   "source": [
    "#unpacking tuple\n",
    "a,b,c,d,e= tuple_3\n",
    "print(a)\n",
    "print(b)\n",
    "print(c)"
   ]
  },
  {
   "cell_type": "code",
   "execution_count": 128,
   "id": "d1158526-5094-4687-af5b-e723e2e22d8f",
   "metadata": {},
   "outputs": [
    {
     "data": {
      "text/plain": [
       "(5, 5, 8, 6, 9)"
      ]
     },
     "execution_count": 128,
     "metadata": {},
     "output_type": "execute_result"
    }
   ],
   "source": [
    "tuple_3"
   ]
  },
  {
   "cell_type": "code",
   "execution_count": 129,
   "id": "a384d813-bdc7-4668-95c1-39295b1a97c0",
   "metadata": {},
   "outputs": [
    {
     "ename": "AttributeError",
     "evalue": "'tuple' object has no attribute 'append'",
     "output_type": "error",
     "traceback": [
      "\u001b[0;31m---------------------------------------------------------------------------\u001b[0m",
      "\u001b[0;31mAttributeError\u001b[0m                            Traceback (most recent call last)",
      "Cell \u001b[0;32mIn[129], line 2\u001b[0m\n\u001b[1;32m      1\u001b[0m \u001b[38;5;66;03m#append, add and remove not aplicable in tuple\u001b[39;00m\n\u001b[0;32m----> 2\u001b[0m \u001b[43mtuple_3\u001b[49m\u001b[38;5;241;43m.\u001b[39;49m\u001b[43mappend\u001b[49m(\u001b[38;5;241m50\u001b[39m)\n",
      "\u001b[0;31mAttributeError\u001b[0m: 'tuple' object has no attribute 'append'"
     ]
    }
   ],
   "source": [
    "#append, add and remove not aplicable in tuple\n",
    "tuple_3.append(50)"
   ]
  },
  {
   "cell_type": "code",
   "execution_count": 130,
   "id": "e17f0f09-7b1d-4fe6-8311-836520bae093",
   "metadata": {},
   "outputs": [
    {
     "ename": "AttributeError",
     "evalue": "'tuple' object has no attribute 'add'",
     "output_type": "error",
     "traceback": [
      "\u001b[0;31m---------------------------------------------------------------------------\u001b[0m",
      "\u001b[0;31mAttributeError\u001b[0m                            Traceback (most recent call last)",
      "Cell \u001b[0;32mIn[130], line 1\u001b[0m\n\u001b[0;32m----> 1\u001b[0m \u001b[43mtuple_3\u001b[49m\u001b[38;5;241;43m.\u001b[39;49m\u001b[43madd\u001b[49m(\u001b[38;5;241m30\u001b[39m)\n",
      "\u001b[0;31mAttributeError\u001b[0m: 'tuple' object has no attribute 'add'"
     ]
    }
   ],
   "source": [
    "tuple_3.add(30)"
   ]
  },
  {
   "cell_type": "code",
   "execution_count": 131,
   "id": "ed698104-c920-487c-a925-c7ef222ce1df",
   "metadata": {},
   "outputs": [
    {
     "ename": "AttributeError",
     "evalue": "'tuple' object has no attribute 'remove'",
     "output_type": "error",
     "traceback": [
      "\u001b[0;31m---------------------------------------------------------------------------\u001b[0m",
      "\u001b[0;31mAttributeError\u001b[0m                            Traceback (most recent call last)",
      "Cell \u001b[0;32mIn[131], line 1\u001b[0m\n\u001b[0;32m----> 1\u001b[0m \u001b[43mtuple_3\u001b[49m\u001b[38;5;241;43m.\u001b[39;49m\u001b[43mremove\u001b[49m(\u001b[38;5;241m6\u001b[39m)\n",
      "\u001b[0;31mAttributeError\u001b[0m: 'tuple' object has no attribute 'remove'"
     ]
    }
   ],
   "source": [
    "tuple_3.remove(6)"
   ]
  },
  {
   "cell_type": "code",
   "execution_count": 133,
   "id": "7eedbee3-bfca-4872-81bc-01765804412a",
   "metadata": {},
   "outputs": [
    {
     "name": "stdout",
     "output_type": "stream",
     "text": [
      "(5, 5, 8, 6, 9, 5, 5, 8, 6, 9, 5, 5, 8, 6, 9)\n"
     ]
    }
   ],
   "source": [
    "#but you can duplicate your tuple inside  tuple\n",
    "t_4= tuple_3*3\n",
    "print(t_4)"
   ]
  },
  {
   "cell_type": "code",
   "execution_count": 134,
   "id": "58717da7-e6e1-406f-85b4-13ba7ae95258",
   "metadata": {},
   "outputs": [
    {
     "ename": "TypeError",
     "evalue": "'tuple' object does not support item assignment",
     "output_type": "error",
     "traceback": [
      "\u001b[0;31m---------------------------------------------------------------------------\u001b[0m",
      "\u001b[0;31mTypeError\u001b[0m                                 Traceback (most recent call last)",
      "Cell \u001b[0;32mIn[134], line 2\u001b[0m\n\u001b[1;32m      1\u001b[0m \u001b[38;5;66;03m# you can not replace inside tuple\u001b[39;00m\n\u001b[0;32m----> 2\u001b[0m t_4[\u001b[38;5;241m2\u001b[39m]\u001b[38;5;241m=\u001b[39m \u001b[38;5;241m50\u001b[39m\n",
      "\u001b[0;31mTypeError\u001b[0m: 'tuple' object does not support item assignment"
     ]
    }
   ],
   "source": [
    "# you can not replace inside tuple\n",
    "t_4[2]= 50"
   ]
  },
  {
   "cell_type": "code",
   "execution_count": 135,
   "id": "dbc1c0a8-0ea9-4ae4-9021-e8fcac75c20f",
   "metadata": {},
   "outputs": [
    {
     "data": {
      "text/plain": [
       "(2, 3, 4, [5, 6, 7], 6, 8)"
      ]
     },
     "execution_count": 135,
     "metadata": {},
     "output_type": "execute_result"
    }
   ],
   "source": [
    "#you can declare list in tuple also tuple in tuple\n",
    "tt=(2,3,4,[5,6,7],6,8)\n",
    "tt"
   ]
  },
  {
   "cell_type": "code",
   "execution_count": 136,
   "id": "945cf0a4-7235-4714-a898-54b25d3fd01c",
   "metadata": {},
   "outputs": [
    {
     "data": {
      "text/plain": [
       "(5, 6, 7, (7, 8), 6)"
      ]
     },
     "execution_count": 136,
     "metadata": {},
     "output_type": "execute_result"
    }
   ],
   "source": [
    "tt1=(5,6,7,(7,8),6)\n",
    "tt1"
   ]
  },
  {
   "cell_type": "code",
   "execution_count": 137,
   "id": "643a12cd-2826-4e1b-b8bd-d3f9f4e22dcf",
   "metadata": {},
   "outputs": [
    {
     "data": {
      "text/plain": [
       "('red', 'green', 'blue')"
      ]
     },
     "execution_count": 137,
     "metadata": {},
     "output_type": "execute_result"
    }
   ],
   "source": [
    "#making tuple\n",
    "colors = \"red\", \"green\", \"blue\"\n",
    "colors\n"
   ]
  },
  {
   "cell_type": "code",
   "execution_count": 139,
   "id": "7bfce779-5850-4170-abb0-5dd49522079c",
   "metadata": {},
   "outputs": [
    {
     "data": {
      "text/plain": [
       "('blue', 'green', 'red')"
      ]
     },
     "execution_count": 139,
     "metadata": {},
     "output_type": "execute_result"
    }
   ],
   "source": [
    "#Reversing,The syntax \"[::-1]\" means \"start at the end of the sequence, move backward by one step, and include all elements\n",
    "rev=colors[::-1]\n",
    "rev"
   ]
  },
  {
   "cell_type": "code",
   "execution_count": 140,
   "id": "263ac98b-4ca4-408c-b4b9-178bb56d5a1b",
   "metadata": {},
   "outputs": [
    {
     "data": {
      "text/plain": [
       "('blue', 'red')"
      ]
     },
     "execution_count": 140,
     "metadata": {},
     "output_type": "execute_result"
    }
   ],
   "source": [
    "#The syntax \"[::-2]\" in Python means \"start at the end of the sequence, move backward by two steps, and include all elements until the beginning of the sequence\".\n",
    "rev=colors[::-2]\n",
    "rev"
   ]
  },
  {
   "cell_type": "code",
   "execution_count": 149,
   "id": "bc7d6364-5743-493a-bd7d-87bd37ddaa5f",
   "metadata": {},
   "outputs": [
    {
     "ename": "AttributeError",
     "evalue": "'tuple' object has no attribute 'Del'",
     "output_type": "error",
     "traceback": [
      "\u001b[0;31m---------------------------------------------------------------------------\u001b[0m",
      "\u001b[0;31mAttributeError\u001b[0m                            Traceback (most recent call last)",
      "Cell \u001b[0;32mIn[149], line 1\u001b[0m\n\u001b[0;32m----> 1\u001b[0m \u001b[43mrev\u001b[49m\u001b[38;5;241;43m.\u001b[39;49m\u001b[43mDel\u001b[49m()\n",
      "\u001b[0;31mAttributeError\u001b[0m: 'tuple' object has no attribute 'Del'"
     ]
    }
   ],
   "source": [
    "rev.Del()"
   ]
  },
  {
   "cell_type": "code",
   "execution_count": null,
   "id": "9fca0e5f-a1d9-48b4-ac43-6d8290a3175d",
   "metadata": {},
   "outputs": [],
   "source": []
  }
 ],
 "metadata": {
  "kernelspec": {
   "display_name": "Python 3 (ipykernel)",
   "language": "python",
   "name": "python3"
  },
  "language_info": {
   "codemirror_mode": {
    "name": "ipython",
    "version": 3
   },
   "file_extension": ".py",
   "mimetype": "text/x-python",
   "name": "python",
   "nbconvert_exporter": "python",
   "pygments_lexer": "ipython3",
   "version": "3.10.9"
  }
 },
 "nbformat": 4,
 "nbformat_minor": 5
}
