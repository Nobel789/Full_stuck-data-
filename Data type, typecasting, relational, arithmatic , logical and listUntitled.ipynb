{
 "cells": [
  {
   "cell_type": "code",
   "execution_count": 1,
   "id": "b01c6406-b29d-4768-8a72-fa865f78cf69",
   "metadata": {},
   "outputs": [
    {
     "name": "stdout",
     "output_type": "stream",
     "text": [
      "Collecting package metadata (current_repodata.json): done\n",
      "Solving environment: done\n",
      "\n",
      "\n",
      "==> WARNING: A newer version of conda exists. <==\n",
      "  current version: 4.10.3\n",
      "  latest version: 23.1.0\n",
      "\n",
      "Please update conda by running\n",
      "\n",
      "    $ conda update -n base -c defaults conda\n",
      "\n",
      "\n",
      "\n",
      "# All requested packages already installed.\n",
      "\n",
      "\n",
      "Note: you may need to restart the kernel to use updated packages.\n"
     ]
    }
   ],
   "source": [
    "conda install numpy"
   ]
  },
  {
   "cell_type": "code",
   "execution_count": null,
   "id": "381a8bee-b50a-405e-a6af-6edfd1cdf583",
   "metadata": {},
   "outputs": [],
   "source": [
    "!pip install numpy"
   ]
  },
  {
   "cell_type": "code",
   "execution_count": null,
   "id": "0b21958a-f301-4f2a-afc0-8d7ce1e6bbe5",
   "metadata": {},
   "outputs": [],
   "source": [
    "import numpy as np"
   ]
  },
  {
   "cell_type": "code",
   "execution_count": 1,
   "id": "91ab6a86-f306-4911-ad1b-682e9d83c9ab",
   "metadata": {},
   "outputs": [
    {
     "name": "stdout",
     "output_type": "stream",
     "text": [
      "8\n"
     ]
    }
   ],
   "source": [
    "a=3\n",
    "b=5\n",
    "print(a+b)\n"
   ]
  },
  {
   "cell_type": "code",
   "execution_count": 2,
   "id": "f42deef3-bd81-4289-a33d-3f03c4c3a945",
   "metadata": {},
   "outputs": [
    {
     "data": {
      "text/plain": [
       "int"
      ]
     },
     "execution_count": 2,
     "metadata": {},
     "output_type": "execute_result"
    }
   ],
   "source": [
    "type(a)"
   ]
  },
  {
   "cell_type": "code",
   "execution_count": 3,
   "id": "6ab4c8e2-088b-49dc-86d9-88283cf5ca59",
   "metadata": {},
   "outputs": [
    {
     "data": {
      "text/plain": [
       "str"
      ]
     },
     "execution_count": 3,
     "metadata": {},
     "output_type": "execute_result"
    }
   ],
   "source": [
    "a=\"baaa\"\n",
    "type(a)"
   ]
  },
  {
   "cell_type": "code",
   "execution_count": 5,
   "id": "1f7231a9-1a6a-4f2a-b719-49e1fb00d7c6",
   "metadata": {},
   "outputs": [
    {
     "data": {
      "text/plain": [
       "complex"
      ]
     },
     "execution_count": 5,
     "metadata": {},
     "output_type": "execute_result"
    }
   ],
   "source": [
    "n1= 1+ 2j\n",
    "type(n1)"
   ]
  },
  {
   "cell_type": "code",
   "execution_count": 7,
   "id": "f0cb4145-2652-4ee1-ac46-562780a17de8",
   "metadata": {},
   "outputs": [
    {
     "data": {
      "text/plain": [
       "bool"
      ]
     },
     "execution_count": 7,
     "metadata": {},
     "output_type": "execute_result"
    }
   ],
   "source": [
    "a=True\n",
    "type(a)"
   ]
  },
  {
   "cell_type": "code",
   "execution_count": 10,
   "id": "f39a38a7-a125-4bac-8253-aceadcbeb3a2",
   "metadata": {},
   "outputs": [
    {
     "name": "stdout",
     "output_type": "stream",
     "text": [
      "<class 'str'>\n"
     ]
    }
   ],
   "source": [
    "# convert integer to string\n",
    "x= 3\n",
    "y=str(x)\n",
    "print(type(y))\n"
   ]
  },
  {
   "cell_type": "code",
   "execution_count": 12,
   "id": "2341cb5d-e595-4c5b-b2fa-257fe7ed61db",
   "metadata": {},
   "outputs": [
    {
     "name": "stdout",
     "output_type": "stream",
     "text": [
      "<class 'int'>\n"
     ]
    }
   ],
   "source": [
    "x=\"3\" \n",
    "y=int(x) \n",
    "print(type(y))"
   ]
  },
  {
   "cell_type": "code",
   "execution_count": 13,
   "id": "391a4ec3-8779-47f0-aa54-eed903fd5b8b",
   "metadata": {},
   "outputs": [
    {
     "name": "stdout",
     "output_type": "stream",
     "text": [
      "<class 'int'>\n"
     ]
    }
   ],
   "source": [
    "#convert string to integer\n",
    "x=\"3\"\n",
    "y=int(x)\n",
    "print(type(y))"
   ]
  },
  {
   "cell_type": "code",
   "execution_count": 16,
   "id": "c41ae94a-1f05-434a-a55b-118bf39f0f6a",
   "metadata": {},
   "outputs": [
    {
     "name": "stdout",
     "output_type": "stream",
     "text": [
      "<class 'float'>\n",
      "3.0\n"
     ]
    }
   ],
   "source": [
    "# cconvert string to float\n",
    "x=\"3\"\n",
    "y=float(x)\n",
    "print(type(y))\n",
    "print(y)"
   ]
  },
  {
   "cell_type": "code",
   "execution_count": 17,
   "id": "4089172e-f1ac-4a64-88c2-715900de5496",
   "metadata": {},
   "outputs": [
    {
     "name": "stdout",
     "output_type": "stream",
     "text": [
      "3\n"
     ]
    }
   ],
   "source": [
    "# convert float to integer\n",
    "x=int(y)\n",
    "print(x)"
   ]
  },
  {
   "cell_type": "code",
   "execution_count": 19,
   "id": "5312a102-e87e-4c6a-87c8-bbbc5d142d8f",
   "metadata": {},
   "outputs": [
    {
     "name": "stdout",
     "output_type": "stream",
     "text": [
      "<class 'int'>\n"
     ]
    }
   ],
   "source": [
    "# convert alist of string to list of  intiger\n",
    "x=[\"1\",\"2\",\"3\"]\n",
    "y=list(map(int,x))\n",
    "print(type(y[0]))"
   ]
  },
  {
   "cell_type": "code",
   "execution_count": 22,
   "id": "bd540ce1-aacf-4a08-b352-8751804b6dc7",
   "metadata": {},
   "outputs": [
    {
     "name": "stdout",
     "output_type": "stream",
     "text": [
      "<class 'str'>\n"
     ]
    }
   ],
   "source": [
    "x = (1, 2, 3)\n",
    "y = set(map(str, x))\n",
    "print(type(y.pop()))"
   ]
  },
  {
   "cell_type": "code",
   "execution_count": 23,
   "id": "8effb5ca-7ffd-453e-8beb-31b816c89d16",
   "metadata": {},
   "outputs": [
    {
     "name": "stdout",
     "output_type": "stream",
     "text": [
      "5\n"
     ]
    }
   ],
   "source": [
    "#addition\n",
    "a=2\n",
    "b=3\n",
    "print(a+b)"
   ]
  },
  {
   "cell_type": "code",
   "execution_count": 24,
   "id": "6634b31f-bb85-471b-8162-fcafc902f398",
   "metadata": {},
   "outputs": [
    {
     "name": "stdout",
     "output_type": "stream",
     "text": [
      "3\n"
     ]
    }
   ],
   "source": [
    "#subtruction\n",
    "a=6\n",
    "b=3\n",
    "print(a-b)"
   ]
  },
  {
   "cell_type": "code",
   "execution_count": 25,
   "id": "8b08cbb5-16f2-415a-972d-9fbdd214de98",
   "metadata": {},
   "outputs": [
    {
     "name": "stdout",
     "output_type": "stream",
     "text": [
      "18\n"
     ]
    }
   ],
   "source": [
    "#multiplication'\n",
    "print(a*b)"
   ]
  },
  {
   "cell_type": "code",
   "execution_count": 26,
   "id": "509ec6b2-093f-4328-92da-75d54bf8eda0",
   "metadata": {},
   "outputs": [
    {
     "name": "stdout",
     "output_type": "stream",
     "text": [
      "512\n"
     ]
    }
   ],
   "source": [
    "#exponential\n",
    "print(8**3)"
   ]
  },
  {
   "cell_type": "code",
   "execution_count": 27,
   "id": "d8d70662-ce5b-44c5-a4fe-d86be419778d",
   "metadata": {},
   "outputs": [
    {
     "name": "stdout",
     "output_type": "stream",
     "text": [
      "2.6666666666666665\n"
     ]
    }
   ],
   "source": [
    "#division\n",
    "print(8/3)"
   ]
  },
  {
   "cell_type": "code",
   "execution_count": 28,
   "id": "315e8cd9-12c4-42e9-a0e6-8b561385cfb4",
   "metadata": {},
   "outputs": [
    {
     "name": "stdout",
     "output_type": "stream",
     "text": [
      "2\n"
     ]
    }
   ],
   "source": [
    "#floor division\n",
    "print(8//3)"
   ]
  },
  {
   "cell_type": "code",
   "execution_count": 30,
   "id": "f70fe43d-084f-4775-9951-7583d7e792f0",
   "metadata": {},
   "outputs": [
    {
     "name": "stdout",
     "output_type": "stream",
     "text": [
      "2\n"
     ]
    }
   ],
   "source": [
    "#module\n",
    "print(8%3)"
   ]
  },
  {
   "cell_type": "code",
   "execution_count": 31,
   "id": "12b99694-a6ed-4230-8552-b5b06122fb56",
   "metadata": {},
   "outputs": [
    {
     "name": "stdout",
     "output_type": "stream",
     "text": [
      "False\n"
     ]
    }
   ],
   "source": [
    "# Equal to ==\n",
    "a = 10\n",
    "b = 5\n",
    "print(a == b)  \n"
   ]
  },
  {
   "cell_type": "code",
   "execution_count": 32,
   "id": "f9948e30-758c-491b-ae6c-8859191192f6",
   "metadata": {},
   "outputs": [
    {
     "name": "stdout",
     "output_type": "stream",
     "text": [
      "True\n"
     ]
    }
   ],
   "source": [
    "# not Equal to !=\n",
    "a = 10\n",
    "b = 5\n",
    "print(a != b)  \n"
   ]
  },
  {
   "cell_type": "code",
   "execution_count": 33,
   "id": "a9987e88-1076-4ded-9d01-db748535d98d",
   "metadata": {},
   "outputs": [
    {
     "name": "stdout",
     "output_type": "stream",
     "text": [
      "True\n"
     ]
    }
   ],
   "source": [
    "# Greater than >\n",
    "a = 10\n",
    "b = 5\n",
    "print(a > b)  \n"
   ]
  },
  {
   "cell_type": "code",
   "execution_count": 34,
   "id": "94e02ff8-396d-4fa0-a618-88e5d8a2e8a0",
   "metadata": {},
   "outputs": [
    {
     "name": "stdout",
     "output_type": "stream",
     "text": [
      "False\n"
     ]
    }
   ],
   "source": [
    "# Less than<\n",
    "a = 10\n",
    "b = 5\n",
    "print(a < b)  \n"
   ]
  },
  {
   "cell_type": "code",
   "execution_count": 36,
   "id": "7243d55e-c7ae-4c98-9822-561d952c9651",
   "metadata": {},
   "outputs": [
    {
     "name": "stdout",
     "output_type": "stream",
     "text": [
      "True\n"
     ]
    }
   ],
   "source": [
    "#  Greater than or Equal to>=\n",
    "a = 10\n",
    "b = 5\n",
    "print(a >= b)  \n"
   ]
  },
  {
   "cell_type": "code",
   "execution_count": 37,
   "id": "7604badd-570c-4cce-92c2-d9e66f16eb29",
   "metadata": {},
   "outputs": [
    {
     "name": "stdout",
     "output_type": "stream",
     "text": [
      "False\n"
     ]
    }
   ],
   "source": [
    "#  les than Equal to <=\n",
    "a = 10\n",
    "b = 5\n",
    "print(a <= b)  \n"
   ]
  },
  {
   "cell_type": "code",
   "execution_count": 38,
   "id": "2e48678a-5526-48be-bb10-9f8df4ecb63c",
   "metadata": {},
   "outputs": [
    {
     "name": "stdout",
     "output_type": "stream",
     "text": [
      "False\n"
     ]
    }
   ],
   "source": [
    "# Logical operator\n",
    "#And\n",
    "a = True\n",
    "b = False\n",
    "print(a and b)"
   ]
  },
  {
   "cell_type": "code",
   "execution_count": 39,
   "id": "51e247a6-4946-4ac7-869f-40f16e3778ce",
   "metadata": {},
   "outputs": [
    {
     "name": "stdout",
     "output_type": "stream",
     "text": [
      "True\n"
     ]
    }
   ],
   "source": [
    "#or\n",
    "a = True\n",
    "b = False\n",
    "print(a or b)"
   ]
  },
  {
   "cell_type": "code",
   "execution_count": 43,
   "id": "52ac4f53-2265-41f2-9ad9-2c1cc8534de3",
   "metadata": {},
   "outputs": [
    {
     "name": "stdout",
     "output_type": "stream",
     "text": [
      "False\n"
     ]
    }
   ],
   "source": [
    "#Not\n",
    "a = True\n",
    "\n",
    "print(not a)"
   ]
  },
  {
   "cell_type": "code",
   "execution_count": 44,
   "id": "e4f67f83-55bb-49f1-9fd9-8705b1f270fc",
   "metadata": {},
   "outputs": [
    {
     "name": "stdout",
     "output_type": "stream",
     "text": [
      "False\n",
      "True\n",
      "False\n"
     ]
    }
   ],
   "source": [
    "#combination\n",
    "a = 10\n",
    "b = 5\n",
    "c = 7\n",
    "print(a > b and b > c)\n",
    "print(a > b or b > c) \n",
    "print(not a > b) "
   ]
  },
  {
   "cell_type": "code",
   "execution_count": 45,
   "id": "4516232e-f4a7-438b-96dc-d3b0bb211321",
   "metadata": {},
   "outputs": [
    {
     "name": "stdout",
     "output_type": "stream",
     "text": [
      "9\n"
     ]
    }
   ],
   "source": [
    "ABCD=9\n",
    "print(ABCD)"
   ]
  },
  {
   "cell_type": "code",
   "execution_count": 47,
   "id": "d414d52a-645a-449c-a305-4e2246ffe351",
   "metadata": {},
   "outputs": [
    {
     "name": "stdout",
     "output_type": "stream",
     "text": [
      "10\n"
     ]
    }
   ],
   "source": [
    "abc=10\n",
    "print(abc)"
   ]
  },
  {
   "cell_type": "code",
   "execution_count": 48,
   "id": "fe72b3dc-4f76-4af1-93da-8b53528dd21a",
   "metadata": {},
   "outputs": [
    {
     "name": "stdout",
     "output_type": "stream",
     "text": [
      "56\n"
     ]
    }
   ],
   "source": [
    "abc1=56\n",
    "print(abc1)"
   ]
  },
  {
   "cell_type": "code",
   "execution_count": 49,
   "id": "ea9f46cf-2065-4339-acf6-dc7f0b24c862",
   "metadata": {},
   "outputs": [
    {
     "ename": "NameError",
     "evalue": "name 'nit' is not defined",
     "output_type": "error",
     "traceback": [
      "\u001b[0;31m---------------------------------------------------------------------------\u001b[0m",
      "\u001b[0;31mNameError\u001b[0m                                 Traceback (most recent call last)",
      "\u001b[0;32m/var/folders/nn/vcmtyf8n1pl_gm88tw6nx6hw0000gn/T/ipykernel_52152/1529572142.py\u001b[0m in \u001b[0;36m<module>\u001b[0;34m\u001b[0m\n\u001b[1;32m      1\u001b[0m \u001b[0mNIT\u001b[0m\u001b[0;34m=\u001b[0m\u001b[0;36m800\u001b[0m\u001b[0;34m\u001b[0m\u001b[0;34m\u001b[0m\u001b[0m\n\u001b[0;32m----> 2\u001b[0;31m \u001b[0mnit\u001b[0m\u001b[0;34m\u001b[0m\u001b[0;34m\u001b[0m\u001b[0m\n\u001b[0m",
      "\u001b[0;31mNameError\u001b[0m: name 'nit' is not defined"
     ]
    }
   ],
   "source": [
    "NIT=800\n",
    "nit"
   ]
  },
  {
   "cell_type": "code",
   "execution_count": 50,
   "id": "d6f0a62b-1367-4e93-8522-1499746af6b9",
   "metadata": {},
   "outputs": [
    {
     "ename": "NameError",
     "evalue": "name 'C' is not defined",
     "output_type": "error",
     "traceback": [
      "\u001b[0;31m---------------------------------------------------------------------------\u001b[0m",
      "\u001b[0;31mNameError\u001b[0m                                 Traceback (most recent call last)",
      "\u001b[0;32m/var/folders/nn/vcmtyf8n1pl_gm88tw6nx6hw0000gn/T/ipykernel_52152/2451882590.py\u001b[0m in \u001b[0;36m<module>\u001b[0;34m\u001b[0m\n\u001b[1;32m      1\u001b[0m \u001b[0mcash\u001b[0m\u001b[0;34m=\u001b[0m\u001b[0;36m45\u001b[0m\u001b[0;34m\u001b[0m\u001b[0;34m\u001b[0m\u001b[0m\n\u001b[0;32m----> 2\u001b[0;31m \u001b[0mprint\u001b[0m\u001b[0;34m(\u001b[0m\u001b[0mC\u001b[0m\u001b[0;34m*\u001b[0m\u001b[0mash\u001b[0m\u001b[0;34m)\u001b[0m\u001b[0;34m\u001b[0m\u001b[0;34m\u001b[0m\u001b[0m\n\u001b[0m",
      "\u001b[0;31mNameError\u001b[0m: name 'C' is not defined"
     ]
    }
   ],
   "source": [
    "cash=45\n",
    "print(C*ash)"
   ]
  },
  {
   "cell_type": "code",
   "execution_count": 51,
   "id": "d46ed338-ffc1-4092-9453-5db46a98ae44",
   "metadata": {},
   "outputs": [
    {
     "data": {
      "text/plain": [
       "140425831972944"
      ]
     },
     "execution_count": 51,
     "metadata": {},
     "output_type": "execute_result"
    }
   ],
   "source": [
    "ga=56\n",
    "id(ga)"
   ]
  },
  {
   "cell_type": "code",
   "execution_count": 54,
   "id": "522b87ec-aab7-450e-93dd-d3cef3ee9f16",
   "metadata": {},
   "outputs": [
    {
     "ename": "SyntaxError",
     "evalue": "invalid syntax (1809762763.py, line 1)",
     "output_type": "error",
     "traceback": [
      "\u001b[0;36m  File \u001b[0;32m\"/var/folders/nn/vcmtyf8n1pl_gm88tw6nx6hw0000gn/T/ipykernel_52152/1809762763.py\"\u001b[0;36m, line \u001b[0;32m1\u001b[0m\n\u001b[0;31m    def abc=5\u001b[0m\n\u001b[0m           ^\u001b[0m\n\u001b[0;31mSyntaxError\u001b[0m\u001b[0;31m:\u001b[0m invalid syntax\n"
     ]
    }
   ],
   "source": [
    "def abc=5\n",
    "print(abc)"
   ]
  },
  {
   "cell_type": "code",
   "execution_count": 57,
   "id": "cb40fd62-2813-4a39-bbcc-b84ed6778c95",
   "metadata": {},
   "outputs": [
    {
     "ename": "NameError",
     "evalue": "name 'kwlist' is not defined",
     "output_type": "error",
     "traceback": [
      "\u001b[0;31m---------------------------------------------------------------------------\u001b[0m",
      "\u001b[0;31mNameError\u001b[0m                                 Traceback (most recent call last)",
      "\u001b[0;32m/var/folders/nn/vcmtyf8n1pl_gm88tw6nx6hw0000gn/T/ipykernel_52152/1790984397.py\u001b[0m in \u001b[0;36m<module>\u001b[0;34m\u001b[0m\n\u001b[0;32m----> 1\u001b[0;31m \u001b[0mprint\u001b[0m\u001b[0;34m(\u001b[0m\u001b[0mkwlist\u001b[0m\u001b[0;34m)\u001b[0m\u001b[0;34m\u001b[0m\u001b[0;34m\u001b[0m\u001b[0m\n\u001b[0m",
      "\u001b[0;31mNameError\u001b[0m: name 'kwlist' is not defined"
     ]
    }
   ],
   "source": [
    "print(kwlist)"
   ]
  },
  {
   "cell_type": "code",
   "execution_count": 58,
   "id": "878a702f-5716-4e01-a74e-d6027d436d4f",
   "metadata": {},
   "outputs": [
    {
     "ename": "SyntaxError",
     "evalue": "invalid digit '2' in binary literal (548276172.py, line 1)",
     "output_type": "error",
     "traceback": [
      "\u001b[0;36m  File \u001b[0;32m\"/var/folders/nn/vcmtyf8n1pl_gm88tw6nx6hw0000gn/T/ipykernel_52152/548276172.py\"\u001b[0;36m, line \u001b[0;32m1\u001b[0m\n\u001b[0;31m    a5=0b2\u001b[0m\n\u001b[0m        ^\u001b[0m\n\u001b[0;31mSyntaxError\u001b[0m\u001b[0;31m:\u001b[0m invalid digit '2' in binary literal\n"
     ]
    }
   ],
   "source": [
    "a5=0b2\n",
    "print(a5)"
   ]
  },
  {
   "cell_type": "code",
   "execution_count": 59,
   "id": "6f543f1e-8e60-4879-af7d-1507e1cbbf70",
   "metadata": {},
   "outputs": [
    {
     "ename": "SyntaxError",
     "evalue": "invalid syntax (3376368675.py, line 1)",
     "output_type": "error",
     "traceback": [
      "\u001b[0;36m  File \u001b[0;32m\"/var/folders/nn/vcmtyf8n1pl_gm88tw6nx6hw0000gn/T/ipykernel_52152/3376368675.py\"\u001b[0;36m, line \u001b[0;32m1\u001b[0m\n\u001b[0;31m    a6=1b1\u001b[0m\n\u001b[0m        ^\u001b[0m\n\u001b[0;31mSyntaxError\u001b[0m\u001b[0;31m:\u001b[0m invalid syntax\n"
     ]
    }
   ],
   "source": [
    "a6=1b1\n",
    "print(a6)"
   ]
  },
  {
   "cell_type": "code",
   "execution_count": 60,
   "id": "89905a97-8079-4347-82a2-174dcf4b789b",
   "metadata": {},
   "outputs": [
    {
     "name": "stdout",
     "output_type": "stream",
     "text": [
      "1011\n"
     ]
    }
   ],
   "source": [
    "a=1011\n",
    "print(a)"
   ]
  },
  {
   "cell_type": "code",
   "execution_count": 61,
   "id": "d5ba57c4-4523-4323-ae5c-347b44d4d711",
   "metadata": {},
   "outputs": [
    {
     "name": "stdout",
     "output_type": "stream",
     "text": [
      "1\n",
      "2\n",
      "0\n",
      "3\n"
     ]
    }
   ],
   "source": [
    "a = 0b01   # This assigns a binary value of 01 (which is 1 in decimal) to the variable 'a'\n",
    "b = 0b10   # This assigns a binary value of 10 (which is 2 in decimal) to the variable 'b'\n",
    "\n",
    "print(a)   # Output: 1\n",
    "print(b)   # Output: 2\n",
    "\n",
    "# We can use the bitwise operators to manipulate binary values\n",
    "c = a & b  # Bitwise AND operator between a and b\n",
    "d = a | b  # Bitwise OR operator between a and b\n",
    "\n",
    "print(c)   # Output: 0\n",
    "print(d)   # Output: 3"
   ]
  },
  {
   "cell_type": "code",
   "execution_count": 62,
   "id": "6fd32d71-4ab6-48cd-9847-bc19e74ecaeb",
   "metadata": {},
   "outputs": [
    {
     "name": "stdout",
     "output_type": "stream",
     "text": [
      "10\n",
      "12\n",
      "22\n"
     ]
    }
   ],
   "source": [
    "# Binary numbers\n",
    "a = 0b1010\n",
    "b = 0b1100\n",
    "print(a)\n",
    "print(b)\n",
    "print(a+b)"
   ]
  },
  {
   "cell_type": "code",
   "execution_count": 64,
   "id": "5b0793e3-c56d-4789-a359-6b1efc882b5a",
   "metadata": {},
   "outputs": [
    {
     "name": "stdout",
     "output_type": "stream",
     "text": [
      "83\n",
      "302\n",
      "385\n"
     ]
    }
   ],
   "source": [
    "# Octal numbers\n",
    "c = 0o123\n",
    "d = 0o456\n",
    "print(c)\n",
    "print(d)\n",
    "print(c+d)"
   ]
  },
  {
   "cell_type": "code",
   "execution_count": 65,
   "id": "04e59f80-be6d-4c45-b6c1-611577baa01a",
   "metadata": {},
   "outputs": [
    {
     "ename": "ZeroDivisionError",
     "evalue": "division by zero",
     "output_type": "error",
     "traceback": [
      "\u001b[0;31m---------------------------------------------------------------------------\u001b[0m",
      "\u001b[0;31mZeroDivisionError\u001b[0m                         Traceback (most recent call last)",
      "\u001b[0;32m/var/folders/nn/vcmtyf8n1pl_gm88tw6nx6hw0000gn/T/ipykernel_52152/639345846.py\u001b[0m in \u001b[0;36m<module>\u001b[0;34m\u001b[0m\n\u001b[1;32m      1\u001b[0m \u001b[0mA\u001b[0m\u001b[0;34m=\u001b[0m\u001b[0;32mTrue\u001b[0m\u001b[0;34m\u001b[0m\u001b[0;34m\u001b[0m\u001b[0m\n\u001b[1;32m      2\u001b[0m \u001b[0mB\u001b[0m\u001b[0;34m=\u001b[0m\u001b[0;32mFalse\u001b[0m\u001b[0;34m\u001b[0m\u001b[0;34m\u001b[0m\u001b[0m\n\u001b[0;32m----> 3\u001b[0;31m \u001b[0mprint\u001b[0m\u001b[0;34m(\u001b[0m\u001b[0mA\u001b[0m\u001b[0;34m/\u001b[0m\u001b[0mB\u001b[0m\u001b[0;34m)\u001b[0m\u001b[0;34m\u001b[0m\u001b[0;34m\u001b[0m\u001b[0m\n\u001b[0m",
      "\u001b[0;31mZeroDivisionError\u001b[0m: division by zero"
     ]
    }
   ],
   "source": [
    "A=True\n",
    "B=False\n",
    "print(A/B)"
   ]
  },
  {
   "cell_type": "code",
   "execution_count": 66,
   "id": "906075e3-62b0-42ae-8f2b-5efbd5afdc6e",
   "metadata": {},
   "outputs": [
    {
     "ename": "ZeroDivisionError",
     "evalue": "division by zero",
     "output_type": "error",
     "traceback": [
      "\u001b[0;31m---------------------------------------------------------------------------\u001b[0m",
      "\u001b[0;31mZeroDivisionError\u001b[0m                         Traceback (most recent call last)",
      "\u001b[0;32m/var/folders/nn/vcmtyf8n1pl_gm88tw6nx6hw0000gn/T/ipykernel_52152/2919721171.py\u001b[0m in \u001b[0;36m<module>\u001b[0;34m\u001b[0m\n\u001b[0;32m----> 1\u001b[0;31m \u001b[0mprint\u001b[0m\u001b[0;34m(\u001b[0m\u001b[0mB\u001b[0m\u001b[0;34m/\u001b[0m\u001b[0mB\u001b[0m\u001b[0;34m)\u001b[0m\u001b[0;34m\u001b[0m\u001b[0;34m\u001b[0m\u001b[0m\n\u001b[0m",
      "\u001b[0;31mZeroDivisionError\u001b[0m: division by zero"
     ]
    }
   ],
   "source": [
    "print(B/B)"
   ]
  },
  {
   "cell_type": "code",
   "execution_count": 67,
   "id": "ec6cc43f-59af-47dd-a9b2-d72d777f65e9",
   "metadata": {},
   "outputs": [
    {
     "data": {
      "text/plain": [
       "True"
      ]
     },
     "execution_count": 67,
     "metadata": {},
     "output_type": "execute_result"
    }
   ],
   "source": [
    "bool(True)"
   ]
  },
  {
   "cell_type": "code",
   "execution_count": 68,
   "id": "352eed47-c8ec-4064-9cfe-811ec7916e58",
   "metadata": {},
   "outputs": [
    {
     "data": {
      "text/plain": [
       "1"
      ]
     },
     "execution_count": 68,
     "metadata": {},
     "output_type": "execute_result"
    }
   ],
   "source": [
    "int(True)"
   ]
  },
  {
   "cell_type": "code",
   "execution_count": 69,
   "id": "b32fb2fd-d113-47d0-ab66-a6dd10cc52dc",
   "metadata": {},
   "outputs": [
    {
     "data": {
      "text/plain": [
       "['apple', 'banana', 'cherry']"
      ]
     },
     "execution_count": 69,
     "metadata": {},
     "output_type": "execute_result"
    }
   ],
   "source": [
    "#Creating a list:\n",
    "\n",
    "fruits = ['apple', 'banana', 'cherry']\n",
    "fruits"
   ]
  },
  {
   "cell_type": "code",
   "execution_count": 71,
   "id": "3d50d977-1d40-4852-8487-64169159beaa",
   "metadata": {},
   "outputs": [
    {
     "data": {
      "text/plain": [
       "'banana'"
      ]
     },
     "execution_count": 71,
     "metadata": {},
     "output_type": "execute_result"
    }
   ],
   "source": [
    "#accesing the list\n",
    "fruits[1]"
   ]
  },
  {
   "cell_type": "code",
   "execution_count": 72,
   "id": "3785d2f4-92ba-4df1-b602-b97cf58e20d6",
   "metadata": {},
   "outputs": [
    {
     "data": {
      "text/plain": [
       "'cherry'"
      ]
     },
     "execution_count": 72,
     "metadata": {},
     "output_type": "execute_result"
    }
   ],
   "source": [
    "fruits[-1]"
   ]
  },
  {
   "cell_type": "code",
   "execution_count": 75,
   "id": "4857406f-fe7e-47d8-9ec7-32983fa3746c",
   "metadata": {},
   "outputs": [
    {
     "data": {
      "text/plain": [
       "['apple', 'banana', 'cherry', 'apple', 'apple']"
      ]
     },
     "execution_count": 75,
     "metadata": {},
     "output_type": "execute_result"
    }
   ],
   "source": [
    "#adding the list\n",
    "fruits.append(\"apple\")\n",
    "fruits"
   ]
  },
  {
   "cell_type": "code",
   "execution_count": 77,
   "id": "0214c72f-f1b8-4642-8a70-48cef7fa051f",
   "metadata": {},
   "outputs": [
    {
     "data": {
      "text/plain": [
       "['banana', 'cherry', 'apple']"
      ]
     },
     "execution_count": 77,
     "metadata": {},
     "output_type": "execute_result"
    }
   ],
   "source": [
    "fruits.remove(\"apple\")\n",
    "fruits"
   ]
  },
  {
   "cell_type": "code",
   "execution_count": 78,
   "id": "d898d5ad-0918-4ded-9527-ffe3817d3917",
   "metadata": {},
   "outputs": [
    {
     "data": {
      "text/plain": [
       "['banana', 'pineapple', 'apple']"
      ]
     },
     "execution_count": 78,
     "metadata": {},
     "output_type": "execute_result"
    }
   ],
   "source": [
    "#replacing the item in list\n",
    "fruits[1]=(\"pineapple\")\n",
    "fruits\n"
   ]
  },
  {
   "cell_type": "code",
   "execution_count": 79,
   "id": "73d70a2a-4b9d-4def-8a27-e548cd7f21f2",
   "metadata": {},
   "outputs": [
    {
     "data": {
      "text/plain": [
       "['banana', 'pineapple']"
      ]
     },
     "execution_count": 79,
     "metadata": {},
     "output_type": "execute_result"
    }
   ],
   "source": [
    "#slicing a list\n",
    "fruits[1:3]\n",
    "fruits[2:]\n",
    "fruits[:2]"
   ]
  },
  {
   "cell_type": "code",
   "execution_count": 80,
   "id": "738d2e03-433c-49a3-8562-1f23573eb727",
   "metadata": {},
   "outputs": [
    {
     "data": {
      "text/plain": [
       "['apple']"
      ]
     },
     "execution_count": 80,
     "metadata": {},
     "output_type": "execute_result"
    }
   ],
   "source": [
    "fruits[2:]"
   ]
  },
  {
   "cell_type": "code",
   "execution_count": 81,
   "id": "a7b36119-c489-452f-82c1-db29933eaefa",
   "metadata": {},
   "outputs": [
    {
     "data": {
      "text/plain": [
       "['banana', 'pineapple']"
      ]
     },
     "execution_count": 81,
     "metadata": {},
     "output_type": "execute_result"
    }
   ],
   "source": [
    "fruits[:2]"
   ]
  },
  {
   "cell_type": "code",
   "execution_count": 88,
   "id": "b5b4278f-c74a-4f5b-a81a-77461eaf6b56",
   "metadata": {},
   "outputs": [
    {
     "name": "stdout",
     "output_type": "stream",
     "text": [
      "banana is in the list\n"
     ]
    }
   ],
   "source": [
    "#check elements in the list\n",
    "\n",
    "if 'banana' in fruits:\n",
    "    print('banana is in the list')\n",
    "else:\n",
    "    print('banana is not in the list')\n"
   ]
  },
  {
   "cell_type": "code",
   "execution_count": 91,
   "id": "fad83f86-1018-4f48-be64-de0107b5d05c",
   "metadata": {},
   "outputs": [
    {
     "data": {
      "text/plain": [
       "['apple', 'banana', 'pineapple']"
      ]
     },
     "execution_count": 91,
     "metadata": {},
     "output_type": "execute_result"
    }
   ],
   "source": [
    "#sorting a list\n",
    "fruits.sort()\n",
    "fruits"
   ]
  },
  {
   "cell_type": "code",
   "execution_count": 92,
   "id": "76a0caca-2526-4929-849e-3760d570bc61",
   "metadata": {},
   "outputs": [
    {
     "data": {
      "text/plain": [
       "['pineapple', 'banana', 'apple']"
      ]
     },
     "execution_count": 92,
     "metadata": {},
     "output_type": "execute_result"
    }
   ],
   "source": [
    "fruits.reverse()\n",
    "fruits"
   ]
  },
  {
   "cell_type": "markdown",
   "id": "64844cc4-d717-4ba7-81a1-4901c28c8c2d",
   "metadata": {},
   "source": [
    "# Working on tuple\n"
   ]
  },
  {
   "cell_type": "code",
   "execution_count": null,
   "id": "9c7ab252-d818-420c-b87f-089fb3894672",
   "metadata": {},
   "outputs": [],
   "source": []
  }
 ],
 "metadata": {
  "kernelspec": {
   "display_name": "Python 3 (ipykernel)",
   "language": "python",
   "name": "python3"
  },
  "language_info": {
   "codemirror_mode": {
    "name": "ipython",
    "version": 3
   },
   "file_extension": ".py",
   "mimetype": "text/x-python",
   "name": "python",
   "nbconvert_exporter": "python",
   "pygments_lexer": "ipython3",
   "version": "3.9.7"
  }
 },
 "nbformat": 4,
 "nbformat_minor": 5
}
